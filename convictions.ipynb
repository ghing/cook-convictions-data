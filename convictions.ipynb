{
 "metadata": {
  "name": "",
  "signature": "sha256:4738b4464d855dec50b6ed903a93d2e395d3070224adc56bc48f82e85f886fd1"
 },
 "nbformat": 3,
 "nbformat_minor": 0,
 "worksheets": [
  {
   "cells": [
    {
     "cell_type": "code",
     "collapsed": false,
     "input": [
      "import csv\n",
      "from functools import reduce\n",
      "import json\n",
      "import sys\n",
      "\n",
      "import numpy as np\n",
      "import matplotlib.pyplot as plt\n",
      "\n",
      "from convictions_data.models import Disposition\n",
      "\n",
      "%matplotlib inline"
     ],
     "language": "python",
     "metadata": {},
     "outputs": [],
     "prompt_number": 2
    },
    {
     "cell_type": "markdown",
     "metadata": {},
     "source": [
      "## What are we counting here?\n",
      "\n",
      "tl;dr: **Records != Convictions != People**\n",
      "\n",
      "Each record represents a disposition, which is refers to a court's final determination of a case or issue.  Our data set appears to only have dispositions that are related to charges where there was a conviction. So, we don't have dispositions related to charges where someone was found not guilty. \n",
      "\n",
      "There can be multiple records for a single case."
     ]
    },
    {
     "cell_type": "code",
     "collapsed": false,
     "input": [
      "num_records = Disposition.objects.count()\n",
      "num_cases = Disposition.objects.values('case_number').distinct().count()\n",
      "\n",
      "print(\"There are {} records in our dataset.\".format(num_records))\n",
      "print(\"These are from {} cases.\".format(num_cases))"
     ],
     "language": "python",
     "metadata": {},
     "outputs": [
      {
       "output_type": "stream",
       "stream": "stdout",
       "text": [
        "There are 321590 records in our dataset.\n",
        "These are from 161150 cases.\n"
       ]
      }
     ],
     "prompt_number": 2
    },
    {
     "cell_type": "markdown",
     "metadata": {},
     "source": [
      "## Excluded rows\n",
      "\n",
      "It seems our data contains all dispositions relating to conviction charges from 2005-2009.  However, it is very possible that some of the cases reflected in our data have dispositions from before 2005 that don't appear in our dataset since we [decided to count convictions based on charges on the first disposition date](https://github.com/sc3/cook-convictions/issues/41), we're going to limit our analysis to dispositions whose initial date is in 2005."
     ]
    },
    {
     "cell_type": "code",
     "collapsed": false,
     "input": [
      "from datetime import datetime\n",
      "in_analysis = Disposition.objects.in_analysis()\n",
      "cases_in_analysis = in_analysis.values('case_number').distinct()\n",
      "print(\"There are {} dispositions in cases with an initital date >= 2005\".format(in_analysis.count()))\n",
      "print(\"There are {} cases with an initial date >= 2005\".format(cases_in_analysis.count()))\n",
      "print(in_analysis.order_by('initial_date')[0].initial_date)\n",
      "print(Disposition.objects.filter(chrgdispdate__gte=datetime(year=2005,month=1,day=1)).count())"
     ],
     "language": "python",
     "metadata": {},
     "outputs": [
      {
       "output_type": "stream",
       "stream": "stdout",
       "text": [
        "There are 270595 dispositions in cases with an initital date >= 2005\n",
        "There are 136385 cases with an initial date >= 2005"
       ]
      },
      {
       "output_type": "stream",
       "stream": "stdout",
       "text": [
        "\n",
        "2005-01-02"
       ]
      },
      {
       "output_type": "stream",
       "stream": "stdout",
       "text": [
        "\n",
        "321122"
       ]
      },
      {
       "output_type": "stream",
       "stream": "stdout",
       "text": [
        "\n"
       ]
      }
     ],
     "prompt_number": 5
    },
    {
     "cell_type": "markdown",
     "metadata": {},
     "source": [
      "Some records did not have statutes that could easily be parsed into IUCR codes"
     ]
    },
    {
     "cell_type": "code",
     "collapsed": false,
     "input": [
      "print(Disposition.objects.exclude(final_statute=\"\").filter(iucr_code=\"\").count())"
     ],
     "language": "python",
     "metadata": {},
     "outputs": [
      {
       "output_type": "stream",
       "stream": "stdout",
       "text": [
        "114185\n"
       ]
      }
     ],
     "prompt_number": 4
    },
    {
     "cell_type": "markdown",
     "metadata": {},
     "source": [
      "Other records did not have an address that could be geocoded"
     ]
    },
    {
     "cell_type": "code",
     "collapsed": false,
     "input": [
      "print(Disposition.objects.all().count()-Disposition.objects.has_geocodable_address().count())"
     ],
     "language": "python",
     "metadata": {},
     "outputs": [
      {
       "output_type": "stream",
       "stream": "stdout",
       "text": [
        "5757\n"
       ]
      }
     ],
     "prompt_number": 5
    },
    {
     "cell_type": "markdown",
     "metadata": {},
     "source": [
      "We were able to geocode all the Cook county or Chicago records that had good addresses."
     ]
    },
    {
     "cell_type": "code",
     "collapsed": false,
     "input": [
      "cook_q = Q(county=\"Cook\", state=\"IL\")\n",
      "chi_zip_q = Q(zipcode__startswith=\"606\")\n",
      "print(Disposition.objects.filter(cook_q | chi_zip_q).has_geocodable_address().ungeocoded().count())"
     ],
     "language": "python",
     "metadata": {},
     "outputs": [
      {
       "output_type": "stream",
       "stream": "stdout",
       "text": [
        "0\n"
       ]
      }
     ],
     "prompt_number": 6
    },
    {
     "cell_type": "markdown",
     "metadata": {},
     "source": [
      "Some rows were misaligned. These will be fixed eventually, but for the initial pass, we should exclude them."
     ]
    },
    {
     "cell_type": "code",
     "collapsed": false,
     "input": [
      "unique_chrgclasses = Disposition.objects.values_list('chrgclass').distinct()\n",
      "for chrgclass in unique_chrgclasses:\n",
      "    print(chrgclass[0])\n",
      "print()\n",
      "\n",
      "without_bad_chrgclass = Disposition.objects.filter(chrgclass__regex=r'^[A-Z0-9]{0,1}$')\n",
      "print(\"Without bad charge classes:\")\n",
      "for chrgclass in without_bad_chrgclass.values_list('chrgclass').distinct():\n",
      "    print(chrgclass[0])"
     ],
     "language": "python",
     "metadata": {},
     "outputs": [
      {
       "output_type": "stream",
       "stream": "stdout",
       "text": [
        "X\n",
        "3\n",
        "1\n",
        "2\n",
        "M\n",
        "U\n",
        "Z\n",
        "4\n",
        "N\n",
        "A\n",
        "\n",
        "G\n",
        "B\n",
        "DEF SENTENCED TO PROBATION\n",
        "CREDIT DEFENDANT FOR TIME SERV\n",
        "P\n",
        "DEF SENTENCED ILLINOIS DOC\n",
        "C\n",
        "DEF SENTENCED TO COOK CNTY DOC\n",
        "DEF SENT CONDITIONAL DISCHARGE\n",
        "PROB AND OTHER DISC CONDS\n",
        "SENTENCED TO COMMUNITY SERVICE\n",
        "SENTENCED CCDOC BOOT CAMP\n",
        "T\n",
        "ELIGIBLE IMPACT PROG-BOOT CAMP\n",
        "\n",
        "Without bad charge classes:\n",
        "X"
       ]
      },
      {
       "output_type": "stream",
       "stream": "stdout",
       "text": [
        "\n",
        "3\n",
        "1\n",
        "2\n",
        "M\n",
        "U\n",
        "Z\n",
        "4\n",
        "N\n",
        "A\n",
        "\n",
        "G\n",
        "B\n",
        "P\n",
        "C\n",
        "T\n"
       ]
      }
     ],
     "prompt_number": 3
    },
    {
     "cell_type": "markdown",
     "metadata": {},
     "source": [
      "## From disposition to conviction"
     ]
    },
    {
     "cell_type": "code",
     "collapsed": false,
     "input": [
      "in_analysis = Disposition.objects.in_analysis()\n",
      "# Get the date of the first disposition for each case\n",
      "cases_in_analysis = in_analysis.values('case_number').distinct()\n",
      "first_chrgdispdates = in_analysis.values('case_number').annotate(first_chrgdispdate=Min('chrgdispdate')).values_list('case_number', 'first_chrgdispdate')\n",
      "assert cases_in_analysis.count() == first_chrgdispdates.count()"
     ],
     "language": "python",
     "metadata": {},
     "outputs": []
    },
    {
     "cell_type": "code",
     "collapsed": false,
     "input": [
      "# What are the unique charge disposition values?\n",
      "\n",
      "chrgdisps = set()\n",
      "for l in in_analysis.filter(chrgdisp__regex=r'^[A-Z]').values_list('chrgdisp').distinct():\n",
      "    chrgdisps.add(l[0])\n",
      "#chrgdisps = in_analysis.filter(chrgdisp__regex=r'^[A-Z]').values_list('chrgdisp').distinct()\n",
      "\n",
      "# Some records have misaligned columns\n",
      "for l in in_analysis.filter(chrgclass__regex=r'^[A-Z]').values_list('chrgclass').distinct():\n",
      "    if len(l[0]) > 1:\n",
      "        chrgdisps.add(l[0])\n",
      "        \n",
      "print(\"The unique charge disposition values in the records we're analysing are:\")\n",
      "for chrgdisp in sorted(chrgdisps):\n",
      "    print(chrgdisp)"
     ],
     "language": "python",
     "metadata": {},
     "outputs": [
      {
       "output_type": "stream",
       "stream": "stdout",
       "text": [
        "The unique charge disposition values in the records we're analysing are:\n",
        "COND DISCH AND OTHER DISC COND\n",
        "CREDIT DEFENDANT FOR TIME SERV\n",
        "DEF SENT CCDOC, PERIODIC IMP\n",
        "DEF SENT CONDITIONAL DISCHARGE\n",
        "DEF SENT TO HOME CONFINEMENT\n",
        "DEF SENT TO INDETERMINATE TERM\n",
        "DEF SENT TO LIFE IMPRISONMENT\n",
        "DEF SENT TO PAY RESTITUTION\n",
        "DEF SENTENCED ILLINOIS DOC\n",
        "DEF SENTENCED TO COOK CNTY DOC\n",
        "DEF SENTENCED TO PROBATION\n",
        "ELIGIBLE IMPACT PROG-BOOT CAMP\n",
        "PROB AND OTHER DISC CONDS\n",
        "SENT PER IMP + OTH DISC COND\n",
        "SENT/CRT SUPV-SOC SERV-SPC CND\n",
        "SENT/CRT SUPV/SPEC CONDS\n",
        "SENTENCED CCDOC BOOT CAMP\n",
        "SENTENCED TO COMMUNITY SERVICE\n",
        "SUPERVISION - SOCIAL SERV DEPT\n"
       ]
      }
     ],
     "prompt_number": 16
    },
    {
     "cell_type": "code",
     "collapsed": false,
     "input": [
      "probatio\n",
      "for case_number, first_chrgdispdate in in_analysis.first_chrgdispdates()[:100]:\n",
      "    dispositions = in_analysis.filter(case_number=case_number, chrgdispdate=first_chrgdispdate)\\\n",
      "        .values('final_statute').annotate()\n",
      "    "
     ],
     "language": "python",
     "metadata": {},
     "outputs": []
    },
    {
     "cell_type": "code",
     "collapsed": false,
     "input": [
      "from django.db.models import F\n",
      "\n",
      "# How are charge dispositions grouped together\n",
      "in_analysis = Disposition.objects.in_analysis()\n",
      "# Get the date of the first disposition for each case\n",
      "first_chrgdispdates = in_analysis.values('case_number').annotate(first_chrgdispdate=Min('chrgdispdate')).values_list('case_number', 'first_chrgdispdate')\n",
      "with_counts = in_analysis.values('case_number')\\\n",
      "    .annotate(num_statutes=Count('final_statute', distinct=True), num_chrgdisp=Count('chrgdisp', distinct=True))\\\n",
      "    .filter(num_chrgdisp__gt=F('num_statutes'))\n",
      "#print(with_counts.query)\n",
      "\n",
      "for case_number, first_chrgdispdate in first_chrgdispdates[0:1000]:\n",
      "    dispositions = Disposition.objects.filter(case_number=case_number, chrgdispdate=first_chrgdispdate)\n",
      "    with_counts = dispositions.values('case_number').annotate(num_statutes=Count('final_statute', distinct=True), num_chrgdisp=Count('chrgdisp', distinct=True)).filter(num_chrgdisp__gt=F('num_statutes'))        \n",
      "    if with_counts.count():\n",
      "        for final_statute, chrgdisp in dispositions.values_list('final_statute', 'chrgdisp'):\n",
      "            print (case_number, final_statute, chrgdisp)\n",
      "    \n",
      "        print()"
     ],
     "language": "python",
     "metadata": {},
     "outputs": [
      {
       "output_type": "stream",
       "stream": "stdout",
       "text": [
        "1983C44988701 38-12-4-B(1) DEF SENTENCED ILLINOIS DOC\n",
        "1983C44988701 38-12-4-B(1) CREDIT DEFENDANT FOR TIME SERV\n",
        "\n",
        "1983C44988801"
       ]
      },
      {
       "output_type": "stream",
       "stream": "stdout",
       "text": [
        " 38-12-4-A DEF SENTENCED ILLINOIS DOC\n",
        "1983C44988801 38-12-4-A CREDIT DEFENDANT FOR TIME SERV\n",
        "\n",
        "1999C44029701"
       ]
      },
      {
       "output_type": "stream",
       "stream": "stdout",
       "text": [
        " 625-5/4-103(A)(1) DEF SENT TO PAY RESTITUTION\n",
        "1999C44029701 625-5/4-103(A)(1) DEF SENTENCED TO PROBATION\n",
        "\n",
        "2002C44117801"
       ]
      },
      {
       "output_type": "stream",
       "stream": "stdout",
       "text": [
        " 720-5/19-2(A) DEF SENTENCED ILLINOIS DOC\n",
        "2002C44117801 720-5/19-2(A) CREDIT DEFENDANT FOR TIME SERV\n",
        "\n",
        "2002C44117901"
       ]
      },
      {
       "output_type": "stream",
       "stream": "stdout",
       "text": [
        " 720-5/19-2(A) DEF SENTENCED ILLINOIS DOC\n",
        "2002C44117901 720-5/19-2(A) CREDIT DEFENDANT FOR TIME SERV\n",
        "\n",
        "2003C44116401"
       ]
      },
      {
       "output_type": "stream",
       "stream": "stdout",
       "text": [
        " 720-5/16A-3(A) SENTENCED TO COMMUNITY SERVICE\n",
        "2003C44116401 720-5/16A-3(A) DEF SENT CONDITIONAL DISCHARGE\n",
        "\n",
        "2004C22037801"
       ]
      },
      {
       "output_type": "stream",
       "stream": "stdout",
       "text": [
        " 720-5/17-3(a)(2) DEF SENTENCED ILLINOIS DOC\n",
        "2004C22037801 720-5/17-3(a)(2) CREDIT DEFENDANT FOR TIME SERV\n",
        "\n",
        "2004C22072201"
       ]
      },
      {
       "output_type": "stream",
       "stream": "stdout",
       "text": [
        " 720-5/21-1(1)(a) DEF SENTENCED TO COOK CNTY DOC\n",
        "2004C22072201 720-5/21-1(1)(a) CREDIT DEFENDANT FOR TIME SERV\n",
        "\n",
        "2004C22076001"
       ]
      },
      {
       "output_type": "stream",
       "stream": "stdout",
       "text": [
        " 720-570/402(c) DEF SENTENCED ILLINOIS DOC\n",
        "2004C22076001 720-570/402(c) CREDIT DEFENDANT FOR TIME SERV\n",
        "\n",
        "2004C22077101"
       ]
      },
      {
       "output_type": "stream",
       "stream": "stdout",
       "text": [
        " 720-5/16A-3(a) DEF SENTENCED TO COOK CNTY DOC\n",
        "2004C22077101 720-5/16A-3(a) CREDIT DEFENDANT FOR TIME SERV\n",
        "2004C22077101 720-5/16A-3(a) DEF SENTENCED TO PROBATION\n",
        "\n",
        "2004C22078501"
       ]
      },
      {
       "output_type": "stream",
       "stream": "stdout",
       "text": [
        " 625-5/6-303(d) DEF SENTENCED TO PROBATION\n",
        "2004C22078501 625-5/6-303(d) SENTENCED TO COMMUNITY SERVICE\n",
        "\n",
        "2004C22078801"
       ]
      },
      {
       "output_type": "stream",
       "stream": "stdout",
       "text": [
        " 730-150/3(a) DEF SENTENCED ILLINOIS DOC\n",
        "2004C22078801 730-150/3(a) CREDIT DEFENDANT FOR TIME SERV\n",
        "\n",
        "2004C22079001"
       ]
      },
      {
       "output_type": "stream",
       "stream": "stdout",
       "text": [
        " 720-570/402(c) DEF SENTENCED ILLINOIS DOC\n",
        "2004C22079001 720-570/402(c) CREDIT DEFENDANT FOR TIME SERV\n",
        "\n",
        "2004C22079402"
       ]
      },
      {
       "output_type": "stream",
       "stream": "stdout",
       "text": [
        " 720-5/16-1(a)(1) SENT/CRT SUPV/SPEC CONDS\n",
        "2004C22079402 720-5/16-1(a)(1) SENTENCED TO COMMUNITY SERVICE\n",
        "\n",
        "2004C22079501"
       ]
      },
      {
       "output_type": "stream",
       "stream": "stdout",
       "text": [
        " 720-5/12-30(a)(1) DEF SENTENCED ILLINOIS DOC\n",
        "2004C22079501 720-5/12-30(a)(1) CREDIT DEFENDANT FOR TIME SERV\n",
        "\n",
        "2004C22079701"
       ]
      },
      {
       "output_type": "stream",
       "stream": "stdout",
       "text": [
        " 720-5/16-1(a)(1) DEF SENTENCED TO COOK CNTY DOC\n",
        "2004C22079701 720-5/16-1(a)(1) CREDIT DEFENDANT FOR TIME SERV\n",
        "\n",
        "2004C22080801"
       ]
      },
      {
       "output_type": "stream",
       "stream": "stdout",
       "text": [
        " 720-5/19-1(a) DEF SENTENCED TO PROBATION\n",
        "2004C22080801 720-5/19-1(a) SENTENCED TO COMMUNITY SERVICE\n",
        "\n",
        "2004C22081501"
       ]
      },
      {
       "output_type": "stream",
       "stream": "stdout",
       "text": [
        " 720-570/402(c) DEF SENTENCED ILLINOIS DOC\n",
        "2004C22081501 720-570/402(c) CREDIT DEFENDANT FOR TIME SERV\n",
        "\n",
        "2004C22081601"
       ]
      },
      {
       "output_type": "stream",
       "stream": "stdout",
       "text": [
        " 720-570/402(c) DEF SENTENCED ILLINOIS DOC\n",
        "2004C22081601 720-570/402(c) CREDIT DEFENDANT FOR TIME SERV\n",
        "\n",
        "2004C22081801"
       ]
      },
      {
       "output_type": "stream",
       "stream": "stdout",
       "text": [
        " 720-5/16A-3(a) DEF SENTENCED ILLINOIS DOC\n",
        "2004C22081801 720-5/16A-3(a) CREDIT DEFENDANT FOR TIME SERV\n",
        "\n",
        "2004C22082001"
       ]
      },
      {
       "output_type": "stream",
       "stream": "stdout",
       "text": [
        " 720-5/17-3(a)(1) DEF SENTENCED ILLINOIS DOC\n",
        "2004C22082001 720-5/17-3(a)(1) CREDIT DEFENDANT FOR TIME SERV\n",
        "\n",
        "2004C22082101"
       ]
      },
      {
       "output_type": "stream",
       "stream": "stdout",
       "text": [
        " 720-5/16A-3(a) DEF SENTENCED ILLINOIS DOC\n",
        "2004C22082101 720-5/16A-3(a) CREDIT DEFENDANT FOR TIME SERV\n",
        "\n",
        "2004C22082501"
       ]
      },
      {
       "output_type": "stream",
       "stream": "stdout",
       "text": [
        " 720-5/16A-3(a) CREDIT DEFENDANT FOR TIME SERV\n",
        "2004C22082501 720-5/16A-3(a) DEF SENTENCED ILLINOIS DOC\n",
        "\n",
        "2004C22082701"
       ]
      },
      {
       "output_type": "stream",
       "stream": "stdout",
       "text": [
        " 625-5/6-303(d) DEF SENTENCED ILLINOIS DOC\n",
        "2004C22082701 625-5/6-303(d) PROB AND OTHER DISC CONDS\n",
        "\n",
        "2004C22082801"
       ]
      },
      {
       "output_type": "stream",
       "stream": "stdout",
       "text": [
        " 720-5/16-1(a)(1) DEF SENTENCED TO PROBATION\n",
        "2004C22082801 720-5/16-1(a)(1) SENTENCED TO COMMUNITY SERVICE\n",
        "\n",
        "2004C22082901"
       ]
      },
      {
       "output_type": "stream",
       "stream": "stdout",
       "text": [
        " 720-5/19-1(a) DEF SENTENCED TO PROBATION\n",
        "2004C22082901 720-5/19-1(a) SENTENCED TO COMMUNITY SERVICE\n",
        "\n",
        "2004C22083101"
       ]
      },
      {
       "output_type": "stream",
       "stream": "stdout",
       "text": [
        " 720-5/16A-3(a) DEF SENTENCED ILLINOIS DOC\n",
        "2004C22083101 720-5/16A-3(a) CREDIT DEFENDANT FOR TIME SERV\n",
        "\n",
        "2004C22083401"
       ]
      },
      {
       "output_type": "stream",
       "stream": "stdout",
       "text": [
        " 720-5/16A-3(a) DEF SENTENCED ILLINOIS DOC\n",
        "2004C22083401 720-5/16A-3(a) CREDIT DEFENDANT FOR TIME SERV\n",
        "\n",
        "2004C22083501"
       ]
      },
      {
       "output_type": "stream",
       "stream": "stdout",
       "text": [
        " 720-5/16A-3(a) DEF SENTENCED ILLINOIS DOC\n",
        "2004C22083501 720-5/16A-3(a) CREDIT DEFENDANT FOR TIME SERV\n",
        "\n",
        "2004C22083801"
       ]
      },
      {
       "output_type": "stream",
       "stream": "stdout",
       "text": [
        " 720-5/16A-3(a) DEF SENT CONDITIONAL DISCHARGE\n",
        "2004C22083801 720-5/16A-3(a) DEF SENTENCED TO COOK CNTY DOC\n",
        "2004C22083801 720-5/16A-3(a) CREDIT DEFENDANT FOR TIME SERV\n",
        "\n",
        "2004C33057201"
       ]
      },
      {
       "output_type": "stream",
       "stream": "stdout",
       "text": [
        " 720 5/21-1 SUPERVISION - SOCIAL SERV DEPT\n",
        "2004C33057201 720 5/21-1 DEF SENT TO PAY RESTITUTION\n",
        "\n",
        "2004C33057601"
       ]
      },
      {
       "output_type": "stream",
       "stream": "stdout",
       "text": [
        " 38-8-4/56.5-1402 DEF SENTENCED TO COOK CNTY DOC\n",
        "2004C33057601 38-8-4/56.5-1402 CREDIT DEFENDANT FOR TIME SERV\n",
        "\n",
        "2004C33057701"
       ]
      },
      {
       "output_type": "stream",
       "stream": "stdout",
       "text": [
        " 625-5/4-103(A)(1) DEF SENTENCED TO PROBATION\n",
        "2004C33057701 625-5/4-103(A)(1) SENTENCED TO COMMUNITY SERVICE\n",
        "2004C33057701 625-5/4-103(A)(1) DEF SENT TO PAY RESTITUTION\n",
        "\n",
        "2004C33058301"
       ]
      },
      {
       "output_type": "stream",
       "stream": "stdout",
       "text": [
        " 625-5/11-501(d)(1)(A) DEF SENTENCED TO PROBATION\n",
        "2004C33058301 625-5/11-501(d)(1)(A) DEF SENTENCED TO COOK CNTY DOC\n",
        "\n",
        "2004C33058401"
       ]
      },
      {
       "output_type": "stream",
       "stream": "stdout",
       "text": [
        " 720-570/401(D) DEF SENTENCED ILLINOIS DOC\n",
        "2004C33058401 720-570/401(D) CREDIT DEFENDANT FOR TIME SERV\n",
        "\n",
        "2004C33058501"
       ]
      },
      {
       "output_type": "stream",
       "stream": "stdout",
       "text": [
        " 38-8-4/56.5-1402 DEF SENTENCED TO COOK CNTY DOC\n",
        "2004C33058501 38-8-4/56.5-1402 CREDIT DEFENDANT FOR TIME SERV\n",
        "\n",
        "2004C33058701"
       ]
      },
      {
       "output_type": "stream",
       "stream": "stdout",
       "text": [
        " 720-5/19-1(a) DEF SENTENCED TO PROBATION\n",
        "2004C33058701 720-5/19-1(a) DEF SENTENCED TO COOK CNTY DOC\n",
        "2004C33058701 720-5/19-1(a) CREDIT DEFENDANT FOR TIME SERV\n",
        "\n",
        "2004C33059301"
       ]
      },
      {
       "output_type": "stream",
       "stream": "stdout",
       "text": [
        " 625-5/6-303(D) DEF SENTENCED ILLINOIS DOC\n",
        "2004C33059301 625-5/6-303(D) CREDIT DEFENDANT FOR TIME SERV\n",
        "\n",
        "2004C33059501"
       ]
      },
      {
       "output_type": "stream",
       "stream": "stdout",
       "text": [
        " 625-5/6-303(D) DEF SENTENCED ILLINOIS DOC\n",
        "2004C33059501 625-5/6-303(D) CREDIT DEFENDANT FOR TIME SERV\n",
        "\n",
        "2004C33059601"
       ]
      },
      {
       "output_type": "stream",
       "stream": "stdout",
       "text": [
        " 720-5/19-1(A) DEF SENTENCED TO PROBATION\n",
        "2004C33059601 720-5/19-1(A) DEF SENT TO PAY RESTITUTION\n",
        "2004C33059601 720-5/19-1(A) DEF SENTENCED TO COOK CNTY DOC\n",
        "2004C33059601 720-5/19-1(A) CREDIT DEFENDANT FOR TIME SERV\n",
        "\n",
        "2004C33060301"
       ]
      },
      {
       "output_type": "stream",
       "stream": "stdout",
       "text": [
        " 625-5/11-501(C-1)(2) CREDIT DEFENDANT FOR TIME SERV\n",
        "2004C33060301 625-5/11-501(D)(1)(A) DEF SENTENCED TO PROBATION\n",
        "2004C33060301 625-5/11-501(D)(1)(A) DEF SENTENCED TO COOK CNTY DOC\n",
        "\n",
        "2004C33061001"
       ]
      },
      {
       "output_type": "stream",
       "stream": "stdout",
       "text": [
        " 720-570/402(C) DEF SENTENCED TO PROBATION\n",
        "2004C33061001 720-570/402(C) SENTENCED TO COMMUNITY SERVICE\n",
        "\n",
        "2004C33061301"
       ]
      },
      {
       "output_type": "stream",
       "stream": "stdout",
       "text": [
        " 720-5/19-4(a)(2) DEF SENTENCED TO PROBATION\n",
        "2004C33061301 720-5/19-4(a)(2) SENTENCED TO COMMUNITY SERVICE\n",
        "\n",
        "2004C44126001"
       ]
      },
      {
       "output_type": "stream",
       "stream": "stdout",
       "text": [
        " 720-5/16A-3(A) DEF SENTENCED ILLINOIS DOC\n",
        "2004C44126001 720-5/16A-3(A) CREDIT DEFENDANT FOR TIME SERV\n",
        "\n",
        "2004C44126401"
       ]
      },
      {
       "output_type": "stream",
       "stream": "stdout",
       "text": [
        " 720-5/16A-3(A) DEF SENTENCED ILLINOIS DOC\n",
        "2004C44126401 720-5/16A-3(A) CREDIT DEFENDANT FOR TIME SERV\n",
        "\n",
        "2004C44126501"
       ]
      },
      {
       "output_type": "stream",
       "stream": "stdout",
       "text": [
        " 720-5/16A-3(A) DEF SENTENCED ILLINOIS DOC\n",
        "2004C44126501 720-5/16A-3(A) CREDIT DEFENDANT FOR TIME SERV\n",
        "\n",
        "2004C44126601"
       ]
      },
      {
       "output_type": "stream",
       "stream": "stdout",
       "text": [
        " 720-5/16-1(A)(1) DEF SENT TO PAY RESTITUTION\n",
        "2004C44126601 720-5/16-1(A)(1) DEF SENTENCED TO PROBATION\n",
        "\n",
        "2004C44127501"
       ]
      },
      {
       "output_type": "stream",
       "stream": "stdout",
       "text": [
        " 720-5/18-2(A) DEF SENTENCED ILLINOIS DOC\n",
        "2004C44127501 720-5/18-2(A) CREDIT DEFENDANT FOR TIME SERV\n",
        "\n",
        "2004C44127801"
       ]
      },
      {
       "output_type": "stream",
       "stream": "stdout",
       "text": [
        " 720-570/402(C) DEF SENTENCED ILLINOIS DOC\n",
        "2004C44127801 720-570/402(C) CREDIT DEFENDANT FOR TIME SERV\n",
        "\n",
        "2004C44128001"
       ]
      },
      {
       "output_type": "stream",
       "stream": "stdout",
       "text": [
        " 720-5/16A-3(A) DEF SENTENCED ILLINOIS DOC\n",
        "2004C44128001 720-5/16A-3(A) CREDIT DEFENDANT FOR TIME SERV\n",
        "\n",
        "2004C44128101"
       ]
      },
      {
       "output_type": "stream",
       "stream": "stdout",
       "text": [
        " 730-150/6 DEF SENTENCED ILLINOIS DOC\n",
        "2004C44128101 730-150/6 CREDIT DEFENDANT FOR TIME SERV\n",
        "\n",
        "2004C44128301"
       ]
      },
      {
       "output_type": "stream",
       "stream": "stdout",
       "text": [
        " 720-5/16A-3(a) DEF SENTENCED ILLINOIS DOC\n",
        "2004C44128301 720-5/16A-3(a) CREDIT DEFENDANT FOR TIME SERV\n",
        "\n",
        "2004C44128501"
       ]
      },
      {
       "output_type": "stream",
       "stream": "stdout",
       "text": [
        " 720-570/402(C) DEF SENTENCED ILLINOIS DOC\n",
        "2004C44128501 720-570/402(C) CREDIT DEFENDANT FOR TIME SERV\n",
        "\n",
        "2004C44128601"
       ]
      },
      {
       "output_type": "stream",
       "stream": "stdout",
       "text": [
        " 720-5/19-1(A) DEF SENTENCED ILLINOIS DOC\n",
        "2004C44128601 720-5/19-1(A) CREDIT DEFENDANT FOR TIME SERV\n",
        "\n",
        "2004C44128602"
       ]
      },
      {
       "output_type": "stream",
       "stream": "stdout",
       "text": [
        " 720-5/19-1(A) DEF SENTENCED ILLINOIS DOC\n",
        "2004C44128602 720-5/19-1(A) CREDIT DEFENDANT FOR TIME SERV\n",
        "\n",
        "2004C44128801"
       ]
      },
      {
       "output_type": "stream",
       "stream": "stdout",
       "text": [
        " 720-5/12-11(a)(1) DEF SENTENCED ILLINOIS DOC\n",
        "2004C44128801 720-5/12-11(a)(1) CREDIT DEFENDANT FOR TIME SERV\n",
        "\n",
        "2004C44129202"
       ]
      },
      {
       "output_type": "stream",
       "stream": "stdout",
       "text": [
        " 720-5/12-4(a) PROB AND OTHER DISC CONDS\n",
        "2004C44129202 720-5/12-4(a) DEF SENTENCED TO COOK CNTY DOC\n",
        "2004C44129202 720-5/12-4(a) CREDIT DEFENDANT FOR TIME SERV\n",
        "\n",
        "2004C44129301"
       ]
      },
      {
       "output_type": "stream",
       "stream": "stdout",
       "text": [
        " 720-5/19-1(A) DEF SENTENCED ILLINOIS DOC\n",
        "2004C44129301 720-5/19-1(A) CREDIT DEFENDANT FOR TIME SERV\n",
        "\n",
        "2004C44129702"
       ]
      },
      {
       "output_type": "stream",
       "stream": "stdout",
       "text": [
        " 720-5/16A-3(a) DEF SENTENCED ILLINOIS DOC\n",
        "2004C44129702 720-5/16A-3(a) CREDIT DEFENDANT FOR TIME SERV\n",
        "\n",
        "2004C44130001"
       ]
      },
      {
       "output_type": "stream",
       "stream": "stdout",
       "text": [
        " 720-5/16A-3(a) DEF SENTENCED ILLINOIS DOC\n",
        "2004C44130001 720-5/16A-3(a) CREDIT DEFENDANT FOR TIME SERV\n",
        "\n",
        "2004C44130101"
       ]
      },
      {
       "output_type": "stream",
       "stream": "stdout",
       "text": [
        " 720-5/16A-3(a) DEF SENTENCED ILLINOIS DOC\n",
        "2004C44130101 720-5/16A-3(a) CREDIT DEFENDANT FOR TIME SERV\n",
        "\n",
        "2004C44130501"
       ]
      },
      {
       "output_type": "stream",
       "stream": "stdout",
       "text": [
        " 625-5/6-303(D) DEF SENTENCED TO PROBATION\n",
        "2004C44130501 625-5/6-303(D) DEF SENTENCED TO COOK CNTY DOC\n",
        "\n",
        "2004C44130601"
       ]
      },
      {
       "output_type": "stream",
       "stream": "stdout",
       "text": [
        " 720-5/19-1(A) DEF SENTENCED ILLINOIS DOC\n",
        "2004C44130601 720-5/19-1(A) CREDIT DEFENDANT FOR TIME SERV\n",
        "\n",
        "2004C44130801"
       ]
      },
      {
       "output_type": "stream",
       "stream": "stdout",
       "text": [
        " 720-5/24-1.6(A)(1) DEF SENTENCED ILLINOIS DOC\n",
        "2004C44130801 720-5/24-1.6(A)(1) CREDIT DEFENDANT FOR TIME SERV\n",
        "\n",
        "2004C44131101"
       ]
      },
      {
       "output_type": "stream",
       "stream": "stdout",
       "text": [
        " 720-5/16A-3(A) DEF SENTENCED ILLINOIS DOC\n",
        "2004C44131101 720-5/16A-3(A) CREDIT DEFENDANT FOR TIME SERV\n",
        "\n",
        "2004C44131201"
       ]
      },
      {
       "output_type": "stream",
       "stream": "stdout",
       "text": [
        " 720-570/402(C) DEF SENTENCED ILLINOIS DOC\n",
        "2004C44131201 720-570/402(C) CREDIT DEFENDANT FOR TIME SERV\n",
        "\n",
        "2004C44131501"
       ]
      },
      {
       "output_type": "stream",
       "stream": "stdout",
       "text": [
        " 720-5/16A-3(A) DEF SENTENCED TO PROBATION\n",
        "2004C44131501 720-5/16A-3(A) CREDIT DEFENDANT FOR TIME SERV\n",
        "\n",
        "2004C44131601"
       ]
      },
      {
       "output_type": "stream",
       "stream": "stdout",
       "text": [
        " 625-5/4-103(A)(1) DEF SENTENCED ILLINOIS DOC\n",
        "2004C44131601 625-5/4-103(A)(1) CREDIT DEFENDANT FOR TIME SERV\n",
        "\n",
        "2004C55072501"
       ]
      },
      {
       "output_type": "stream",
       "stream": "stdout",
       "text": [
        " 720-570/402(A)(2)(A) DEF SENTENCED TO PROBATION\n",
        "2004C55072501 720-570/402(A)(2)(A) SENTENCED TO COMMUNITY SERVICE\n",
        "\n",
        "2004C55075301"
       ]
      },
      {
       "output_type": "stream",
       "stream": "stdout",
       "text": [
        " 720-5/16-1(A)(1) DEF SENTENCED TO PROBATION\n",
        "2004C55075301 720-5/16-1(A)(1) DEF SENT TO PAY RESTITUTION\n",
        "\n",
        "2004C55075501"
       ]
      },
      {
       "output_type": "stream",
       "stream": "stdout",
       "text": [
        " 720-5/24-1.6(A)(1) DEF SENTENCED TO PROBATION\n",
        "2004C55075501 720-5/24-1.6(A)(1) DEF SENTENCED TO COOK CNTY DOC\n",
        "\n",
        "2004C55075901"
       ]
      },
      {
       "output_type": "stream",
       "stream": "stdout",
       "text": [
        " 625-5/4-103(A)(1) DEF SENTENCED TO PROBATION\n",
        "2004C55075901 625-5/4-103(A)(1) DEF SENT TO PAY RESTITUTION\n",
        "\n",
        "2004C55077101"
       ]
      },
      {
       "output_type": "stream",
       "stream": "stdout",
       "text": [
        " 720-570/402(C) DEF SENTENCED ILLINOIS DOC\n",
        "2004C55077101 720-570/402(C) CREDIT DEFENDANT FOR TIME SERV\n",
        "\n",
        "2004C55077301"
       ]
      },
      {
       "output_type": "stream",
       "stream": "stdout",
       "text": [
        " 625-5/6-303(D) DEF SENTENCED ILLINOIS DOC\n",
        "2004C55077301 625-5/6-303(D) CREDIT DEFENDANT FOR TIME SERV\n",
        "\n",
        "2004C55077501"
       ]
      },
      {
       "output_type": "stream",
       "stream": "stdout",
       "text": [
        " 720-5/16A-3(A) DEF SENTENCED ILLINOIS DOC\n",
        "2004C55077501 720-5/16A-3(A) CREDIT DEFENDANT FOR TIME SERV\n",
        "\n",
        "2004C55077601"
       ]
      },
      {
       "output_type": "stream",
       "stream": "stdout",
       "text": [
        " 625-5/6-303(D) DEF SENTENCED TO PROBATION\n",
        "2004C55077601 625-5/6-303(D) CREDIT DEFENDANT FOR TIME SERV\n",
        "\n",
        "2004C55077901"
       ]
      },
      {
       "output_type": "stream",
       "stream": "stdout",
       "text": [
        " 720-5/21-1(1)(A) DEF SENTENCED ILLINOIS DOC\n",
        "2004C55077901 720-5/21-1(1)(A) CREDIT DEFENDANT FOR TIME SERV\n",
        "\n",
        "2004C55078001"
       ]
      },
      {
       "output_type": "stream",
       "stream": "stdout",
       "text": [
        " 720-570/402(C) DEF SENTENCED ILLINOIS DOC\n",
        "2004C55078001 720-570/402(C) CREDIT DEFENDANT FOR TIME SERV\n",
        "\n",
        "2004C55078101"
       ]
      },
      {
       "output_type": "stream",
       "stream": "stdout",
       "text": [
        " 625-5/11-501(C-1)(3) DEF SENTENCED ILLINOIS DOC\n",
        "2004C55078101 625-5/11-501(C-1)(3) CREDIT DEFENDANT FOR TIME SERV\n",
        "\n",
        "2004C55078401"
       ]
      },
      {
       "output_type": "stream",
       "stream": "stdout",
       "text": [
        " 720-250/8 DEF SENTENCED ILLINOIS DOC\n",
        "2004C55078401 720-250/8 CREDIT DEFENDANT FOR TIME SERV\n",
        "\n",
        "2004C55078501"
       ]
      },
      {
       "output_type": "stream",
       "stream": "stdout",
       "text": [
        " 720-570/401(d) PROB AND OTHER DISC CONDS\n",
        "2004C55078501 720-570/401(d) SENTENCED TO COMMUNITY SERVICE\n",
        "\n",
        "2004C55078701"
       ]
      },
      {
       "output_type": "stream",
       "stream": "stdout",
       "text": [
        " 720-5/19-1(A) PROB AND OTHER DISC CONDS\n",
        "2004C55078701 720-5/19-1(A) DEF SENT TO PAY RESTITUTION\n",
        "2004C55078701 720-5/19-1(A) DEF SENTENCED TO COOK CNTY DOC\n",
        "\n",
        "2004C55078702"
       ]
      },
      {
       "output_type": "stream",
       "stream": "stdout",
       "text": [
        " 720-5/19-1(A) PROB AND OTHER DISC CONDS\n",
        "2004C55078702 720-5/19-1(A) DEF SENT TO PAY RESTITUTION\n",
        "2004C55078702 720-5/19-1(A) DEF SENTENCED TO COOK CNTY DOC\n",
        "\n",
        "2004C55078901"
       ]
      },
      {
       "output_type": "stream",
       "stream": "stdout",
       "text": [
        " 720-5/18-1(A) DEF SENTENCED TO PROBATION\n",
        "2004C55078901 720-5/18-1(A) DEF SENT TO PAY RESTITUTION\n",
        "2004C55078901 720-5/18-1(A) ELIGIBLE IMPACT PROG-BOOT CAMP\n",
        "\n",
        "2004C55078902"
       ]
      },
      {
       "output_type": "stream",
       "stream": "stdout",
       "text": [
        " 720-5/18-1(A) DEF SENTENCED TO PROBATION\n",
        "2004C55078902 720-5/18-1(A) CREDIT DEFENDANT FOR TIME SERV\n",
        "2004C55078902 720-5/18-1(A) DEF SENT TO PAY RESTITUTION\n",
        "\n",
        "2004C55079001"
       ]
      },
      {
       "output_type": "stream",
       "stream": "stdout",
       "text": [
        " 720-5/16A-3(A) DEF SENTENCED ILLINOIS DOC\n",
        "2004C55079001 720-5/16A-3(A) CREDIT DEFENDANT FOR TIME SERV\n",
        "\n",
        "2004C55079401"
       ]
      },
      {
       "output_type": "stream",
       "stream": "stdout",
       "text": [
        " 625-5/6-303(D) DEF SENTENCED TO PROBATION\n",
        "2004C55079401 625-5/6-303(D) DEF SENTENCED TO COOK CNTY DOC\n",
        "2004C55079401 625-5/6-303(D) CREDIT DEFENDANT FOR TIME SERV\n",
        "\n",
        "2004C55079501"
       ]
      },
      {
       "output_type": "stream",
       "stream": "stdout",
       "text": [
        " 720-5/16A-10(2) DEF SENTENCED ILLINOIS DOC\n",
        "2004C55079501 720-5/16A-10(2) CREDIT DEFENDANT FOR TIME SERV\n",
        "\n",
        "2004C55079801"
       ]
      },
      {
       "output_type": "stream",
       "stream": "stdout",
       "text": [
        " 720-5/16A-3(A) DEF SENTENCED ILLINOIS DOC\n",
        "2004C55079801 720-5/16A-3(A) CREDIT DEFENDANT FOR TIME SERV\n",
        "\n",
        "2004C55080001"
       ]
      },
      {
       "output_type": "stream",
       "stream": "stdout",
       "text": [
        " 720-5/16A-3(A) DEF SENTENCED ILLINOIS DOC\n",
        "2004C55080001 720-5/16A-3(A) CREDIT DEFENDANT FOR TIME SERV\n",
        "\n",
        "2004C55080101"
       ]
      },
      {
       "output_type": "stream",
       "stream": "stdout",
       "text": [
        " 720-5/16A-3(A) DEF SENTENCED ILLINOIS DOC\n",
        "2004C55080101 720-5/16A-3(A) CREDIT DEFENDANT FOR TIME SERV\n",
        "\n",
        "2004C55080201"
       ]
      },
      {
       "output_type": "stream",
       "stream": "stdout",
       "text": [
        " 720-5/16A-3(A) DEF SENTENCED ILLINOIS DOC\n",
        "2004C55080201 720-5/16A-3(A) CREDIT DEFENDANT FOR TIME SERV\n",
        "\n",
        "2004C55080301"
       ]
      },
      {
       "output_type": "stream",
       "stream": "stdout",
       "text": [
        " 625-5/11-501(C-1)(1) DEF SENTENCED ILLINOIS DOC\n",
        "2004C55080301 625-5/11-501(C-1)(1) CREDIT DEFENDANT FOR TIME SERV\n",
        "\n",
        "2004C55080701"
       ]
      },
      {
       "output_type": "stream",
       "stream": "stdout",
       "text": [
        " 720-5/16A-3(A) DEF SENTENCED ILLINOIS DOC\n",
        "2004C55080701 720-5/16A-3(A) CREDIT DEFENDANT FOR TIME SERV\n",
        "\n",
        "2004C55080801"
       ]
      },
      {
       "output_type": "stream",
       "stream": "stdout",
       "text": [
        " 720-5/16A-3(A) DEF SENTENCED ILLINOIS DOC\n",
        "2004C55080801 720-5/16A-3(A) CREDIT DEFENDANT FOR TIME SERV\n",
        "\n",
        "2004C55081201"
       ]
      },
      {
       "output_type": "stream",
       "stream": "stdout",
       "text": [
        " 720-5/18-1(A) DEF SENTENCED ILLINOIS DOC\n",
        "2004C55081201 720-5/18-1(A) CREDIT DEFENDANT FOR TIME SERV\n",
        "\n",
        "2004C55081301"
       ]
      },
      {
       "output_type": "stream",
       "stream": "stdout",
       "text": [
        " 625-5/6-301.1(B)(2) DEF SENTENCED ILLINOIS DOC\n",
        "2004C55081301 625-5/6-301.1(B)(2) CREDIT DEFENDANT FOR TIME SERV\n",
        "\n",
        "2004C55081501"
       ]
      },
      {
       "output_type": "stream",
       "stream": "stdout",
       "text": [
        " 720-5/19-1(A) DEF SENTENCED ILLINOIS DOC\n",
        "2004C55081501 720-5/19-1(A) CREDIT DEFENDANT FOR TIME SERV\n",
        "\n",
        "2004C55081901"
       ]
      },
      {
       "output_type": "stream",
       "stream": "stdout",
       "text": [
        " 625-5/11-501(C-1)(2) DEF SENTENCED ILLINOIS DOC\n",
        "2004C55081901 625-5/11-501(C-1)(2) CREDIT DEFENDANT FOR TIME SERV\n",
        "\n",
        "2004C55082301"
       ]
      },
      {
       "output_type": "stream",
       "stream": "stdout",
       "text": [
        " 720-570/402(C) DEF SENTENCED ILLINOIS DOC\n",
        "2004C55082301 720-570/402(C) CREDIT DEFENDANT FOR TIME SERV\n",
        "\n",
        "2004C55082501"
       ]
      },
      {
       "output_type": "stream",
       "stream": "stdout",
       "text": [
        " 720-570/401(c)(2) DEF SENTENCED ILLINOIS DOC\n",
        "2004C55082501 720-570/401(c)(2) CREDIT DEFENDANT FOR TIME SERV\n",
        "\n",
        "2004C55082601"
       ]
      },
      {
       "output_type": "stream",
       "stream": "stdout",
       "text": [
        " 720-570/401(c)(2) DEF SENTENCED ILLINOIS DOC\n",
        "2004C55082601 720-570/401(c)(2) CREDIT DEFENDANT FOR TIME SERV\n",
        "\n",
        "2004C55082701"
       ]
      },
      {
       "output_type": "stream",
       "stream": "stdout",
       "text": [
        " 720-570/401(c)(2) DEF SENTENCED ILLINOIS DOC\n",
        "2004C55082701 720-570/401(c)(2) CREDIT DEFENDANT FOR TIME SERV\n",
        "\n",
        "2004C55082801"
       ]
      },
      {
       "output_type": "stream",
       "stream": "stdout",
       "text": [
        " 720-570/401(c)(2) DEF SENTENCED ILLINOIS DOC\n",
        "2004C55082801 720-570/401(c)(2) CREDIT DEFENDANT FOR TIME SERV\n",
        "2004C55082801 720-570/401(c)(2) DEF SENT TO PAY RESTITUTION\n",
        "\n",
        "2004C55083001"
       ]
      },
      {
       "output_type": "stream",
       "stream": "stdout",
       "text": [
        " 720-570/401(C)(2) DEF SENTENCED ILLINOIS DOC\n",
        "2004C55083001 720-570/401(C)(2) SENTENCED CCDOC BOOT CAMP\n",
        "\n",
        "2004C55083301"
       ]
      },
      {
       "output_type": "stream",
       "stream": "stdout",
       "text": [
        " 720-5/16-1(A)(4) DEF SENTENCED TO COOK CNTY DOC\n",
        "2004C55083301 720-5/16-1(A)(4) CREDIT DEFENDANT FOR TIME SERV\n",
        "2004C55083301 720-5/16-1(A)(4) DEF SENTENCED TO PROBATION\n",
        "\n",
        "2004C55083501"
       ]
      },
      {
       "output_type": "stream",
       "stream": "stdout",
       "text": [
        " 720-5/16-1(A)(1) PROB AND OTHER DISC CONDS\n",
        "2004C55083501 720-5/16-1(A)(1) DEF SENT TO PAY RESTITUTION\n",
        "\n",
        "2004C55083601"
       ]
      },
      {
       "output_type": "stream",
       "stream": "stdout",
       "text": [
        " 720-5/19-3(A) DEF SENTENCED TO PROBATION\n",
        "2004C55083601 720-5/19-3(A) CREDIT DEFENDANT FOR TIME SERV\n",
        "\n",
        "2004C55084101"
       ]
      },
      {
       "output_type": "stream",
       "stream": "stdout",
       "text": [
        " 720-5/16A-3(A) CREDIT DEFENDANT FOR TIME SERV\n",
        "2004C55084101 720-5/16A-3(A) DEF SENTENCED TO PROBATION\n",
        "\n",
        "2004C55084301"
       ]
      },
      {
       "output_type": "stream",
       "stream": "stdout",
       "text": [
        " 625-5/6-303(D) DEF SENTENCED ILLINOIS DOC\n",
        "2004C55084301 625-5/6-303(D) CREDIT DEFENDANT FOR TIME SERV\n",
        "\n",
        "2004C55084401"
       ]
      },
      {
       "output_type": "stream",
       "stream": "stdout",
       "text": [
        " 720-5/16A-3(A) DEF SENTENCED TO PROBATION\n",
        "2004C55084401 720-5/16A-3(A) CREDIT DEFENDANT FOR TIME SERV\n",
        "\n",
        "2004C55084501"
       ]
      },
      {
       "output_type": "stream",
       "stream": "stdout",
       "text": [
        " 720-5/31-4(A) DEF SENTENCED TO PROBATION\n",
        "2004C55084501 720-5/31-4(A) DEF SENTENCED TO COOK CNTY DOC\n",
        "2004C55084501 720-5/31-4(A) CREDIT DEFENDANT FOR TIME SERV\n",
        "\n",
        "2004C55084601"
       ]
      },
      {
       "output_type": "stream",
       "stream": "stdout",
       "text": [
        " 720-5/17-3(A)(2) DEF SENTENCED TO PROBATION\n",
        "2004C55084601 720-5/17-3(A)(2) DEF SENTENCED TO COOK CNTY DOC\n",
        "2004C55084601 720-5/17-3(A)(2) CREDIT DEFENDANT FOR TIME SERV\n",
        "\n",
        "2004C55084901"
       ]
      },
      {
       "output_type": "stream",
       "stream": "stdout",
       "text": [
        " 720-570/402(C) DEF SENTENCED ILLINOIS DOC\n",
        "2004C55084901 720-570/402(C) CREDIT DEFENDANT FOR TIME SERV\n",
        "2004C55084901 720-570/402(C) SENTENCED CCDOC BOOT CAMP\n",
        "\n",
        "2004C55085101"
       ]
      },
      {
       "output_type": "stream",
       "stream": "stdout",
       "text": [
        " 720-5/12-4(B)(6) DEF SENTENCED ILLINOIS DOC\n",
        "2004C55085101 720-5/12-4(B)(6) CREDIT DEFENDANT FOR TIME SERV\n",
        "2004C55085101 720-5/12-4(B)(6) DEF SENTENCED ILLINOIS DOC\n",
        "\n",
        "2004C55085201"
       ]
      },
      {
       "output_type": "stream",
       "stream": "stdout",
       "text": [
        " 720-550/4(D) DEF SENTENCED ILLINOIS DOC\n",
        "2004C55085201 720-550/4(D) CREDIT DEFENDANT FOR TIME SERV\n",
        "\n",
        "2004C55085301"
       ]
      },
      {
       "output_type": "stream",
       "stream": "stdout",
       "text": [
        " 720-5/17-3(A)(2) DEF SENTENCED ILLINOIS DOC\n",
        "2004C55085301 720-5/17-3(A)(2) CREDIT DEFENDANT FOR TIME SERV\n",
        "2004C55085301 720-5/17-3(A)(2) DEF SENT TO PAY RESTITUTION\n",
        "\n",
        "2004C55085401"
       ]
      },
      {
       "output_type": "stream",
       "stream": "stdout",
       "text": [
        " 720-5/17-3(A)(2) DEF SENTENCED ILLINOIS DOC\n",
        "2004C55085401 720-5/17-3(A)(2) CREDIT DEFENDANT FOR TIME SERV\n",
        "\n",
        "2004C55085501"
       ]
      },
      {
       "output_type": "stream",
       "stream": "stdout",
       "text": [
        " 720-5/17-3(A)(2) DEF SENTENCED ILLINOIS DOC\n",
        "2004C55085501 720-5/17-3(A)(2) CREDIT DEFENDANT FOR TIME SERV\n",
        "\n",
        "2004C55085601"
       ]
      },
      {
       "output_type": "stream",
       "stream": "stdout",
       "text": [
        " 720-5/16A-3(A) DEF SENTENCED ILLINOIS DOC\n",
        "2004C55085601 720-5/16A-3(A) CREDIT DEFENDANT FOR TIME SERV\n",
        "\n",
        "2004C55085801"
       ]
      },
      {
       "output_type": "stream",
       "stream": "stdout",
       "text": [
        " 720-5/16-1(A)(1) DEF SENTENCED TO PROBATION\n",
        "2004C55085801 720-5/16-1(A)(1) DEF SENT TO PAY RESTITUTION\n",
        "\n",
        "2004C55085901"
       ]
      },
      {
       "output_type": "stream",
       "stream": "stdout",
       "text": [
        " 625-5/11-501(C-1)(1) DEF SENTENCED ILLINOIS DOC\n",
        "2004C55085901 625-5/11-501(C-1)(1) CREDIT DEFENDANT FOR TIME SERV\n",
        "\n",
        "2004C55086001"
       ]
      },
      {
       "output_type": "stream",
       "stream": "stdout",
       "text": [
        " 720-570/407(B)(2) DEF SENTENCED ILLINOIS DOC\n",
        "2004C55086001 720-570/407(B)(2) CREDIT DEFENDANT FOR TIME SERV\n",
        "\n",
        "2004C55086101"
       ]
      },
      {
       "output_type": "stream",
       "stream": "stdout",
       "text": [
        " 625-5/11-501(C-1)(3) DEF SENTENCED ILLINOIS DOC\n",
        "2004C55086101 625-5/11-501(C-1)(3) CREDIT DEFENDANT FOR TIME SERV\n",
        "\n",
        "2004C55086801"
       ]
      },
      {
       "output_type": "stream",
       "stream": "stdout",
       "text": [
        " 720-570/402(C) DEF SENTENCED ILLINOIS DOC\n",
        "2004C55086801 720-570/402(C) CREDIT DEFENDANT FOR TIME SERV\n",
        "\n",
        "2004C55087101"
       ]
      },
      {
       "output_type": "stream",
       "stream": "stdout",
       "text": [
        " 720-5/16A-3(A) DEF SENTENCED ILLINOIS DOC\n",
        "2004C55087101 720-5/16A-3(A) CREDIT DEFENDANT FOR TIME SERV\n",
        "\n",
        "2004C55088001"
       ]
      },
      {
       "output_type": "stream",
       "stream": "stdout",
       "text": [
        " 720-570/402(C) DEF SENTENCED TO PROBATION\n",
        "2004C55088001 720-570/402(C) CREDIT DEFENDANT FOR TIME SERV\n",
        "\n",
        "2004C55088401"
       ]
      },
      {
       "output_type": "stream",
       "stream": "stdout",
       "text": [
        " 720-570/401(D) DEF SENTENCED ILLINOIS DOC\n",
        "2004C55088401 720-570/401(D) CREDIT DEFENDANT FOR TIME SERV\n",
        "\n",
        "2004C55089101"
       ]
      },
      {
       "output_type": "stream",
       "stream": "stdout",
       "text": [
        " 720-570/402(C) DEF SENTENCED TO PROBATION\n",
        "2004C55089101 720-570/402(C) SENTENCED TO COMMUNITY SERVICE\n",
        "\n",
        "2004C66142601"
       ]
      },
      {
       "output_type": "stream",
       "stream": "stdout",
       "text": [
        " 720-5/16-1(a)(4) CREDIT DEFENDANT FOR TIME SERV\n",
        "2004C66142601 720-5/16-1(a)(4) DEF SENTENCED TO COOK CNTY DOC\n",
        "\n",
        "2004C66143201"
       ]
      },
      {
       "output_type": "stream",
       "stream": "stdout",
       "text": [
        " 720-570/402(C) CREDIT DEFENDANT FOR TIME SERV\n",
        "2004C66143201 720-570/402(C) DEF SENTENCED ILLINOIS DOC\n",
        "\n",
        "2004C66143401"
       ]
      },
      {
       "output_type": "stream",
       "stream": "stdout",
       "text": [
        " 720-5/16A-3(A) CREDIT DEFENDANT FOR TIME SERV\n",
        "2004C66143401 720-5/16A-3(A) DEF SENTENCED ILLINOIS DOC\n",
        "\n",
        "2004C66143501"
       ]
      },
      {
       "output_type": "stream",
       "stream": "stdout",
       "text": [
        " 625-5/6-303(D) CREDIT DEFENDANT FOR TIME SERV\n",
        "2004C66143501 625-5/6-303(D) DEF SENTENCED ILLINOIS DOC\n",
        "\n",
        "2004C66143601"
       ]
      },
      {
       "output_type": "stream",
       "stream": "stdout",
       "text": [
        " 720-5/16A-3(A) CREDIT DEFENDANT FOR TIME SERV\n",
        "2004C66143601 720-5/16A-3(A) DEF SENTENCED ILLINOIS DOC\n",
        "\n",
        "2004C66143901"
       ]
      },
      {
       "output_type": "stream",
       "stream": "stdout",
       "text": [
        " 625-5/11-204.1(A)(1) DEF SENTENCED ILLINOIS DOC\n",
        "2004C66143901 625-5/11-204.1(A)(1) CREDIT DEFENDANT FOR TIME SERV\n",
        "\n",
        "2004C66144001"
       ]
      },
      {
       "output_type": "stream",
       "stream": "stdout",
       "text": [
        " 720-5/24-1.1(A) DEF SENTENCED ILLINOIS DOC\n",
        "2004C66144001 720-5/24-1.1(A) CREDIT DEFENDANT FOR TIME SERV\n",
        "\n",
        "2005C11045101"
       ]
      },
      {
       "output_type": "stream",
       "stream": "stdout",
       "text": [
        " 720-5/11-14(A) DEF SENTENCED ILLINOIS DOC\n",
        "2005C11045101 720-5/11-14(A) CREDIT DEFENDANT FOR TIME SERV\n",
        "\n",
        "2005C11045201"
       ]
      },
      {
       "output_type": "stream",
       "stream": "stdout",
       "text": [
        " 720-5/16-3(A) DEF SENTENCED ILLINOIS DOC\n",
        "2005C11045201 720-5/16-3(A) CREDIT DEFENDANT FOR TIME SERV\n",
        "\n",
        "2005C11045401"
       ]
      },
      {
       "output_type": "stream",
       "stream": "stdout",
       "text": [
        " 720-5/11-14(A) DEF SENTENCED TO PROBATION\n",
        "2005C11045401 720-5/11-14(A) CREDIT DEFENDANT FOR TIME SERV\n",
        "\n",
        "2005C11045601"
       ]
      },
      {
       "output_type": "stream",
       "stream": "stdout",
       "text": [
        " 720-5/11-14(A) DEF SENTENCED TO PROBATION\n",
        "2005C11045601 720-5/11-14(A) CREDIT DEFENDANT FOR TIME SERV\n",
        "\n",
        "2005C11045801"
       ]
      },
      {
       "output_type": "stream",
       "stream": "stdout",
       "text": [
        " 720-5/11-14(A) DEF SENTENCED TO COOK CNTY DOC\n",
        "2005C11045801 720-5/11-14(A) CREDIT DEFENDANT FOR TIME SERV\n",
        "\n",
        "2005C11045901"
       ]
      },
      {
       "output_type": "stream",
       "stream": "stdout",
       "text": [
        " 720-5/16-1(A)(4)(B) DEF SENTENCED ILLINOIS DOC\n",
        "2005C11045901 720-5/16-1(A)(4)(B) CREDIT DEFENDANT FOR TIME SERV\n",
        "\n",
        "2005C11046001"
       ]
      },
      {
       "output_type": "stream",
       "stream": "stdout",
       "text": [
        " 720-5/16A-3(A) DEF SENTENCED ILLINOIS DOC\n",
        "2005C11046001 720-5/16A-3(A) CREDIT DEFENDANT FOR TIME SERV\n",
        "\n",
        "2005C11046101"
       ]
      },
      {
       "output_type": "stream",
       "stream": "stdout",
       "text": [
        " 720-5/16A-3(A) CREDIT DEFENDANT FOR TIME SERV\n",
        "2005C11046101 720-5/16A-3(A) DEF SENTENCED ILLINOIS DOC\n",
        "\n",
        "2005C11046201"
       ]
      },
      {
       "output_type": "stream",
       "stream": "stdout",
       "text": [
        " 720-5/11-14(A) CREDIT DEFENDANT FOR TIME SERV\n",
        "2005C11046201 720-5/11-14(A) DEF SENTENCED ILLINOIS DOC\n",
        "\n",
        "2005C11046301"
       ]
      },
      {
       "output_type": "stream",
       "stream": "stdout",
       "text": [
        " 720-5/11-14(A) DEF SENTENCED ILLINOIS DOC\n",
        "2005C11046301 720-5/11-14(A) CREDIT DEFENDANT FOR TIME SERV\n",
        "\n",
        "2005C11046401"
       ]
      },
      {
       "output_type": "stream",
       "stream": "stdout",
       "text": [
        " 720-570/402 CREDIT DEFENDANT FOR TIME SERV\n",
        "2005C11046401 720-570/402 DEF SENTENCED ILLINOIS DOC\n",
        "\n",
        "2005C11150501"
       ]
      },
      {
       "output_type": "stream",
       "stream": "stdout",
       "text": [
        " 625-5/4-103(A)(1) DEF SENTENCED TO PROBATION\n",
        "2005C11150501 625-5/4-103(A)(1) CREDIT DEFENDANT FOR TIME SERV\n",
        "\n",
        "2005C11150801"
       ]
      },
      {
       "output_type": "stream",
       "stream": "stdout",
       "text": [
        " 720-5/16-1(A)(3)(A) SENTENCED TO COMMUNITY SERVICE\n",
        "2005C11150801 720-5/16-1(A)(3)(A) DEF SENTENCED TO PROBATION\n",
        "2005C11150801 720-5/16-1(A)(3)(A) DEF SENT TO PAY RESTITUTION\n",
        "\n",
        "2005C11150901"
       ]
      },
      {
       "output_type": "stream",
       "stream": "stdout",
       "text": [
        " 720-5/24-1(A)(4) DEF SENTENCED TO PROBATION\n",
        "2005C11150901 720-5/24-1(A)(4) SENTENCED TO COMMUNITY SERVICE\n",
        "\n",
        "2005C11151001"
       ]
      },
      {
       "output_type": "stream",
       "stream": "stdout",
       "text": [
        " 720-5/16A-3(A) DEF SENTENCED TO PROBATION\n",
        "2005C11151001 720-5/16A-3(A) SENTENCED TO COMMUNITY SERVICE\n",
        "\n",
        "2005C11151501"
       ]
      },
      {
       "output_type": "stream",
       "stream": "stdout",
       "text": [
        " 720-5/16-1(A)(2) DEF SENTENCED TO PROBATION\n",
        "2005C11151501 720-5/16-1(A)(2) DEF SENT TO PAY RESTITUTION\n",
        "\n",
        "2005C11155101"
       ]
      },
      {
       "output_type": "stream",
       "stream": "stdout",
       "text": [
        " 720-5/16A-3(A) DEF SENTENCED ILLINOIS DOC\n",
        "2005C11155101 720-5/16A-3(A) CREDIT DEFENDANT FOR TIME SERV\n",
        "\n",
        "2005C11165101"
       ]
      },
      {
       "output_type": "stream",
       "stream": "stdout",
       "text": [
        " 720-5/16A-3(A) DEF SENTENCED ILLINOIS DOC\n",
        "2005C11165101 720-5/16A-3(A) CREDIT DEFENDANT FOR TIME SERV\n",
        "\n",
        "2005C11165401"
       ]
      },
      {
       "output_type": "stream",
       "stream": "stdout",
       "text": [
        " 720-5/16A-3(A) DEF SENTENCED ILLINOIS DOC\n",
        "2005C11165401 720-5/16A-3(A) CREDIT DEFENDANT FOR TIME SERV\n",
        "\n",
        "2005C11165501"
       ]
      },
      {
       "output_type": "stream",
       "stream": "stdout",
       "text": [
        " 720-5/16A-3(A) DEF SENTENCED ILLINOIS DOC\n",
        "2005C11165501 720-5/16A-3(A) CREDIT DEFENDANT FOR TIME SERV\n",
        "\n",
        "2005C11165701"
       ]
      },
      {
       "output_type": "stream",
       "stream": "stdout",
       "text": [
        " 720-5/16A-3(A) DEF SENTENCED ILLINOIS DOC\n",
        "2005C11165701 720-5/16A-3(A) CREDIT DEFENDANT FOR TIME SERV\n",
        "\n",
        "2005C11165801"
       ]
      },
      {
       "output_type": "stream",
       "stream": "stdout",
       "text": [
        " 720-5/16A-3(A) DEF SENTENCED ILLINOIS DOC\n",
        "2005C11165801 720-5/16A-3(A) CREDIT DEFENDANT FOR TIME SERV\n",
        "\n",
        "2005C11165901"
       ]
      },
      {
       "output_type": "stream",
       "stream": "stdout",
       "text": [
        " 720-5/16A-3(A) DEF SENTENCED ILLINOIS DOC\n",
        "2005C11165901 720-5/16A-3(A) CREDIT DEFENDANT FOR TIME SERV\n",
        "\n",
        "2005C11166001"
       ]
      },
      {
       "output_type": "stream",
       "stream": "stdout",
       "text": [
        " 720-5/16A-3(A) DEF SENTENCED ILLINOIS DOC\n",
        "2005C11166001 720-5/16A-3(A) CREDIT DEFENDANT FOR TIME SERV\n",
        "\n",
        "2005C11166401"
       ]
      },
      {
       "output_type": "stream",
       "stream": "stdout",
       "text": [
        " 720-5/16A-3(A) DEF SENTENCED ILLINOIS DOC\n",
        "2005C11166401 720-5/16A-3(A) CREDIT DEFENDANT FOR TIME SERV\n",
        "\n",
        "2005C11166501"
       ]
      },
      {
       "output_type": "stream",
       "stream": "stdout",
       "text": [
        " 720-5/16A-3(a) DEF SENTENCED TO PROBATION\n",
        "2005C11166501 720-5/16A-3(a) DEF SENTENCED TO COOK CNTY DOC\n",
        "2005C11166501 720-5/16A-3(a) CREDIT DEFENDANT FOR TIME SERV\n",
        "\n",
        "2005C11166601"
       ]
      },
      {
       "output_type": "stream",
       "stream": "stdout",
       "text": [
        " 720-5/16A-3(A) DEF SENTENCED ILLINOIS DOC\n",
        "2005C11166601 720-5/16A-3(A) CREDIT DEFENDANT FOR TIME SERV\n",
        "\n",
        "2005C11166901"
       ]
      },
      {
       "output_type": "stream",
       "stream": "stdout",
       "text": [
        " 720-5/16A-3(A) CREDIT DEFENDANT FOR TIME SERV\n",
        "2005C11166901 720-5/16A-3(A) DEF SENTENCED ILLINOIS DOC\n",
        "\n",
        "2005C11167001"
       ]
      },
      {
       "output_type": "stream",
       "stream": "stdout",
       "text": [
        " 38-12-3-A CREDIT DEFENDANT FOR TIME SERV\n",
        "2005C11167001 38-12-3-A DEF SENTENCED ILLINOIS DOC\n",
        "\n",
        "2005C11167101"
       ]
      },
      {
       "output_type": "stream",
       "stream": "stdout",
       "text": [
        " 720-5/16A-3(A) CREDIT DEFENDANT FOR TIME SERV\n",
        "2005C11167101 720-5/16A-3(A) DEF SENTENCED ILLINOIS DOC\n",
        "\n",
        "2005C11167201"
       ]
      },
      {
       "output_type": "stream",
       "stream": "stdout",
       "text": [
        " 720-5/17-3(A)(1) PROB AND OTHER DISC CONDS\n",
        "2005C11167201 720-5/17-3(A)(1) DEF SENT TO PAY RESTITUTION\n",
        "\n",
        "2005C11167501"
       ]
      },
      {
       "output_type": "stream",
       "stream": "stdout",
       "text": [
        " 720-5/16A-3(A) DEF SENTENCED ILLINOIS DOC\n",
        "2005C11167501 720-5/16A-3(A) CREDIT DEFENDANT FOR TIME SERV\n",
        "\n",
        "2005C11167601"
       ]
      },
      {
       "output_type": "stream",
       "stream": "stdout",
       "text": [
        " 720-5/16A-3(A) DEF SENTENCED ILLINOIS DOC\n",
        "2005C11167601 720-5/16A-3(A) CREDIT DEFENDANT FOR TIME SERV\n",
        "\n",
        "2005C11167701"
       ]
      },
      {
       "output_type": "stream",
       "stream": "stdout",
       "text": [
        " 720-5/16A-3(A) DEF SENTENCED ILLINOIS DOC\n",
        "2005C11167701 720-5/16A-3(A) CREDIT DEFENDANT FOR TIME SERV\n",
        "\n",
        "2005C11167801"
       ]
      },
      {
       "output_type": "stream",
       "stream": "stdout",
       "text": [
        " 720-5/16A-3(A) DEF SENTENCED TO PROBATION\n",
        "2005C11167801 720-5/16A-3(A) DEF SENT TO PAY RESTITUTION\n",
        "\n",
        "2005C11168101"
       ]
      },
      {
       "output_type": "stream",
       "stream": "stdout",
       "text": [
        " 720-5/16A-3(A) DEF SENTENCED ILLINOIS DOC\n",
        "2005C11168101 720-5/16A-3(A) CREDIT DEFENDANT FOR TIME SERV\n",
        "\n",
        "2005C11168201"
       ]
      },
      {
       "output_type": "stream",
       "stream": "stdout",
       "text": [
        " 720-5/16A-3(A) DEF SENTENCED ILLINOIS DOC\n",
        "2005C11168201 720-5/16A-3(A) CREDIT DEFENDANT FOR TIME SERV\n",
        "\n",
        "2005C11168301"
       ]
      },
      {
       "output_type": "stream",
       "stream": "stdout",
       "text": [
        " 720-5/19-1(A) DEF SENTENCED ILLINOIS DOC\n",
        "2005C11168301 720-5/19-1(A) CREDIT DEFENDANT FOR TIME SERV\n",
        "\n",
        "2005C11168401"
       ]
      },
      {
       "output_type": "stream",
       "stream": "stdout",
       "text": [
        " 720-5/16A-3(A) DEF SENTENCED ILLINOIS DOC\n",
        "2005C11168401 720-5/16A-3(A) CREDIT DEFENDANT FOR TIME SERV\n",
        "\n",
        "2005C11168501"
       ]
      },
      {
       "output_type": "stream",
       "stream": "stdout",
       "text": [
        " 720-515/4 DEF SENTENCED ILLINOIS DOC\n",
        "2005C11168501 720-515/4 CREDIT DEFENDANT FOR TIME SERV\n",
        "\n",
        "2005C11168601"
       ]
      },
      {
       "output_type": "stream",
       "stream": "stdout",
       "text": [
        " 720-5/19-1(A) DEF SENTENCED ILLINOIS DOC\n",
        "2005C11168601 720-5/19-1(A) CREDIT DEFENDANT FOR TIME SERV\n",
        "\n",
        "2005C11168901"
       ]
      },
      {
       "output_type": "stream",
       "stream": "stdout",
       "text": [
        " 720-5/19-3(A) DEF SENTENCED ILLINOIS DOC\n",
        "2005C11168901 720-5/19-3(A) CREDIT DEFENDANT FOR TIME SERV\n",
        "\n",
        "2005C11169001"
       ]
      },
      {
       "output_type": "stream",
       "stream": "stdout",
       "text": [
        " 720-5/19-3(A) DEF SENTENCED ILLINOIS DOC\n",
        "2005C11169001 720-5/19-3(A) CREDIT DEFENDANT FOR TIME SERV\n",
        "\n",
        "2005C11169101"
       ]
      },
      {
       "output_type": "stream",
       "stream": "stdout",
       "text": [
        " 720-5/16A-3(A) DEF SENTENCED ILLINOIS DOC\n",
        "2005C11169101 720-5/16A-3(A) CREDIT DEFENDANT FOR TIME SERV\n",
        "\n",
        "2005C11169201"
       ]
      },
      {
       "output_type": "stream",
       "stream": "stdout",
       "text": [
        " 720-5/16A-3(A) DEF SENTENCED ILLINOIS DOC\n",
        "2005C11169201 720-5/16A-3(A) CREDIT DEFENDANT FOR TIME SERV\n",
        "\n",
        "2005C11169301"
       ]
      },
      {
       "output_type": "stream",
       "stream": "stdout",
       "text": [
        " 720-5/19-3(A) DEF SENTENCED ILLINOIS DOC\n",
        "2005C11169301 720-5/19-3(A) CREDIT DEFENDANT FOR TIME SERV\n",
        "\n",
        "2005C11169501"
       ]
      },
      {
       "output_type": "stream",
       "stream": "stdout",
       "text": [
        " 720-5/24-1(A)(9) DEF SENTENCED ILLINOIS DOC\n",
        "2005C11169501 720-5/24-1(A)(9) CREDIT DEFENDANT FOR TIME SERV\n",
        "\n",
        "2005C11169601"
       ]
      },
      {
       "output_type": "stream",
       "stream": "stdout",
       "text": [
        " 720-5/16A-3(A) DEF SENTENCED ILLINOIS DOC\n",
        "2005C11169601 720-5/16A-3(A) CREDIT DEFENDANT FOR TIME SERV\n",
        "\n",
        "2005C11169801"
       ]
      },
      {
       "output_type": "stream",
       "stream": "stdout",
       "text": [
        " 720-5/16A-3(A) DEF SENTENCED ILLINOIS DOC\n",
        "2005C11169801 720-5/16A-3(A) CREDIT DEFENDANT FOR TIME SERV\n",
        "\n",
        "2005C11169901"
       ]
      },
      {
       "output_type": "stream",
       "stream": "stdout",
       "text": [
        " 720-5/16A-3(A) PROB AND OTHER DISC CONDS\n",
        "2005C11169901 720-5/16A-3(A) DEF SENTENCED TO COOK CNTY DOC\n",
        "2005C11169901 720-5/16A-3(A) CREDIT DEFENDANT FOR TIME SERV\n",
        "\n",
        "2005C11170001"
       ]
      },
      {
       "output_type": "stream",
       "stream": "stdout",
       "text": [
        " 720-5/18-1(A) DEF SENTENCED ILLINOIS DOC\n",
        "2005C11170001 720-5/18-1(A) CREDIT DEFENDANT FOR TIME SERV\n",
        "\n",
        "2005C11170101"
       ]
      },
      {
       "output_type": "stream",
       "stream": "stdout",
       "text": [
        " 720-5/16A-3(A) DEF SENTENCED ILLINOIS DOC\n",
        "2005C11170101 720-5/16A-3(A) CREDIT DEFENDANT FOR TIME SERV\n",
        "\n",
        "2005C11170201"
       ]
      },
      {
       "output_type": "stream",
       "stream": "stdout",
       "text": [
        " 720-5/16A-3(A) DEF SENTENCED ILLINOIS DOC\n",
        "2005C11170201 720-5/16A-3(A) CREDIT DEFENDANT FOR TIME SERV\n",
        "\n",
        "2005C11170301"
       ]
      },
      {
       "output_type": "stream",
       "stream": "stdout",
       "text": [
        " 720-5/26-1(A)(4) DEF SENTENCED TO PROBATION\n",
        "2005C11170301 720-5/26-1(A)(4) SENTENCED TO COMMUNITY SERVICE\n",
        "\n",
        "2005C11170501"
       ]
      },
      {
       "output_type": "stream",
       "stream": "stdout",
       "text": [
        " 720-5/16-1(A)(2) DEF SENTENCED ILLINOIS DOC\n",
        "2005C11170501 720-5/16-1(A)(2) CREDIT DEFENDANT FOR TIME SERV\n",
        "\n",
        "2005C11170601"
       ]
      },
      {
       "output_type": "stream",
       "stream": "stdout",
       "text": [
        " 720-5/16A-3(A) DEF SENTENCED ILLINOIS DOC\n",
        "2005C11170601 720-5/16A-3(A) CREDIT DEFENDANT FOR TIME SERV\n",
        "\n",
        "2005C11170701"
       ]
      },
      {
       "output_type": "stream",
       "stream": "stdout",
       "text": [
        " 720-5/11-15(A)(1) DEF SENTENCED ILLINOIS DOC\n",
        "2005C11170701 720-5/11-15(A)(1) CREDIT DEFENDANT FOR TIME SERV\n",
        "\n",
        "2005C11171401"
       ]
      },
      {
       "output_type": "stream",
       "stream": "stdout",
       "text": [
        " 720-5/16A-3(A) DEF SENTENCED ILLINOIS DOC\n",
        "2005C11171401 720-5/16A-3(A) CREDIT DEFENDANT FOR TIME SERV\n",
        "\n",
        "2005C11171601"
       ]
      },
      {
       "output_type": "stream",
       "stream": "stdout",
       "text": [
        " 720-5/16A-3(A) DEF SENTENCED ILLINOIS DOC\n",
        "2005C11171601 720-5/16A-3(A) CREDIT DEFENDANT FOR TIME SERV\n",
        "\n",
        "2005C11171901"
       ]
      },
      {
       "output_type": "stream",
       "stream": "stdout",
       "text": [
        " 720-5/16A-3(A) DEF SENTENCED ILLINOIS DOC\n",
        "2005C11171901 720-5/16A-3(A) CREDIT DEFENDANT FOR TIME SERV\n",
        "\n",
        "2005C11172001"
       ]
      },
      {
       "output_type": "stream",
       "stream": "stdout",
       "text": [
        " 720-5/16A-3(A) DEF SENTENCED ILLINOIS DOC\n",
        "2005C11172001 720-5/16A-3(A) CREDIT DEFENDANT FOR TIME SERV\n",
        "\n",
        "2005C11172101"
       ]
      },
      {
       "output_type": "stream",
       "stream": "stdout",
       "text": [
        " 720-5/16A-3(A) DEF SENTENCED ILLINOIS DOC\n",
        "2005C11172101 720-5/16A-3(A) CREDIT DEFENDANT FOR TIME SERV\n",
        "\n",
        "2005C11172201"
       ]
      },
      {
       "output_type": "stream",
       "stream": "stdout",
       "text": [
        " 720-5/16A-3(A) CREDIT DEFENDANT FOR TIME SERV\n",
        "2005C11172201 720-5/16A-3(A) DEF SENTENCED TO COOK CNTY DOC\n",
        "\n",
        "2005C11172301"
       ]
      },
      {
       "output_type": "stream",
       "stream": "stdout",
       "text": [
        " 720-5/26-1(A)(3) DEF SENTENCED TO PROBATION\n",
        "2005C11172301 720-5/26-1(A)(3) SENTENCED TO COMMUNITY SERVICE\n",
        "\n",
        "2005C11172401"
       ]
      },
      {
       "output_type": "stream",
       "stream": "stdout",
       "text": [
        " 720-5/16A-3(A) DEF SENTENCED ILLINOIS DOC\n",
        "2005C11172401 720-5/16A-3(A) CREDIT DEFENDANT FOR TIME SERV\n",
        "\n",
        "2005C11172501"
       ]
      },
      {
       "output_type": "stream",
       "stream": "stdout",
       "text": [
        " 720-5/16A-3(A) DEF SENTENCED ILLINOIS DOC\n",
        "2005C11172501 720-5/16A-3(A) CREDIT DEFENDANT FOR TIME SERV\n",
        "\n",
        "2005C11172601"
       ]
      },
      {
       "output_type": "stream",
       "stream": "stdout",
       "text": [
        " 720-5/16-1(A)(2)(A) PROB AND OTHER DISC CONDS\n",
        "2005C11172601 720-5/16-1(A)(2)(A) DEF SENT TO PAY RESTITUTION\n",
        "\n",
        "2005C11172801"
       ]
      },
      {
       "output_type": "stream",
       "stream": "stdout",
       "text": [
        " 720-5/18-2(A) DEF SENTENCED ILLINOIS DOC\n",
        "2005C11172801 720-5/18-2(A) CREDIT DEFENDANT FOR TIME SERV\n",
        "\n",
        "2005C11172901"
       ]
      },
      {
       "output_type": "stream",
       "stream": "stdout",
       "text": [
        " 625-5/6-301.1(B)(3) DEF SENTENCED ILLINOIS DOC\n",
        "2005C11172901 625-5/6-301.1(B)(3) CREDIT DEFENDANT FOR TIME SERV\n",
        "\n",
        "2005C11173001"
       ]
      },
      {
       "output_type": "stream",
       "stream": "stdout",
       "text": [
        " 720-5/16A-3(A) DEF SENTENCED ILLINOIS DOC\n",
        "2005C11173001 720-5/16A-3(A) CREDIT DEFENDANT FOR TIME SERV\n",
        "\n",
        "2005C11173101"
       ]
      },
      {
       "output_type": "stream",
       "stream": "stdout",
       "text": [
        " 720-5/16A-3(A) DEF SENTENCED ILLINOIS DOC\n",
        "2005C11173101 720-5/16A-3(A) CREDIT DEFENDANT FOR TIME SERV\n",
        "\n",
        "2005C11173301"
       ]
      },
      {
       "output_type": "stream",
       "stream": "stdout",
       "text": [
        " 720-5/19-1(A) DEF SENTENCED ILLINOIS DOC\n",
        "2005C11173301 720-5/19-1(A) CREDIT DEFENDANT FOR TIME SERV\n",
        "\n",
        "2005C11173401"
       ]
      },
      {
       "output_type": "stream",
       "stream": "stdout",
       "text": [
        " 720-5/19-1(A) DEF SENTENCED ILLINOIS DOC\n",
        "2005C11173401 720-5/19-1(A) CREDIT DEFENDANT FOR TIME SERV\n",
        "\n",
        "2005C11173601"
       ]
      },
      {
       "output_type": "stream",
       "stream": "stdout",
       "text": [
        " 720-5/16-1(A)(1) DEF SENTENCED TO PROBATION\n",
        "2005C11173601 720-5/16-1(A)(1) DEF SENT TO PAY RESTITUTION\n",
        "\n",
        "2005C11173801"
       ]
      },
      {
       "output_type": "stream",
       "stream": "stdout",
       "text": [
        " 720-5/16A-3(A) DEF SENTENCED ILLINOIS DOC\n",
        "2005C11173801 720-5/16A-3(A) CREDIT DEFENDANT FOR TIME SERV\n",
        "\n",
        "2005C11173901"
       ]
      },
      {
       "output_type": "stream",
       "stream": "stdout",
       "text": [
        " 720-5/16-1(A)(1) DEF SENTENCED ILLINOIS DOC\n",
        "2005C11173901 720-5/16-1(A)(1) CREDIT DEFENDANT FOR TIME SERV\n",
        "\n",
        "2005C11174001"
       ]
      },
      {
       "output_type": "stream",
       "stream": "stdout",
       "text": [
        " 720-5/18-1(A) DEF SENTENCED ILLINOIS DOC\n",
        "2005C11174001 720-5/18-1(A) CREDIT DEFENDANT FOR TIME SERV\n",
        "\n",
        "2005C11174101"
       ]
      },
      {
       "output_type": "stream",
       "stream": "stdout",
       "text": [
        " 720-5/16A-3(A) DEF SENTENCED ILLINOIS DOC\n",
        "2005C11174101 720-5/16A-3(A) CREDIT DEFENDANT FOR TIME SERV\n",
        "\n",
        "2005C11174401"
       ]
      },
      {
       "output_type": "stream",
       "stream": "stdout",
       "text": [
        " 720-5/24-1.1(A) DEF SENTENCED ILLINOIS DOC\n",
        "2005C11174401 720-5/24-1.1(A) CREDIT DEFENDANT FOR TIME SERV\n",
        "\n",
        "2005C11174701"
       ]
      },
      {
       "output_type": "stream",
       "stream": "stdout",
       "text": [
        " 720-5/18-1(A) DEF SENTENCED ILLINOIS DOC\n",
        "2005C11174701 720-5/18-1(A) CREDIT DEFENDANT FOR TIME SERV\n",
        "\n",
        "2005C11174801"
       ]
      },
      {
       "output_type": "stream",
       "stream": "stdout",
       "text": [
        " 720-5/16A-3(A) DEF SENTENCED ILLINOIS DOC\n",
        "2005C11174801 720-5/16A-3(A) CREDIT DEFENDANT FOR TIME SERV\n",
        "\n",
        "2005C11174901"
       ]
      },
      {
       "output_type": "stream",
       "stream": "stdout",
       "text": [
        " 720-5/16A-3(A) DEF SENTENCED ILLINOIS DOC\n",
        "2005C11174901 720-5/16A-3(A) CREDIT DEFENDANT FOR TIME SERV\n",
        "\n",
        "2005C11175201"
       ]
      },
      {
       "output_type": "stream",
       "stream": "stdout",
       "text": [
        " 720-5/24-1(A)(1) DEF SENTENCED ILLINOIS DOC\n",
        "2005C11175201 720-5/24-1(A)(1) CREDIT DEFENDANT FOR TIME SERV\n",
        "\n",
        "2005C11175301"
       ]
      },
      {
       "output_type": "stream",
       "stream": "stdout",
       "text": [
        " 720-5/17-3(A)(1) DEF SENTENCED TO PROBATION\n",
        "2005C11175301 720-5/17-3(A)(1) DEF SENT TO PAY RESTITUTION\n",
        "\n",
        "2005C11175401"
       ]
      },
      {
       "output_type": "stream",
       "stream": "stdout",
       "text": [
        " 720-5/16A-3(A) DEF SENTENCED ILLINOIS DOC\n",
        "2005C11175401 720-5/16A-3(A) CREDIT DEFENDANT FOR TIME SERV\n",
        "\n",
        "2005C11175501"
       ]
      },
      {
       "output_type": "stream",
       "stream": "stdout",
       "text": [
        " 720-5/16A-3(A) DEF SENTENCED ILLINOIS DOC\n",
        "2005C11175501 720-5/16A-3(A) CREDIT DEFENDANT FOR TIME SERV\n",
        "\n",
        "2005C11175701"
       ]
      },
      {
       "output_type": "stream",
       "stream": "stdout",
       "text": [
        " 720-5/16A-3(A) DEF SENTENCED ILLINOIS DOC\n",
        "2005C11175701 720-5/16A-3(A) CREDIT DEFENDANT FOR TIME SERV\n",
        "\n",
        "2005C11175801"
       ]
      },
      {
       "output_type": "stream",
       "stream": "stdout",
       "text": [
        " 720-5/16A-3(A) DEF SENTENCED ILLINOIS DOC\n",
        "2005C11175801 720-5/16A-3(A) CREDIT DEFENDANT FOR TIME SERV\n",
        "\n",
        "2005C11175901"
       ]
      },
      {
       "output_type": "stream",
       "stream": "stdout",
       "text": [
        " 720-5/16A-3(A) DEF SENTENCED ILLINOIS DOC\n",
        "2005C11175901 720-5/16A-3(A) CREDIT DEFENDANT FOR TIME SERV\n",
        "\n",
        "2005C11176001"
       ]
      },
      {
       "output_type": "stream",
       "stream": "stdout",
       "text": [
        " 720-5/16A-3(A) DEF SENTENCED ILLINOIS DOC\n",
        "2005C11176001 720-5/16A-3(A) CREDIT DEFENDANT FOR TIME SERV\n",
        "\n",
        "2005C11176101"
       ]
      },
      {
       "output_type": "stream",
       "stream": "stdout",
       "text": [
        " 720-5/12-4(A) DEF SENTENCED TO PROBATION\n",
        "2005C11176101 720-5/12-4(A) CREDIT DEFENDANT FOR TIME SERV\n",
        "\n",
        "2005C11176301"
       ]
      },
      {
       "output_type": "stream",
       "stream": "stdout",
       "text": [
        " 720-5/16A-3(A) DEF SENTENCED ILLINOIS DOC\n",
        "2005C11176301 720-5/16A-3(A) CREDIT DEFENDANT FOR TIME SERV\n",
        "\n",
        "2005C11176401"
       ]
      },
      {
       "output_type": "stream",
       "stream": "stdout",
       "text": [
        " 720-5/16A-3(A) DEF SENTENCED ILLINOIS DOC\n",
        "2005C11176401 720-5/16A-3(A) CREDIT DEFENDANT FOR TIME SERV\n",
        "\n",
        "2005C11176801"
       ]
      },
      {
       "output_type": "stream",
       "stream": "stdout",
       "text": [
        " 720-5/16A-3(A) DEF SENTENCED ILLINOIS DOC\n",
        "2005C11176801 720-5/16A-3(A) CREDIT DEFENDANT FOR TIME SERV\n",
        "\n",
        "2005C11177101"
       ]
      },
      {
       "output_type": "stream",
       "stream": "stdout",
       "text": [
        " 720-5/16A-3(A) DEF SENTENCED ILLINOIS DOC\n",
        "2005C11177101 720-5/16A-3(A) CREDIT DEFENDANT FOR TIME SERV\n",
        "\n",
        "2005C11177201"
       ]
      },
      {
       "output_type": "stream",
       "stream": "stdout",
       "text": [
        " 720-5/16A-3(A) DEF SENTENCED ILLINOIS DOC\n",
        "2005C11177201 720-5/16A-3(A) CREDIT DEFENDANT FOR TIME SERV\n",
        "\n",
        "2005C11177301"
       ]
      },
      {
       "output_type": "stream",
       "stream": "stdout",
       "text": [
        " 720-5/16A-3(A) DEF SENTENCED ILLINOIS DOC\n",
        "2005C11177301 720-5/16A-3(A) CREDIT DEFENDANT FOR TIME SERV\n",
        "\n",
        "2005C11177401"
       ]
      },
      {
       "output_type": "stream",
       "stream": "stdout",
       "text": [
        " 720-5/19-1(A) DEF SENTENCED ILLINOIS DOC\n",
        "2005C11177401 720-5/19-1(A) CREDIT DEFENDANT FOR TIME SERV\n",
        "\n",
        "2005C11177501"
       ]
      },
      {
       "output_type": "stream",
       "stream": "stdout",
       "text": [
        " 720-5/16A-3(A) DEF SENTENCED ILLINOIS DOC\n",
        "2005C11177501 720-5/16A-3(A) CREDIT DEFENDANT FOR TIME SERV\n",
        "\n",
        "2005C11177601"
       ]
      },
      {
       "output_type": "stream",
       "stream": "stdout",
       "text": [
        " 720-5/16A-3(A) DEF SENTENCED ILLINOIS DOC\n",
        "2005C11177601 720-5/16A-3(A) CREDIT DEFENDANT FOR TIME SERV\n",
        "\n",
        "2005C11195401"
       ]
      },
      {
       "output_type": "stream",
       "stream": "stdout",
       "text": [
        " 720-5/18-1(A) DEF SENTENCED TO PROBATION\n",
        "2005C11195401 720-5/18-1(A) SENTENCED TO COMMUNITY SERVICE\n",
        "\n",
        "2005C11195601"
       ]
      },
      {
       "output_type": "stream",
       "stream": "stdout",
       "text": [
        " 625-5/4-103(A)(1) DEF SENTENCED TO PROBATION\n",
        "2005C11195601 625-5/4-103(A)(1) SENTENCED TO COMMUNITY SERVICE\n",
        "\n",
        "2005C11195701"
       ]
      },
      {
       "output_type": "stream",
       "stream": "stdout",
       "text": [
        " 720-570/402(C) DEF SENTENCED ILLINOIS DOC\n",
        "2005C11195701 720-570/402(C) CREDIT DEFENDANT FOR TIME SERV\n",
        "\n",
        "2005C11196001"
       ]
      },
      {
       "output_type": "stream",
       "stream": "stdout",
       "text": [
        " 720-5/18-1(A) SENTENCED TO COMMUNITY SERVICE\n",
        "2005C11196001 720-5/18-1(A) DEF SENTENCED TO PROBATION\n",
        "\n",
        "2005C11196301"
       ]
      },
      {
       "output_type": "stream",
       "stream": "stdout",
       "text": [
        " 720-5/24-1.6(A)(1) DEF SENTENCED TO PROBATION\n",
        "2005C11196301 720-5/24-1.6(A)(1) SENTENCED TO COMMUNITY SERVICE\n",
        "\n",
        "2005C11196501"
       ]
      },
      {
       "output_type": "stream",
       "stream": "stdout",
       "text": [
        " 720-5/24-1.6(A)(1) DEF SENTENCED TO PROBATION\n",
        "2005C11196501 720-5/24-1.6(A)(1) SENTENCED TO COMMUNITY SERVICE\n",
        "\n",
        "2005C11197001"
       ]
      },
      {
       "output_type": "stream",
       "stream": "stdout",
       "text": [
        " 720-5/24-1.6(A)(1) DEF SENTENCED TO PROBATION\n",
        "2005C11197001 720-5/24-1.6(A)(1) SENTENCED TO COMMUNITY SERVICE\n",
        "\n",
        "2005C11197701"
       ]
      },
      {
       "output_type": "stream",
       "stream": "stdout",
       "text": [
        " 720-5/16A-3(A) DEF SENTENCED ILLINOIS DOC\n",
        "2005C11197701 720-5/16A-3(A) CREDIT DEFENDANT FOR TIME SERV\n",
        "\n",
        "2005C11197801"
       ]
      },
      {
       "output_type": "stream",
       "stream": "stdout",
       "text": [
        " 720-570/402(C) DEF SENTENCED ILLINOIS DOC\n",
        "2005C11197801 720-570/402(C) CREDIT DEFENDANT FOR TIME SERV\n",
        "\n",
        "2005C11197901"
       ]
      },
      {
       "output_type": "stream",
       "stream": "stdout",
       "text": [
        " 720-5/16-1(A)(1) DEF SENT TO PAY RESTITUTION\n",
        "2005C11197901 720-5/16-1(A)(1) DEF SENTENCED TO PROBATION\n",
        "\n",
        "2005C11198001"
       ]
      },
      {
       "output_type": "stream",
       "stream": "stdout",
       "text": [
        " 720-5/16A-3(a) DEF SENTENCED ILLINOIS DOC\n",
        "2005C11198001 720-5/16A-3(a) CREDIT DEFENDANT FOR TIME SERV\n",
        "\n",
        "2005C11198101"
       ]
      },
      {
       "output_type": "stream",
       "stream": "stdout",
       "text": [
        " 720-5/12-4(B)(18) DEF SENTENCED TO PROBATION\n",
        "2005C11198101 720-5/12-4(B)(18) SENTENCED TO COMMUNITY SERVICE\n",
        "2005C11198101 720-5/12-4(B)(18) CREDIT DEFENDANT FOR TIME SERV\n",
        "\n",
        "2005C11198201"
       ]
      },
      {
       "output_type": "stream",
       "stream": "stdout",
       "text": [
        " 625-5/4-103(A)(1) DEF SENTENCED ILLINOIS DOC\n",
        "2005C11198201 625-5/4-103(A)(1) CREDIT DEFENDANT FOR TIME SERV\n",
        "\n",
        "2005C22000501"
       ]
      },
      {
       "output_type": "stream",
       "stream": "stdout",
       "text": [
        " 720-5/16A-3(a) DEF SENTENCED ILLINOIS DOC\n",
        "2005C22000501 720-5/16A-3(a) CREDIT DEFENDANT FOR TIME SERV\n",
        "\n",
        "2005C22000701"
       ]
      },
      {
       "output_type": "stream",
       "stream": "stdout",
       "text": [
        " 720-5/19-3(a) PROB AND OTHER DISC CONDS\n",
        "2005C22000701 720-5/19-3(a) DEF SENTENCED TO COOK CNTY DOC\n",
        "\n",
        "2005C22000901"
       ]
      },
      {
       "output_type": "stream",
       "stream": "stdout",
       "text": [
        " 720-5/16A-3(a) DEF SENTENCED ILLINOIS DOC\n",
        "2005C22000901 720-5/16A-3(a) CREDIT DEFENDANT FOR TIME SERV\n",
        "\n",
        "2005C22001101"
       ]
      },
      {
       "output_type": "stream",
       "stream": "stdout",
       "text": [
        " 720-5/11-9(a)(2) DEF SENTENCED ILLINOIS DOC\n",
        "2005C22001101 720-5/11-9(a)(2) CREDIT DEFENDANT FOR TIME SERV\n",
        "\n",
        "2005C22001201"
       ]
      },
      {
       "output_type": "stream",
       "stream": "stdout",
       "text": [
        " 720-5/16A-3(a) DEF SENTENCED TO PROBATION\n",
        "2005C22001201 720-5/16A-3(a) DEF SENTENCED TO PROBATION\n",
        "2005C22001201 720-5/16A-3(a) CREDIT DEFENDANT FOR TIME SERV\n",
        "\n",
        "2005C22001301"
       ]
      },
      {
       "output_type": "stream",
       "stream": "stdout",
       "text": [
        " 720-5/17-3(a)(1) DEF SENTENCED TO PROBATION\n",
        "2005C22001301 720-5/17-3(a)(1) DEF SENTENCED TO COOK CNTY DOC\n",
        "2005C22001301 720-5/17-3(a)(1) CREDIT DEFENDANT FOR TIME SERV\n",
        "2005C22001301 720-5/16G-15(a) DEF SENTENCED TO PROBATION\n",
        "2005C22001301 720-5/16G-15(a) DEF SENTENCED TO COOK CNTY DOC\n",
        "\n",
        "2005C22001501"
       ]
      },
      {
       "output_type": "stream",
       "stream": "stdout",
       "text": [
        " 625-5/11-501(c-1)(1) CREDIT DEFENDANT FOR TIME SERV\n",
        "2005C22001501 625-5/6-303(d) DEF SENTENCED TO COOK CNTY DOC\n",
        "2005C22001501 625-5/6-303(d) DEF SENTENCED TO PROBATION\n",
        "\n",
        "2005C22001601"
       ]
      },
      {
       "output_type": "stream",
       "stream": "stdout",
       "text": [
        " 625-5/6-303(d) DEF SENTENCED ILLINOIS DOC\n",
        "2005C22001601 625-5/6-303(d) CREDIT DEFENDANT FOR TIME SERV\n",
        "\n",
        "2005C22002401"
       ]
      },
      {
       "output_type": "stream",
       "stream": "stdout",
       "text": [
        " 625-5/11-501(c-1)(1) DEF SENTENCED ILLINOIS DOC\n",
        "2005C22002401 625-5/11-501(c-1)(1) CREDIT DEFENDANT FOR TIME SERV\n",
        "\n",
        "2005C22002501"
       ]
      },
      {
       "output_type": "stream",
       "stream": "stdout",
       "text": [
        " 625-5/11-501(C-1)(1) PROB AND OTHER DISC CONDS\n",
        "2005C22002501 625-5/11-501(C-1)(1) SENTENCED TO COMMUNITY SERVICE\n",
        "\n",
        "2005C22002601"
       ]
      },
      {
       "output_type": "stream",
       "stream": "stdout",
       "text": [
        " 720-5/19-1(a) DEF SENTENCED ILLINOIS DOC\n",
        "2005C22002601 720-5/19-1(a) CREDIT DEFENDANT FOR TIME SERV\n",
        "\n",
        "2005C22002701"
       ]
      },
      {
       "output_type": "stream",
       "stream": "stdout",
       "text": [
        " 720-5/19-1(a) DEF SENTENCED TO PROBATION\n",
        "2005C22002701 720-5/19-1(a) DEF SENT TO PAY RESTITUTION\n",
        "\n",
        "2005C22002801"
       ]
      },
      {
       "output_type": "stream",
       "stream": "stdout",
       "text": [
        " 720-5/16A-3(a) DEF SENTENCED ILLINOIS DOC\n",
        "2005C22002801 720-5/16A-3(a) CREDIT DEFENDANT FOR TIME SERV\n",
        "\n",
        "2005C22003401"
       ]
      },
      {
       "output_type": "stream",
       "stream": "stdout",
       "text": [
        " 720-5/16A-3(a) DEF SENTENCED ILLINOIS DOC\n",
        "2005C22003401 720-5/16A-3(a) CREDIT DEFENDANT FOR TIME SERV\n",
        "\n",
        "2005C22003402"
       ]
      },
      {
       "output_type": "stream",
       "stream": "stdout",
       "text": [
        " 720-5/16A-3(a) DEF SENTENCED ILLINOIS DOC\n",
        "2005C22003402 720-5/16A-3(a) CREDIT DEFENDANT FOR TIME SERV\n",
        "\n",
        "2005C22003501"
       ]
      },
      {
       "output_type": "stream",
       "stream": "stdout",
       "text": [
        " 625-5/11-501(C-1)(1) DEF SENTENCED TO PROBATION\n",
        "2005C22003501 625-5/11-501(C-1)(1) SENTENCED TO COMMUNITY SERVICE\n",
        "\n",
        "2005C22004301"
       ]
      },
      {
       "output_type": "stream",
       "stream": "stdout",
       "text": [
        " 720-5/16A-3(a) DEF SENT CONDITIONAL DISCHARGE\n",
        "2005C22004301 720-5/16A-3(a) SENTENCED TO COMMUNITY SERVICE\n",
        "\n",
        "2005C22004901"
       ]
      },
      {
       "output_type": "stream",
       "stream": "stdout",
       "text": [
        " 720-570/402(c) DEF SENTENCED ILLINOIS DOC\n",
        "2005C22004901 720-570/402(c) CREDIT DEFENDANT FOR TIME SERV\n",
        "\n",
        "2005C22005001"
       ]
      },
      {
       "output_type": "stream",
       "stream": "stdout",
       "text": [
        " 720-5/16-1(a)(1) PROB AND OTHER DISC CONDS\n",
        "2005C22005001 720-5/16-1(a)(1) DEF SENT TO PAY RESTITUTION\n",
        "\n",
        "2005C22005101"
       ]
      },
      {
       "output_type": "stream",
       "stream": "stdout",
       "text": [
        " 720 5/8-4 31-4 DEF SENTENCED TO COOK CNTY DOC\n",
        "2005C22005101 720 5/8-4 31-4 CREDIT DEFENDANT FOR TIME SERV\n",
        "\n",
        "2005C22005801"
       ]
      },
      {
       "output_type": "stream",
       "stream": "stdout",
       "text": [
        " 720-5/16A-3(a) DEF SENTENCED ILLINOIS DOC\n",
        "2005C22005801 720-5/16A-3(a) CREDIT DEFENDANT FOR TIME SERV\n",
        "\n",
        "2005C22005901"
       ]
      },
      {
       "output_type": "stream",
       "stream": "stdout",
       "text": [
        " 15-335/14A(b)(1) DEF SENTENCED ILLINOIS DOC\n",
        "2005C22005901 15-335/14A(b)(1) CREDIT DEFENDANT FOR TIME SERV\n",
        "\n",
        "2005C22006201"
       ]
      },
      {
       "output_type": "stream",
       "stream": "stdout",
       "text": [
        " 15-335/14A(b)(1) DEF SENTENCED ILLINOIS DOC\n",
        "2005C22006201 15-335/14A(b)(1) CREDIT DEFENDANT FOR TIME SERV\n",
        "\n",
        "2005C22006301"
       ]
      },
      {
       "output_type": "stream",
       "stream": "stdout",
       "text": [
        " 720-5/16A-3(A) DEF SENTENCED ILLINOIS DOC\n",
        "2005C22006301 720-5/16A-3(A) CREDIT DEFENDANT FOR TIME SERV\n",
        "\n",
        "2005C22006302"
       ]
      },
      {
       "output_type": "stream",
       "stream": "stdout",
       "text": [
        " 720-5/16A-3(A) DEF SENTENCED ILLINOIS DOC\n",
        "2005C22006302 720-5/16A-3(A) CREDIT DEFENDANT FOR TIME SERV\n",
        "\n",
        "2005C22006501"
       ]
      },
      {
       "output_type": "stream",
       "stream": "stdout",
       "text": [
        " 720-5/31-6(c-5) DEF SENTENCED ILLINOIS DOC\n",
        "2005C22006501 720-5/31-6(c-5) CREDIT DEFENDANT FOR TIME SERV\n",
        "\n",
        "2005C22006601"
       ]
      },
      {
       "output_type": "stream",
       "stream": "stdout",
       "text": [
        " 625-5/11-501(c-1)(1) DEF SENTENCED TO PROBATION\n",
        "2005C22006601 625-5/11-501(c-1)(1) DEF SENTENCED TO COOK CNTY DOC\n",
        "2005C22006601 625-5/11-501(c-1)(1) CREDIT DEFENDANT FOR TIME SERV\n",
        "2005C22006601 625-5/11-501(d)(1)(A) DEF SENTENCED TO PROBATION\n",
        "2005C22006601 625-5/11-501(d)(1)(A) DEF SENTENCED TO COOK CNTY DOC\n",
        "\n",
        "2005C22007401"
       ]
      },
      {
       "output_type": "stream",
       "stream": "stdout",
       "text": [
        " 720-5/19-1(a) DEF SENTENCED ILLINOIS DOC\n",
        "2005C22007401 720-5/19-1(a) CREDIT DEFENDANT FOR TIME SERV\n",
        "\n",
        "2005C22007601"
       ]
      },
      {
       "output_type": "stream",
       "stream": "stdout",
       "text": [
        " 625-5/4-103(a)(1) DEF SENTENCED ILLINOIS DOC\n",
        "2005C22007601 625-5/4-103(a)(1) CREDIT DEFENDANT FOR TIME SERV\n",
        "\n",
        "2005C22007602"
       ]
      },
      {
       "output_type": "stream",
       "stream": "stdout",
       "text": [
        " 720-5/16A-3(a) DEF SENTENCED ILLINOIS DOC\n",
        "2005C22007602 720-5/16A-3(a) CREDIT DEFENDANT FOR TIME SERV\n",
        "\n",
        "2005C22007801"
       ]
      },
      {
       "output_type": "stream",
       "stream": "stdout",
       "text": [
        " 720-5/17-3(a)(2) DEF SENTENCED ILLINOIS DOC\n",
        "2005C22007801 720-5/17-3(a)(2) CREDIT DEFENDANT FOR TIME SERV\n",
        "\n",
        "2005C22007901"
       ]
      },
      {
       "output_type": "stream",
       "stream": "stdout",
       "text": [
        " 720-5/26-1(a)(4) PROB AND OTHER DISC CONDS\n",
        "2005C22007901 720-5/26-1(a)(4) SENTENCED TO COMMUNITY SERVICE\n",
        "\n",
        "2005C22008501"
       ]
      },
      {
       "output_type": "stream",
       "stream": "stdout",
       "text": [
        " 625-5/11-501(c-1)(1) DEF SENTENCED ILLINOIS DOC\n",
        "2005C22008501 625-5/11-501(c-1)(1) CREDIT DEFENDANT FOR TIME SERV\n",
        "\n",
        "2005C22008601"
       ]
      },
      {
       "output_type": "stream",
       "stream": "stdout",
       "text": [
        " 625-5/11-501(c-1)(1) COND DISCH AND OTHER DISC COND\n",
        "2005C22008601 625-5/11-501(c-1)(1) DEF SENTENCED TO COOK CNTY DOC\n",
        "\n",
        "2005C22009101"
       ]
      },
      {
       "output_type": "stream",
       "stream": "stdout",
       "text": [
        " 720-5/21-1(1)(a) PROB AND OTHER DISC CONDS\n",
        "2005C22009101 720-5/21-1(1)(a) SENTENCED TO COMMUNITY SERVICE\n",
        "\n",
        "2005C22009102"
       ]
      },
      {
       "output_type": "stream",
       "stream": "stdout",
       "text": [
        " 720-5/21-1(1)(a) PROB AND OTHER DISC CONDS\n",
        "2005C22009102 720-5/21-1(1)(a) SENTENCED TO COMMUNITY SERVICE\n",
        "2005C22009102 720-5/21-1(1)(a) PROB AND OTHER DISC CONDS\n",
        "2005C22009102 720-5/21-1(1)(a) SENTENCED TO COMMUNITY SERVICE\n",
        "\n",
        "2005C22009103"
       ]
      },
      {
       "output_type": "stream",
       "stream": "stdout",
       "text": [
        " 720-5/21-1(1)(a) PROB AND OTHER DISC CONDS\n",
        "2005C22009103 720-5/21-1(1)(a) SENTENCED TO COMMUNITY SERVICE\n",
        "2005C22009103 720-5/21-1(1)(a) PROB AND OTHER DISC CONDS\n",
        "2005C22009103 720-5/21-1(1)(a) SENTENCED TO COMMUNITY SERVICE\n",
        "\n",
        "2005C22009301"
       ]
      },
      {
       "output_type": "stream",
       "stream": "stdout",
       "text": [
        " 720-570/402(c) DEF SENTENCED TO PROBATION\n",
        "2005C22009301 720-570/402(c) DEF SENTENCED TO COOK CNTY DOC\n",
        "2005C22009301 720-570/402(c) CREDIT DEFENDANT FOR TIME SERV\n",
        "\n",
        "2005C22009401"
       ]
      },
      {
       "output_type": "stream",
       "stream": "stdout",
       "text": [
        " 720-5/31-4(a) DEF SENTENCED TO PROBATION\n",
        "2005C22009401 720-5/31-4(a) DEF SENTENCED TO COOK CNTY DOC\n",
        "2005C22009401 720-5/31-4(a) CREDIT DEFENDANT FOR TIME SERV\n",
        "\n",
        "2005C22009901"
       ]
      },
      {
       "output_type": "stream",
       "stream": "stdout",
       "text": [
        " 720-5/16A-3(a) DEF SENTENCED ILLINOIS DOC\n",
        "2005C22009901 720-5/16A-3(a) CREDIT DEFENDANT FOR TIME SERV\n",
        "\n",
        "2005C22010101"
       ]
      },
      {
       "output_type": "stream",
       "stream": "stdout",
       "text": [
        " 720-5/16A-3(a) DEF SENTENCED ILLINOIS DOC\n",
        "2005C22010101 720-5/16A-3(a) CREDIT DEFENDANT FOR TIME SERV\n",
        "\n",
        "2005C22010401"
       ]
      },
      {
       "output_type": "stream",
       "stream": "stdout",
       "text": [
        " 720-5/17-3(a)(1) DEF SENTENCED ILLINOIS DOC\n",
        "2005C22010401 720-5/17-3(a)(1) CREDIT DEFENDANT FOR TIME SERV\n",
        "\n",
        "2005C22011101"
       ]
      },
      {
       "output_type": "stream",
       "stream": "stdout",
       "text": [
        " 720-5/16-1(a)(1) DEF SENTENCED ILLINOIS DOC\n",
        "2005C22011101 720-5/16-1(a)(1) CREDIT DEFENDANT FOR TIME SERV\n",
        "\n",
        "2005C22011201"
       ]
      },
      {
       "output_type": "stream",
       "stream": "stdout",
       "text": [
        " 720-5/16-1(a)(1) DEF SENTENCED ILLINOIS DOC\n",
        "2005C22011201 720-5/16-1(a)(1) CREDIT DEFENDANT FOR TIME SERV\n",
        "\n",
        "2005C22011401"
       ]
      },
      {
       "output_type": "stream",
       "stream": "stdout",
       "text": [
        " 720-5/16A-3(a) DEF SENTENCED ILLINOIS DOC\n",
        "2005C22011401 720-5/16A-3(a) CREDIT DEFENDANT FOR TIME SERV\n",
        "\n",
        "2005C22011601"
       ]
      },
      {
       "output_type": "stream",
       "stream": "stdout",
       "text": [
        " 720-570/402(c) DEF SENTENCED ILLINOIS DOC\n",
        "2005C22011601 720-570/402(c) CREDIT DEFENDANT FOR TIME SERV\n",
        "\n",
        "2005C22011801"
       ]
      },
      {
       "output_type": "stream",
       "stream": "stdout",
       "text": [
        " 720-5/19-3(a) DEF SENTENCED ILLINOIS DOC\n",
        "2005C22011801 720-5/19-3(a) CREDIT DEFENDANT FOR TIME SERV\n",
        "\n",
        "2005C22011901"
       ]
      },
      {
       "output_type": "stream",
       "stream": "stdout",
       "text": [
        " 625-5/11-501(c-1)(1) CREDIT DEFENDANT FOR TIME SERV\n",
        "2005C22011901 625-5/11-501(c-1)(1) PROB AND OTHER DISC CONDS\n",
        "2005C22011901 625-5/11-501(c-1)(1) DEF SENTENCED TO COOK CNTY DOC\n",
        "2005C22011901 625-5/11-501(d)(1)(A) DEF SENTENCED TO PROBATION\n",
        "\n",
        "2005C22012201"
       ]
      },
      {
       "output_type": "stream",
       "stream": "stdout",
       "text": [
        " 730-150/6 DEF SENTENCED ILLINOIS DOC\n",
        "2005C22012201 730-150/6 CREDIT DEFENDANT FOR TIME SERV\n",
        "\n",
        "2005C22012301"
       ]
      },
      {
       "output_type": "stream",
       "stream": "stdout",
       "text": [
        " 720-5/16A-3(a) DEF SENTENCED ILLINOIS DOC\n",
        "2005C22012301 720-5/16A-3(a) CREDIT DEFENDANT FOR TIME SERV\n",
        "\n",
        "2005C22012701"
       ]
      },
      {
       "output_type": "stream",
       "stream": "stdout",
       "text": [
        " 720-5/16A-3(a) DEF SENTENCED ILLINOIS DOC\n",
        "2005C22012701 720-5/16A-3(a) CREDIT DEFENDANT FOR TIME SERV\n",
        "\n",
        "2005C22012801"
       ]
      },
      {
       "output_type": "stream",
       "stream": "stdout",
       "text": [
        " 625-5/6-303(d) DEF SENTENCED ILLINOIS DOC\n",
        "2005C22012801 625-5/6-303(d) CREDIT DEFENDANT FOR TIME SERV\n",
        "\n",
        "2005C22013201"
       ]
      },
      {
       "output_type": "stream",
       "stream": "stdout",
       "text": [
        " 720-5/16A-3(a) DEF SENTENCED ILLINOIS DOC\n",
        "2005C22013201 720-5/16A-3(a) CREDIT DEFENDANT FOR TIME SERV\n",
        "\n",
        "2005C22013301"
       ]
      },
      {
       "output_type": "stream",
       "stream": "stdout",
       "text": [
        " 720-5/16A-3(a) DEF SENTENCED ILLINOIS DOC\n",
        "2005C22013301 720-5/16A-3(a) CREDIT DEFENDANT FOR TIME SERV\n",
        "\n",
        "2005C22013401"
       ]
      },
      {
       "output_type": "stream",
       "stream": "stdout",
       "text": [
        " 625-5/4-103(a)(1) DEF SENTENCED ILLINOIS DOC\n",
        "2005C22013401 625-5/4-103(a)(1) CREDIT DEFENDANT FOR TIME SERV\n",
        "\n",
        "2005C22013501"
       ]
      },
      {
       "output_type": "stream",
       "stream": "stdout",
       "text": [
        " 720-5/16-1(a)(1) DEF SENTENCED TO PROBATION\n",
        "2005C22013501 720-5/16-1(a)(1) SENTENCED TO COMMUNITY SERVICE\n",
        "\n",
        "2005C22013601"
       ]
      },
      {
       "output_type": "stream",
       "stream": "stdout",
       "text": [
        " 720-5/12-4(b)(6) DEF SENTENCED ILLINOIS DOC\n",
        "2005C22013601 720-5/12-4(b)(6) CREDIT DEFENDANT FOR TIME SERV\n",
        "\n",
        "2005C22013701"
       ]
      },
      {
       "output_type": "stream",
       "stream": "stdout",
       "text": [
        " 720-5/24-1.1(a) DEF SENTENCED ILLINOIS DOC\n",
        "2005C22013701 720-5/24-1.1(a) CREDIT DEFENDANT FOR TIME SERV\n",
        "\n",
        "2005C22013901"
       ]
      },
      {
       "output_type": "stream",
       "stream": "stdout",
       "text": [
        " 625-5/11-501(a)(1) DEF SENTENCED TO COOK CNTY DOC\n",
        "2005C22013901 625-5/11-501(a)(1) CREDIT DEFENDANT FOR TIME SERV\n",
        "2005C22013901 625-5/11-501(a)(1) DEF SENTENCED TO PROBATION\n",
        "\n",
        "2005C22014601"
       ]
      },
      {
       "output_type": "stream",
       "stream": "stdout",
       "text": [
        " 720-5/12-3 DEF SENTENCED TO COOK CNTY DOC\n",
        "2005C22014601 720-5/12-3 CREDIT DEFENDANT FOR TIME SERV\n",
        "\n",
        "2005C22014701"
       ]
      },
      {
       "output_type": "stream",
       "stream": "stdout",
       "text": [
        " 625-5/11-501(c-1)(1) DEF SENTENCED TO COOK CNTY DOC\n",
        "2005C22014701 625-5/11-501(c-1)(1) CREDIT DEFENDANT FOR TIME SERV\n",
        "2005C22014701 625-5/11-501(c-1)(1) DEF SENTENCED TO PROBATION\n",
        "\n",
        "2005C22014901"
       ]
      },
      {
       "output_type": "stream",
       "stream": "stdout",
       "text": [
        " 720-5/16-1(A)(3)(B) DEF SENTENCED ILLINOIS DOC\n",
        "2005C22014901 720-5/16-1(A)(3)(B) CREDIT DEFENDANT FOR TIME SERV\n",
        "2005C22014901 720-5/16-1(A)(3)(B) DEF SENT TO PAY RESTITUTION\n",
        "\n",
        "2005C22015301"
       ]
      },
      {
       "output_type": "stream",
       "stream": "stdout",
       "text": [
        " 720-5/16A-3(a) DEF SENTENCED ILLINOIS DOC\n",
        "2005C22015301 720-5/16A-3(a) CREDIT DEFENDANT FOR TIME SERV\n",
        "\n",
        "2005C22015401"
       ]
      },
      {
       "output_type": "stream",
       "stream": "stdout",
       "text": [
        " 720-5/16A-3(a) DEF SENTENCED ILLINOIS DOC\n",
        "2005C22015401 720-5/16A-3(a) CREDIT DEFENDANT FOR TIME SERV\n",
        "\n",
        "2005C22015501"
       ]
      },
      {
       "output_type": "stream",
       "stream": "stdout",
       "text": [
        " 625-5/6-303(d) DEF SENTENCED TO PROBATION\n",
        "2005C22015501 625-5/6-303(d) SENTENCED TO COMMUNITY SERVICE\n",
        "\n",
        "2005C22016001"
       ]
      },
      {
       "output_type": "stream",
       "stream": "stdout",
       "text": [
        " 625-5/6-303(d) DEF SENTENCED ILLINOIS DOC\n",
        "2005C22016001 625-5/6-303(d) CREDIT DEFENDANT FOR TIME SERV\n",
        "\n",
        "2005C22016301"
       ]
      },
      {
       "output_type": "stream",
       "stream": "stdout",
       "text": [
        " 720-5/16A-3(a) DEF SENTENCED TO PROBATION\n",
        "2005C22016301 720-5/16A-3(a) SENTENCED TO COMMUNITY SERVICE\n",
        "\n",
        "2005C22016401"
       ]
      },
      {
       "output_type": "stream",
       "stream": "stdout",
       "text": [
        " 625-5/11-501(c-1)(1) DEF SENTENCED ILLINOIS DOC\n",
        "2005C22016401 625-5/11-501(c-1)(1) CREDIT DEFENDANT FOR TIME SERV\n",
        "\n",
        "2005C22016601"
       ]
      },
      {
       "output_type": "stream",
       "stream": "stdout",
       "text": [
        " 720-5/16-1(a)(1) DEF SENTENCED ILLINOIS DOC\n",
        "2005C22016601 720-5/16-1(a)(1) CREDIT DEFENDANT FOR TIME SERV\n",
        "\n",
        "2005C22016701"
       ]
      },
      {
       "output_type": "stream",
       "stream": "stdout",
       "text": [
        " 720-5/16-1(a)(1) DEF SENTENCED ILLINOIS DOC\n",
        "2005C22016701 720-5/16-1(a)(1) CREDIT DEFENDANT FOR TIME SERV\n",
        "\n",
        "2005C22017101"
       ]
      },
      {
       "output_type": "stream",
       "stream": "stdout",
       "text": [
        " 720-5/24-1.5(A) DEF SENTENCED ILLINOIS DOC\n",
        "2005C22017101 720-5/24-1.5(A) CREDIT DEFENDANT FOR TIME SERV\n",
        "\n",
        "2005C22017201"
       ]
      },
      {
       "output_type": "stream",
       "stream": "stdout",
       "text": [
        " 720-5/12-4.2(A)(1) DEF SENTENCED ILLINOIS DOC\n",
        "2005C22017201 720-5/12-4.2(A)(1) CREDIT DEFENDANT FOR TIME SERV\n",
        "\n",
        "2005C22017501"
       ]
      },
      {
       "output_type": "stream",
       "stream": "stdout",
       "text": [
        " 720-5/12-4(b)(6) DEF SENTENCED TO PROBATION\n",
        "2005C22017501 720-5/12-4(b)(6) DEF SENTENCED TO COOK CNTY DOC\n",
        "\n",
        "2005C22017801"
       ]
      },
      {
       "output_type": "stream",
       "stream": "stdout",
       "text": [
        " 720-5/16A-3(a) DEF SENTENCED ILLINOIS DOC\n",
        "2005C22017801 720-5/16A-3(a) CREDIT DEFENDANT FOR TIME SERV\n",
        "\n",
        "2005C22018301"
       ]
      },
      {
       "output_type": "stream",
       "stream": "stdout",
       "text": [
        " 625-5/11-501(c-1)(1) PROB AND OTHER DISC CONDS\n",
        "2005C22018301 625-5/11-501(c-1)(1) DEF SENTENCED TO COOK CNTY DOC\n",
        "2005C22018301 625-5/11-501(c-1)(1) CREDIT DEFENDANT FOR TIME SERV\n",
        "\n",
        "2005C22018401"
       ]
      },
      {
       "output_type": "stream",
       "stream": "stdout",
       "text": [
        " 720-5/19-1(a) DEF SENTENCED ILLINOIS DOC\n",
        "2005C22018401 720-5/19-1(a) CREDIT DEFENDANT FOR TIME SERV\n",
        "\n",
        "2005C22018501"
       ]
      },
      {
       "output_type": "stream",
       "stream": "stdout",
       "text": [
        " 625-5/11-501(c-1)(3) PROB AND OTHER DISC CONDS\n",
        "2005C22018501 625-5/11-501(c-1)(3) DEF SENTENCED TO COOK CNTY DOC\n",
        "2005C22018501 625-5/11-501(c-1)(3) CREDIT DEFENDANT FOR TIME SERV\n",
        "2005C22018501 625-5/6-303(d) DEF SENTENCED TO PROBATION\n",
        "\n",
        "2005C22018601"
       ]
      },
      {
       "output_type": "stream",
       "stream": "stdout",
       "text": [
        " 625-5/6-303(d) DEF SENTENCED TO PROBATION\n",
        "2005C22018601 625-5/6-303(d) DEF SENTENCED TO COOK CNTY DOC\n",
        "2005C22018601 625-5/6-303(d) CREDIT DEFENDANT FOR TIME SERV\n",
        "\n",
        "2005C22018701"
       ]
      },
      {
       "output_type": "stream",
       "stream": "stdout",
       "text": [
        " 720-5/16-1(A)(1)(A) DEF SENTENCED ILLINOIS DOC\n",
        "2005C22018701 720-5/16-1(A)(1)(A) CREDIT DEFENDANT FOR TIME SERV\n",
        "\n",
        "2005C22018801"
       ]
      },
      {
       "output_type": "stream",
       "stream": "stdout",
       "text": [
        " 720-5/17-3(A)(1) DEF SENTENCED ILLINOIS DOC\n",
        "2005C22018801 720-5/17-3(A)(1) CREDIT DEFENDANT FOR TIME SERV\n",
        "\n",
        "2005C22019001"
       ]
      },
      {
       "output_type": "stream",
       "stream": "stdout",
       "text": [
        " 720-5/19-3(a) DEF SENTENCED ILLINOIS DOC\n",
        "2005C22019001 720-5/19-3(a) CREDIT DEFENDANT FOR TIME SERV\n",
        "\n",
        "2005C22019101"
       ]
      },
      {
       "output_type": "stream",
       "stream": "stdout",
       "text": [
        " 720-5/16-1(a)(1) DEF SENTENCED ILLINOIS DOC\n",
        "2005C22019101 720-5/16-1(a)(1) CREDIT DEFENDANT FOR TIME SERV\n",
        "\n",
        "2005C22019201"
       ]
      },
      {
       "output_type": "stream",
       "stream": "stdout",
       "text": [
        " 720-5/16-1(a)(1) DEF SENTENCED ILLINOIS DOC\n",
        "2005C22019201 720-5/16-1(a)(1) CREDIT DEFENDANT FOR TIME SERV\n",
        "\n",
        "2005C22019301"
       ]
      },
      {
       "output_type": "stream",
       "stream": "stdout",
       "text": [
        " 625-5/11-501(D)(1) DEF SENTENCED ILLINOIS DOC\n",
        "2005C22019301 625-5/11-501(D)(1) CREDIT DEFENDANT FOR TIME SERV\n",
        "\n",
        "2005C22019601"
       ]
      },
      {
       "output_type": "stream",
       "stream": "stdout",
       "text": [
        " 625-5/6-303(d) DEF SENTENCED TO PROBATION\n",
        "2005C22019601 625-5/6-303(d) DEF SENTENCED TO COOK CNTY DOC\n",
        "\n",
        "2005C22020001"
       ]
      },
      {
       "output_type": "stream",
       "stream": "stdout",
       "text": [
        " 720-5/16A-3(a) DEF SENTENCED ILLINOIS DOC\n",
        "2005C22020001 720-5/16A-3(a) CREDIT DEFENDANT FOR TIME SERV\n",
        "\n",
        "2005C22020101"
       ]
      },
      {
       "output_type": "stream",
       "stream": "stdout",
       "text": [
        " 720-5/16A-3(a) PROB AND OTHER DISC CONDS\n",
        "2005C22020101 720-5/16A-3(a) CREDIT DEFENDANT FOR TIME SERV\n",
        "\n",
        "2005C22020401"
       ]
      },
      {
       "output_type": "stream",
       "stream": "stdout",
       "text": [
        " 720-5/16-1(a)(1) DEF SENTENCED TO PROBATION\n",
        "2005C22020401 720-5/16-1(a)(1) DEF SENTENCED TO COOK CNTY DOC\n",
        "2005C22020401 720-5/16-1(a)(1) CREDIT DEFENDANT FOR TIME SERV\n",
        "\n",
        "2005C22020501"
       ]
      },
      {
       "output_type": "stream",
       "stream": "stdout",
       "text": [
        " 720-5/16G-15(a)(1) DEF SENTENCED TO PROBATION\n",
        "2005C22020501 720-5/16G-15(a)(1) DEF SENTENCED TO COOK CNTY DOC\n",
        "\n",
        "2005C22020601"
       ]
      },
      {
       "output_type": "stream",
       "stream": "stdout",
       "text": [
        " 625-5/6-303(d) DEF SENTENCED TO PROBATION\n",
        "2005C22020601 625-5/6-303(d) DEF SENTENCED TO COOK CNTY DOC\n",
        "\n",
        "2005C22021101"
       ]
      },
      {
       "output_type": "stream",
       "stream": "stdout",
       "text": [
        " 720-570/402(c) DEF SENTENCED ILLINOIS DOC\n",
        "2005C22021101 720-570/402(c) CREDIT DEFENDANT FOR TIME SERV\n",
        "\n",
        "2005C22021201"
       ]
      },
      {
       "output_type": "stream",
       "stream": "stdout",
       "text": [
        " 720-5/19-1(a) DEF SENTENCED ILLINOIS DOC\n",
        "2005C22021201 720-5/19-1(a) CREDIT DEFENDANT FOR TIME SERV\n",
        "2005C22021201 720-5/19-1(a) ELIGIBLE IMPACT PROG-BOOT CAMP\n",
        "\n",
        "2005C22021501"
       ]
      },
      {
       "output_type": "stream",
       "stream": "stdout",
       "text": [
        " 720-5/16A-3(a) DEF SENTENCED ILLINOIS DOC\n",
        "2005C22021501 720-5/16A-3(a) CREDIT DEFENDANT FOR TIME SERV\n",
        "\n",
        "2005C22021701"
       ]
      },
      {
       "output_type": "stream",
       "stream": "stdout",
       "text": [
        " 720-5/12-4(b)(6) DEF SENTENCED ILLINOIS DOC\n",
        "2005C22021701 720-5/12-4(b)(6) CREDIT DEFENDANT FOR TIME SERV\n",
        "2005C22021701 720-5/12-4(b)(6) DEF SENTENCED ILLINOIS DOC\n",
        "2005C22021701 720-5/12-4(b)(6) DEF SENTENCED ILLINOIS DOC\n",
        "\n",
        "2005C22022101"
       ]
      },
      {
       "output_type": "stream",
       "stream": "stdout",
       "text": [
        " 625-5/6-303(d) DEF SENT CONDITIONAL DISCHARGE\n",
        "2005C22022101 625-5/6-303(d) SENTENCED TO COMMUNITY SERVICE\n",
        "\n",
        "2005C22022201"
       ]
      },
      {
       "output_type": "stream",
       "stream": "stdout",
       "text": [
        " 625-5/6-303(d) PROB AND OTHER DISC CONDS\n",
        "2005C22022201 625-5/6-303(d) DEF SENTENCED TO COOK CNTY DOC\n",
        "2005C22022201 625-5/6-303(d) CREDIT DEFENDANT FOR TIME SERV\n",
        "\n",
        "2005C22022501"
       ]
      },
      {
       "output_type": "stream",
       "stream": "stdout",
       "text": [
        " 720-5/16-1(a)(1)(A) PROB AND OTHER DISC CONDS\n",
        "2005C22022501 720-5/16-1(a)(1)(A) DEF SENT TO PAY RESTITUTION\n",
        "\n",
        "2005C22023102"
       ]
      },
      {
       "output_type": "stream",
       "stream": "stdout",
       "text": [
        " 720 5/8-4 720 5/19-1 DEF SENTENCED ILLINOIS DOC\n",
        "2005C22023102 720 5/8-4 720 5/19-1 CREDIT DEFENDANT FOR TIME SERV\n",
        "\n",
        "2005C22023301"
       ]
      },
      {
       "output_type": "stream",
       "stream": "stdout",
       "text": [
        " 625-5/6-303(d) DEF SENTENCED ILLINOIS DOC\n",
        "2005C22023301 625-5/6-303(d) CREDIT DEFENDANT FOR TIME SERV\n",
        "\n",
        "2005C22023401"
       ]
      },
      {
       "output_type": "stream",
       "stream": "stdout",
       "text": [
        " 720-5/19-1(a) DEF SENTENCED TO PROBATION\n",
        "2005C22023401 720-5/19-1(a) DEF SENTENCED TO COOK CNTY DOC\n",
        "2005C22023401 720-5/19-1(a) CREDIT DEFENDANT FOR TIME SERV\n",
        "\n",
        "2005C22023901"
       ]
      },
      {
       "output_type": "stream",
       "stream": "stdout",
       "text": [
        " 720-5/16A-3(a) PROB AND OTHER DISC CONDS\n",
        "2005C22023901 720-5/16A-3(a) DEF SENTENCED TO COOK CNTY DOC\n",
        "\n",
        "2005C22024101"
       ]
      },
      {
       "output_type": "stream",
       "stream": "stdout",
       "text": [
        " 720-5/16A-3(f) DEF SENTENCED ILLINOIS DOC\n",
        "2005C22024101 720-5/16A-3(f) CREDIT DEFENDANT FOR TIME SERV\n",
        "\n",
        "2005C22024201"
       ]
      },
      {
       "output_type": "stream",
       "stream": "stdout",
       "text": [
        " 625-5/6-303(d) DEF SENTENCED TO PROBATION\n",
        "2005C22024201 625-5/6-303(d) DEF SENTENCED TO COOK CNTY DOC\n",
        "2005C22024201 625-5/6-303(d) CREDIT DEFENDANT FOR TIME SERV\n",
        "\n",
        "2005C22024901"
       ]
      },
      {
       "output_type": "stream",
       "stream": "stdout",
       "text": [
        " 720-5/17-3(a)(1) DEF SENTENCED ILLINOIS DOC\n",
        "2005C22024901 720-5/17-3(a)(1) CREDIT DEFENDANT FOR TIME SERV\n",
        "\n",
        "2005C22025301"
       ]
      },
      {
       "output_type": "stream",
       "stream": "stdout",
       "text": [
        " 720-5/17-3(a)(1) DEF SENTENCED ILLINOIS DOC\n",
        "2005C22025301 720-5/17-3(a)(1) CREDIT DEFENDANT FOR TIME SERV\n",
        "\n",
        "2005C22026001"
       ]
      },
      {
       "output_type": "stream",
       "stream": "stdout",
       "text": [
        " 625-5/11-501(c-1)(1) DEF SENTENCED ILLINOIS DOC\n",
        "2005C22026001 625-5/11-501(c-1)(1) CREDIT DEFENDANT FOR TIME SERV\n",
        "\n",
        "2005C22026201"
       ]
      },
      {
       "output_type": "stream",
       "stream": "stdout",
       "text": [
        " 720-5/16A-3(a) DEF SENTENCED TO PROBATION\n",
        "2005C22026201 720-5/16A-3(a) DEF SENT TO PAY RESTITUTION\n",
        "\n",
        "2005C22026701"
       ]
      },
      {
       "output_type": "stream",
       "stream": "stdout",
       "text": [
        " 720-5/16A-3(a) DEF SENTENCED TO PROBATION\n",
        "2005C22026701 720-5/16A-3(a) DEF SENTENCED TO COOK CNTY DOC\n",
        "2005C22026701 720-5/16A-3(a) CREDIT DEFENDANT FOR TIME SERV\n",
        "\n",
        "2005C22026801"
       ]
      },
      {
       "output_type": "stream",
       "stream": "stdout",
       "text": [
        " 720-250/8 DEF SENTENCED ILLINOIS DOC\n",
        "2005C22026801 720-250/8 CREDIT DEFENDANT FOR TIME SERV\n",
        "\n",
        "2005C22027001"
       ]
      },
      {
       "output_type": "stream",
       "stream": "stdout",
       "text": [
        " 720-5/18-1(a) DEF SENTENCED ILLINOIS DOC\n",
        "2005C22027001 720-5/18-1(a) CREDIT DEFENDANT FOR TIME SERV\n",
        "\n",
        "2005C22027601"
       ]
      },
      {
       "output_type": "stream",
       "stream": "stdout",
       "text": [
        " 720-5/19-3(a) DEF SENTENCED ILLINOIS DOC\n",
        "2005C22027601 720-5/19-3(a) CREDIT DEFENDANT FOR TIME SERV\n",
        "\n",
        "2005C22027801"
       ]
      },
      {
       "output_type": "stream",
       "stream": "stdout",
       "text": [
        " 720-5/16A-3(a) PROB AND OTHER DISC CONDS\n",
        "2005C22027801 720-5/16A-3(a) SENTENCED TO COMMUNITY SERVICE\n",
        "\n",
        "2005C22027901"
       ]
      },
      {
       "output_type": "stream",
       "stream": "stdout",
       "text": [
        " 720-5/19-3(A) DEF SENTENCED ILLINOIS DOC\n",
        "2005C22027901 720-5/19-3(A) CREDIT DEFENDANT FOR TIME SERV\n",
        "\n",
        "2005C22028502"
       ]
      },
      {
       "output_type": "stream",
       "stream": "stdout",
       "text": [
        " 720 5/21-1(1)(A) PROB AND OTHER DISC CONDS\n",
        "2005C22028502 720 5/21-1(1)(A) SENTENCED TO COMMUNITY SERVICE\n",
        "\n",
        "2005C22028801"
       ]
      },
      {
       "output_type": "stream",
       "stream": "stdout",
       "text": [
        " 720-135/1-1 DEF SENTENCED ILLINOIS DOC\n",
        "2005C22028801 720-135/1-1 CREDIT DEFENDANT FOR TIME SERV\n",
        "\n",
        "2005C22029001"
       ]
      },
      {
       "output_type": "stream",
       "stream": "stdout",
       "text": [
        " 625-5/6-303(d) DEF SENTENCED ILLINOIS DOC\n",
        "2005C22029001 625-5/6-303(d) CREDIT DEFENDANT FOR TIME SERV\n",
        "\n",
        "2005C22029301"
       ]
      },
      {
       "output_type": "stream",
       "stream": "stdout",
       "text": [
        " 625-5/11-501(c-1)(1) PROB AND OTHER DISC CONDS\n",
        "2005C22029301 625-5/11-501(c-1)(1) DEF SENTENCED TO COOK CNTY DOC\n",
        "2005C22029301 625-5/11-501(c-1)(1) CREDIT DEFENDANT FOR TIME SERV\n",
        "\n",
        "2005C22029801"
       ]
      },
      {
       "output_type": "stream",
       "stream": "stdout",
       "text": [
        " 720-5/16A-3(a) DEF SENTENCED ILLINOIS DOC\n",
        "2005C22029801 720-5/16A-3(a) CREDIT DEFENDANT FOR TIME SERV\n",
        "\n",
        "2005C22030001"
       ]
      },
      {
       "output_type": "stream",
       "stream": "stdout",
       "text": [
        " 625-5/11-501(c-1)(1) DEF SENTENCED ILLINOIS DOC\n",
        "2005C22030001 625-5/11-501(c-1)(1) CREDIT DEFENDANT FOR TIME SERV\n",
        "\n",
        "2005C22030101"
       ]
      },
      {
       "output_type": "stream",
       "stream": "stdout",
       "text": [
        " 720-5/16A-3(a) PROB AND OTHER DISC CONDS\n",
        "2005C22030101 720-5/16A-3(a) SENTENCED TO COMMUNITY SERVICE\n",
        "\n",
        "2005C22030102"
       ]
      },
      {
       "output_type": "stream",
       "stream": "stdout",
       "text": [
        " 720-5/16A-3(a) PROB AND OTHER DISC CONDS\n",
        "2005C22030102 720-5/16A-3(a) SENTENCED TO COMMUNITY SERVICE\n",
        "\n",
        "2005C22030401"
       ]
      },
      {
       "output_type": "stream",
       "stream": "stdout",
       "text": [
        " 720-5/16A-3(a) DEF SENTENCED TO PROBATION\n",
        "2005C22030401 720-5/16A-3(a) CREDIT DEFENDANT FOR TIME SERV\n",
        "\n",
        "2005C22030801"
       ]
      },
      {
       "output_type": "stream",
       "stream": "stdout",
       "text": [
        " 625-5/11-501(c-1)(1) PROB AND OTHER DISC CONDS\n",
        "2005C22030801 625-5/11-501(c-1)(1) DEF SENTENCED TO COOK CNTY DOC\n",
        "2005C22030801 625-5/11-501(c-1)(1) CREDIT DEFENDANT FOR TIME SERV\n",
        "\n",
        "2005C22031001"
       ]
      },
      {
       "output_type": "stream",
       "stream": "stdout",
       "text": [
        " 720-5/16A-3(a) DEF SENTENCED ILLINOIS DOC\n",
        "2005C22031001 720-5/16A-3(a) CREDIT DEFENDANT FOR TIME SERV\n",
        "\n",
        "2005C22031101"
       ]
      },
      {
       "output_type": "stream",
       "stream": "stdout",
       "text": [
        " 720-5/16A-3(a) DEF SENTENCED TO PROBATION\n",
        "2005C22031101 720-5/16A-3(a) SENTENCED TO COMMUNITY SERVICE\n",
        "\n",
        "2005C22031301"
       ]
      },
      {
       "output_type": "stream",
       "stream": "stdout",
       "text": [
        " 625-5/6-303(d) DEF SENTENCED TO PROBATION\n",
        "2005C22031301 625-5/6-303(d) DEF SENTENCED TO COOK CNTY DOC\n",
        "2005C22031301 625-5/6-303(d) CREDIT DEFENDANT FOR TIME SERV\n",
        "\n",
        "2005C22031801"
       ]
      },
      {
       "output_type": "stream",
       "stream": "stdout",
       "text": [
        " 720-5/24-1.6(a)(1) DEF SENTENCED TO COOK CNTY DOC\n",
        "2005C22031801 720-5/24-1.6(a)(1) CREDIT DEFENDANT FOR TIME SERV\n",
        "2005C22031801 720-5/24-1.6(a)(1) DEF SENTENCED TO PROBATION\n",
        "\n",
        "2005C22032101"
       ]
      },
      {
       "output_type": "stream",
       "stream": "stdout",
       "text": [
        " 720-5/16A-3(a) PROB AND OTHER DISC CONDS\n",
        "2005C22032101 720-5/16A-3(a) DEF SENTENCED TO COOK CNTY DOC\n",
        "2005C22032101 720-5/16A-3(a) CREDIT DEFENDANT FOR TIME SERV\n",
        "\n",
        "2005C22032301"
       ]
      },
      {
       "output_type": "stream",
       "stream": "stdout",
       "text": [
        " 625-5/6-303(d) DEF SENTENCED ILLINOIS DOC\n",
        "2005C22032301 625-5/6-303(d) CREDIT DEFENDANT FOR TIME SERV\n",
        "\n",
        "2005C22033101"
       ]
      },
      {
       "output_type": "stream",
       "stream": "stdout",
       "text": [
        " 720-5/16A-3(a) DEF SENTENCED ILLINOIS DOC\n",
        "2005C22033101 720-5/16A-3(a) CREDIT DEFENDANT FOR TIME SERV\n",
        "\n",
        "2005C22033301"
       ]
      },
      {
       "output_type": "stream",
       "stream": "stdout",
       "text": [
        " 720-5/21-1(1)(A) DEF SENTENCED ILLINOIS DOC\n",
        "2005C22033301 720-5/21-1(1)(A) CREDIT DEFENDANT FOR TIME SERV\n",
        "\n",
        "2005C22033601"
       ]
      },
      {
       "output_type": "stream",
       "stream": "stdout",
       "text": [
        " 720-5/16A-3(a) PROB AND OTHER DISC CONDS\n",
        "2005C22033601 720-5/16A-3(a) CREDIT DEFENDANT FOR TIME SERV\n",
        "\n",
        "2005C22033801"
       ]
      },
      {
       "output_type": "stream",
       "stream": "stdout",
       "text": [
        " 625-5/6-303(d) DEF SENTENCED ILLINOIS DOC\n",
        "2005C22033801 625-5/6-303(d) CREDIT DEFENDANT FOR TIME SERV\n",
        "\n",
        "2005C22033901"
       ]
      },
      {
       "output_type": "stream",
       "stream": "stdout",
       "text": [
        " 625-5/11-501(c-1)(1) CREDIT DEFENDANT FOR TIME SERV\n",
        "2005C22033901 625-5/11-501(c-1)(1) DEF SENTENCED TO PROBATION\n",
        "2005C22033901 625-5/11-501(c-1)(1) DEF SENTENCED TO COOK CNTY DOC\n",
        "\n",
        "2005C22034001"
       ]
      },
      {
       "output_type": "stream",
       "stream": "stdout",
       "text": [
        " 720-5/16A-3(a) DEF SENTENCED ILLINOIS DOC\n",
        "2005C22034001 720-5/16A-3(a) CREDIT DEFENDANT FOR TIME SERV\n",
        "\n",
        "2005C22034201"
       ]
      },
      {
       "output_type": "stream",
       "stream": "stdout",
       "text": [
        " 720-5/16A-3(a) DEF SENTENCED TO PROBATION\n",
        "2005C22034201 720-5/16A-3(a) DEF SENTENCED TO COOK CNTY DOC\n",
        "2005C22034201 720-5/16A-3(a) CREDIT DEFENDANT FOR TIME SERV\n",
        "\n",
        "2005C22034401"
       ]
      },
      {
       "output_type": "stream",
       "stream": "stdout",
       "text": [
        " 720-5/16-1(a)(1) DEF SENTENCED TO PROBATION\n",
        "2005C22034401 720-5/16-1(a)(1) DEF SENTENCED TO COOK CNTY DOC\n",
        "\n",
        "2005C22034402"
       ]
      },
      {
       "output_type": "stream",
       "stream": "stdout",
       "text": [
        " 720-5/16-1(a)(1) DEF SENTENCED TO PROBATION\n",
        "2005C22034402 720-5/16-1(a)(1) DEF SENTENCED TO COOK CNTY DOC\n",
        "2005C22034402 720-5/16-1(a)(1) CREDIT DEFENDANT FOR TIME SERV\n",
        "\n",
        "2005C22034601"
       ]
      },
      {
       "output_type": "stream",
       "stream": "stdout",
       "text": [
        " 720-5/17-3(a)(2) DEF SENTENCED ILLINOIS DOC\n",
        "2005C22034601 720-5/17-3(a)(2) CREDIT DEFENDANT FOR TIME SERV\n",
        "\n",
        "2005C22034901"
       ]
      },
      {
       "output_type": "stream",
       "stream": "stdout",
       "text": [
        " 625-5/11-501(c-1)(1) DEF SENTENCED ILLINOIS DOC\n",
        "2005C22034901 625-5/11-501(c-1)(1) CREDIT DEFENDANT FOR TIME SERV\n",
        "\n",
        "2005C22035101"
       ]
      },
      {
       "output_type": "stream",
       "stream": "stdout",
       "text": [
        " 720-5/19-3(a) DEF SENTENCED ILLINOIS DOC\n",
        "2005C22035101 720-5/19-3(a) CREDIT DEFENDANT FOR TIME SERV\n",
        "\n",
        "2005C22035201"
       ]
      },
      {
       "output_type": "stream",
       "stream": "stdout",
       "text": [
        " 720-550/4(d) DEF SENTENCED TO COOK CNTY DOC\n",
        "2005C22035201 720-550/4(d) CREDIT DEFENDANT FOR TIME SERV\n",
        "\n",
        "2005C22035501"
       ]
      },
      {
       "output_type": "stream",
       "stream": "stdout",
       "text": [
        " 720-5/16A-3(a) DEF SENTENCED ILLINOIS DOC\n",
        "2005C22035501 720-5/16A-3(a) CREDIT DEFENDANT FOR TIME SERV\n",
        "\n",
        "2005C22035601"
       ]
      },
      {
       "output_type": "stream",
       "stream": "stdout",
       "text": [
        " 720-5/16A-3(a) DEF SENTENCED ILLINOIS DOC\n",
        "2005C22035601 720-5/16A-3(a) CREDIT DEFENDANT FOR TIME SERV\n",
        "\n",
        "2005C22036201"
       ]
      },
      {
       "output_type": "stream",
       "stream": "stdout",
       "text": [
        " 720-5/16-1(a)(4) DEF SENTENCED TO COOK CNTY DOC\n",
        "2005C22036201 720-5/16-1(a)(4) CREDIT DEFENDANT FOR TIME SERV\n",
        "2005C22036201 720-5/16-1(a)(4) DEF SENTENCED TO PROBATION\n",
        "\n",
        "2005C22036601"
       ]
      },
      {
       "output_type": "stream",
       "stream": "stdout",
       "text": [
        " 720-5/12-4(b)(6) DEF SENTENCED ILLINOIS DOC\n",
        "2005C22036601 720-5/12-4(b)(6) CREDIT DEFENDANT FOR TIME SERV\n",
        "2005C22036601 720-5/12-4(b)(6) DEF SENTENCED ILLINOIS DOC\n",
        "\n",
        "2005C22036701"
       ]
      },
      {
       "output_type": "stream",
       "stream": "stdout",
       "text": [
        " 625-5/6-303(d) DEF SENTENCED TO PROBATION\n",
        "2005C22036701 625-5/6-303(d) DEF SENTENCED TO COOK CNTY DOC\n",
        "2005C22036701 625-5/6-303(d) CREDIT DEFENDANT FOR TIME SERV\n",
        "\n",
        "2005C22037301"
       ]
      },
      {
       "output_type": "stream",
       "stream": "stdout",
       "text": [
        " 720-5/16-1(a)(1)(A) PROB AND OTHER DISC CONDS\n",
        "2005C22037301 720-5/16-1(a)(1)(A) SENTENCED TO COMMUNITY SERVICE\n",
        "2005C22037301 720-5/16-1(a)(1)(A) DEF SENT TO PAY RESTITUTION\n",
        "\n",
        "2005C22037501"
       ]
      },
      {
       "output_type": "stream",
       "stream": "stdout",
       "text": [
        " 720-5/16A-3(a) DEF SENTENCED ILLINOIS DOC\n",
        "2005C22037501 720-5/16A-3(a) CREDIT DEFENDANT FOR TIME SERV\n",
        "\n",
        "2005C22037802"
       ]
      },
      {
       "output_type": "stream",
       "stream": "stdout",
       "text": [
        " 720-5/18-1(a) CREDIT DEFENDANT FOR TIME SERV\n",
        "2005C22037802 720-5/12-4(b)(8) DEF SENTENCED TO PROBATION\n",
        "2005C22037802 720-5/12-4(b)(8) DEF SENTENCED TO COOK CNTY DOC\n",
        "\n",
        "2005C22038101"
       ]
      },
      {
       "output_type": "stream",
       "stream": "stdout",
       "text": [
        " 730-150/3(b) DEF SENTENCED ILLINOIS DOC\n",
        "2005C22038101 730-150/3(b) CREDIT DEFENDANT FOR TIME SERV\n",
        "\n",
        "2005C22038501"
       ]
      },
      {
       "output_type": "stream",
       "stream": "stdout",
       "text": [
        " 625-5/4-103(a)(1) DEF SENTENCED ILLINOIS DOC\n",
        "2005C22038501 625-5/4-103(a)(1) CREDIT DEFENDANT FOR TIME SERV\n",
        "\n",
        "2005C22038901"
       ]
      },
      {
       "output_type": "stream",
       "stream": "stdout",
       "text": [
        " 625-5/11-501(a)(2) COND DISCH AND OTHER DISC COND\n",
        "2005C22038901 625-5/11-501(a)(2) SENTENCED TO COMMUNITY SERVICE\n",
        "\n",
        "2005C22039201"
       ]
      },
      {
       "output_type": "stream",
       "stream": "stdout",
       "text": [
        " 720-5/16A-3(a) PROB AND OTHER DISC CONDS\n",
        "2005C22039201 720-5/16A-3(a) SENTENCED TO COMMUNITY SERVICE\n",
        "\n",
        "2005C22039301"
       ]
      },
      {
       "output_type": "stream",
       "stream": "stdout",
       "text": [
        " 720-5/16A-3(a) DEF SENTENCED ILLINOIS DOC\n",
        "2005C22039301 720-5/16A-3(a) CREDIT DEFENDANT FOR TIME SERV\n",
        "\n",
        "2005C22039401"
       ]
      },
      {
       "output_type": "stream",
       "stream": "stdout",
       "text": [
        " 625-5/11-501(d)(1) DEF SENTENCED ILLINOIS DOC\n",
        "2005C22039401 625-5/11-501(d)(1) CREDIT DEFENDANT FOR TIME SERV\n",
        "\n",
        "2005C22039501"
       ]
      },
      {
       "output_type": "stream",
       "stream": "stdout",
       "text": [
        " 720-5/16A-3(a) DEF SENTENCED ILLINOIS DOC\n",
        "2005C22039501 720-5/16A-3(a) CREDIT DEFENDANT FOR TIME SERV\n",
        "\n",
        "2005C22039801"
       ]
      },
      {
       "output_type": "stream",
       "stream": "stdout",
       "text": [
        " 730-150/3(b) DEF SENTENCED ILLINOIS DOC\n",
        "2005C22039801 730-150/3(b) CREDIT DEFENDANT FOR TIME SERV\n",
        "\n",
        "2005C22040001"
       ]
      },
      {
       "output_type": "stream",
       "stream": "stdout",
       "text": [
        " 720-5/16A-3(a) DEF SENTENCED ILLINOIS DOC\n",
        "2005C22040001 720-5/16A-3(a) CREDIT DEFENDANT FOR TIME SERV\n",
        "\n",
        "2005C22040101"
       ]
      },
      {
       "output_type": "stream",
       "stream": "stdout",
       "text": [
        " 720-5/16-1(A)(1) DEF SENTENCED ILLINOIS DOC\n",
        "2005C22040101 720-5/16-1(A)(1) CREDIT DEFENDANT FOR TIME SERV\n",
        "\n",
        "2005C22040201"
       ]
      },
      {
       "output_type": "stream",
       "stream": "stdout",
       "text": [
        " 720-250/8 CREDIT DEFENDANT FOR TIME SERV\n",
        "2005C22040201 720-5/16-1(a)(1) DEF SENTENCED TO PROBATION\n",
        "2005C22040201 720-5/16-1(a)(1) DEF SENTENCED TO COOK CNTY DOC\n",
        "\n",
        "2005C22040601"
       ]
      },
      {
       "output_type": "stream",
       "stream": "stdout",
       "text": [
        " 720-5/16A-3(a) DEF SENTENCED ILLINOIS DOC\n",
        "2005C22040601 720-5/16A-3(a) CREDIT DEFENDANT FOR TIME SERV\n",
        "\n",
        "2005C22040801"
       ]
      },
      {
       "output_type": "stream",
       "stream": "stdout",
       "text": [
        " 720-5/16A-3(a) DEF SENTENCED ILLINOIS DOC\n",
        "2005C22040801 720-5/16A-3(a) CREDIT DEFENDANT FOR TIME SERV\n",
        "\n",
        "2005C22041001"
       ]
      },
      {
       "output_type": "stream",
       "stream": "stdout",
       "text": [
        " 720-5/24-1.1(a) DEF SENTENCED ILLINOIS DOC\n",
        "2005C22041001 720-5/24-1.1(a) CREDIT DEFENDANT FOR TIME SERV\n",
        "\n",
        "2005C22041101"
       ]
      },
      {
       "output_type": "stream",
       "stream": "stdout",
       "text": [
        " 625-5/11-501(c-1)(1) PROB AND OTHER DISC CONDS\n",
        "2005C22041101 625-5/11-501(c-1)(1) SENTENCED TO COMMUNITY SERVICE\n",
        "2005C22041101 625-5/11-501(c-1)(1) PROB AND OTHER DISC CONDS\n",
        "2005C22041101 625-5/11-501(c-1)(1) SENTENCED TO COMMUNITY SERVICE\n",
        "\n",
        "2005C22041301"
       ]
      },
      {
       "output_type": "stream",
       "stream": "stdout",
       "text": [
        " 625-5/4-103(a)(1) DEF SENTENCED ILLINOIS DOC\n",
        "2005C22041301 625-5/4-103(a)(1) CREDIT DEFENDANT FOR TIME SERV\n",
        "\n",
        "2005C22041401"
       ]
      },
      {
       "output_type": "stream",
       "stream": "stdout",
       "text": [
        " 720-5/16A-3(a) DEF SENTENCED ILLINOIS DOC\n",
        "2005C22041401 720-5/16A-3(a) CREDIT DEFENDANT FOR TIME SERV\n",
        "\n",
        "2005C22041501"
       ]
      },
      {
       "output_type": "stream",
       "stream": "stdout",
       "text": [
        " 720-5/21-1(1)(a) DEF SENTENCED TO PROBATION\n",
        "2005C22041501 720-5/21-1(1)(a) DEF SENTENCED TO COOK CNTY DOC\n",
        "2005C22041501 720-5/21-1(1)(a) CREDIT DEFENDANT FOR TIME SERV\n",
        "\n",
        "2005C22042101"
       ]
      },
      {
       "output_type": "stream",
       "stream": "stdout",
       "text": [
        " 720-5/16-1(a)(1) DEF SENTENCED ILLINOIS DOC\n",
        "2005C22042101 720-5/16-1(a)(1) CREDIT DEFENDANT FOR TIME SERV\n",
        "\n",
        "2005C22042201"
       ]
      },
      {
       "output_type": "stream",
       "stream": "stdout",
       "text": [
        " 720-250/4 DEF SENTENCED TO PROBATION\n",
        "2005C22042201 720-250/4 DEF SENT TO PAY RESTITUTION\n",
        "\n",
        "2005C22042301"
       ]
      },
      {
       "output_type": "stream",
       "stream": "stdout",
       "text": [
        " 625-5/11-501(c-1)(1) DEF SENTENCED ILLINOIS DOC\n",
        "2005C22042301 625-5/11-501(c-1)(1) CREDIT DEFENDANT FOR TIME SERV\n",
        "\n",
        "2005C22042701"
       ]
      },
      {
       "output_type": "stream",
       "stream": "stdout",
       "text": [
        " 720-5/26-1(a)(1) DEF SENTENCED TO COOK CNTY DOC\n",
        "2005C22042701 720-5/26-1(a)(1) CREDIT DEFENDANT FOR TIME SERV\n",
        "2005C22042701 720-5/26-1(a)(1) DEF SENT TO PAY RESTITUTION\n",
        "\n",
        "2005C22042801"
       ]
      },
      {
       "output_type": "stream",
       "stream": "stdout",
       "text": [
        " 720-5/16A-3(a) DEF SENTENCED ILLINOIS DOC\n",
        "2005C22042801 720-5/16A-3(a) CREDIT DEFENDANT FOR TIME SERV\n",
        "\n",
        "2005C22042901"
       ]
      },
      {
       "output_type": "stream",
       "stream": "stdout",
       "text": [
        " 625-5/6-303(D) DEF SENTENCED TO COOK CNTY DOC\n",
        "2005C22042901 625-5/6-303(D) CREDIT DEFENDANT FOR TIME SERV\n",
        "\n",
        "2005C22043201"
       ]
      },
      {
       "output_type": "stream",
       "stream": "stdout",
       "text": [
        " 720-5/16A-3(a) DEF SENTENCED ILLINOIS DOC\n",
        "2005C22043201 720-5/16A-3(a) CREDIT DEFENDANT FOR TIME SERV\n",
        "\n",
        "2005C22044001"
       ]
      },
      {
       "output_type": "stream",
       "stream": "stdout",
       "text": [
        " 720-5/16A-3(a) DEF SENTENCED ILLINOIS DOC\n",
        "2005C22044001 720-5/16A-3(a) CREDIT DEFENDANT FOR TIME SERV\n",
        "\n",
        "2005C22044101"
       ]
      },
      {
       "output_type": "stream",
       "stream": "stdout",
       "text": [
        " 720-5/17-1(B)(d) DEF SENTENCED ILLINOIS DOC\n",
        "2005C22044101 720-5/17-1(B)(d) CREDIT DEFENDANT FOR TIME SERV\n",
        "\n",
        "2005C22044201"
       ]
      },
      {
       "output_type": "stream",
       "stream": "stdout",
       "text": [
        " 720-5/16A-3(a) DEF SENTENCED ILLINOIS DOC\n",
        "2005C22044201 720-5/16A-3(a) CREDIT DEFENDANT FOR TIME SERV\n",
        "\n",
        "2005C22044401"
       ]
      },
      {
       "output_type": "stream",
       "stream": "stdout",
       "text": [
        " 720-5/8-4(15-335/14B(B)(1) COND DISCH AND OTHER DISC COND\n",
        "2005C22044401 720-5/8-4(15-335/14B(B)(1) SENTENCED TO COMMUNITY SERVICE\n",
        "2005C22044401 720-5/8-4(15-335/14B(B)(1) COND DISCH AND OTHER DISC COND\n",
        "2005C22044401 720-5/8-4(15-335/14B(B)(1) SENTENCED TO COMMUNITY SERVICE\n",
        "\n",
        "2005C22044501"
       ]
      },
      {
       "output_type": "stream",
       "stream": "stdout",
       "text": [
        " 720-550/5(c) SENT/CRT SUPV/SPEC CONDS\n",
        "2005C22044501 720-550/5(c) SENTENCED TO COMMUNITY SERVICE\n",
        "\n",
        "2005C22044602"
       ]
      },
      {
       "output_type": "stream",
       "stream": "stdout",
       "text": [
        " 720-5/16A-3(a) DEF SENTENCED TO PROBATION\n",
        "2005C22044602 720-5/16A-3(a) SENTENCED TO COMMUNITY SERVICE\n",
        "\n",
        "2005C22044603"
       ]
      },
      {
       "output_type": "stream",
       "stream": "stdout",
       "text": [
        " 720-5/16A-3(a) SENTENCED TO COMMUNITY SERVICE\n",
        "2005C22044603 720-5/16A-3(a) DEF SENTENCED TO PROBATION\n",
        "\n",
        "2005C22044801"
       ]
      },
      {
       "output_type": "stream",
       "stream": "stdout",
       "text": [
        " 720-5/16A-3(a) DEF SENTENCED ILLINOIS DOC\n",
        "2005C22044801 720-5/16A-3(a) CREDIT DEFENDANT FOR TIME SERV\n",
        "\n",
        "2005C22045001"
       ]
      },
      {
       "output_type": "stream",
       "stream": "stdout",
       "text": [
        " 720-5/19-3(a) DEF SENTENCED ILLINOIS DOC\n",
        "2005C22045001 720-5/19-3(a) CREDIT DEFENDANT FOR TIME SERV\n",
        "\n",
        "2005C22045201"
       ]
      },
      {
       "output_type": "stream",
       "stream": "stdout",
       "text": [
        " 720-570/402(c) DEF SENTENCED ILLINOIS DOC\n",
        "2005C22045201 720-570/402(c) CREDIT DEFENDANT FOR TIME SERV\n",
        "\n",
        "2005C22045301"
       ]
      },
      {
       "output_type": "stream",
       "stream": "stdout",
       "text": [
        " 720-5/16A-3(a) DEF SENTENCED ILLINOIS DOC\n",
        "2005C22045301 720-5/16A-3(a) CREDIT DEFENDANT FOR TIME SERV\n",
        "\n",
        "2005C22045401"
       ]
      },
      {
       "output_type": "stream",
       "stream": "stdout",
       "text": [
        " 720-5/16A-3(A) DEF SENTENCED ILLINOIS DOC\n",
        "2005C22045401 720-5/16A-3(A) CREDIT DEFENDANT FOR TIME SERV\n",
        "\n",
        "2005C22045801"
       ]
      },
      {
       "output_type": "stream",
       "stream": "stdout",
       "text": [
        " 720-5/12-4(b)(6) DEF SENTENCED ILLINOIS DOC\n",
        "2005C22045801 720-5/12-4(b)(6) CREDIT DEFENDANT FOR TIME SERV\n",
        "\n",
        "2005C22045901"
       ]
      },
      {
       "output_type": "stream",
       "stream": "stdout",
       "text": [
        " 720-550/4(d) PROB AND OTHER DISC CONDS\n",
        "2005C22045901 720-550/4(d) SENTENCED TO COMMUNITY SERVICE\n",
        "\n",
        "2005C22046001"
       ]
      },
      {
       "output_type": "stream",
       "stream": "stdout",
       "text": [
        " 625-5/6-303(d) DEF SENTENCED ILLINOIS DOC\n",
        "2005C22046001 625-5/6-303(d) CREDIT DEFENDANT FOR TIME SERV\n",
        "\n",
        "2005C22046101"
       ]
      },
      {
       "output_type": "stream",
       "stream": "stdout",
       "text": [
        " 720-5/16A-3(a) DEF SENTENCED ILLINOIS DOC\n",
        "2005C22046101 720-5/16A-3(a) CREDIT DEFENDANT FOR TIME SERV\n",
        "\n",
        "2005C22046501"
       ]
      },
      {
       "output_type": "stream",
       "stream": "stdout",
       "text": [
        " 720-5/16A-3(A) DEF SENTENCED TO PROBATION\n",
        "2005C22046501 720-5/16A-3(A) DEF SENTENCED TO COOK CNTY DOC\n",
        "\n",
        "2005C22046701"
       ]
      },
      {
       "output_type": "stream",
       "stream": "stdout",
       "text": [
        " 720-5/16A-3(a) DEF SENT CONDITIONAL DISCHARGE\n",
        "2005C22046701 720-5/16A-3(a) SENTENCED TO COMMUNITY SERVICE\n",
        "\n",
        "2005C22047101"
       ]
      },
      {
       "output_type": "stream",
       "stream": "stdout",
       "text": [
        " 720-570/402(c) DEF SENTENCED TO COOK CNTY DOC\n",
        "2005C22047101 720-570/402(c) CREDIT DEFENDANT FOR TIME SERV\n",
        "2005C22047101 720-570/402(c) DEF SENTENCED TO PROBATION\n",
        "\n",
        "2005C22047501"
       ]
      },
      {
       "output_type": "stream",
       "stream": "stdout",
       "text": [
        " 720-5/16-1(a)(1) PROB AND OTHER DISC CONDS\n",
        "2005C22047501 720-5/16-1(a)(1) SENTENCED TO COMMUNITY SERVICE\n",
        "\n",
        "2005C22047801"
       ]
      },
      {
       "output_type": "stream",
       "stream": "stdout",
       "text": [
        " 720-5/19-1(a) DEF SENTENCED TO PROBATION\n",
        "2005C22047801 720-5/19-1(a) DEF SENTENCED TO COOK CNTY DOC\n",
        "\n",
        "2005C22048001"
       ]
      },
      {
       "output_type": "stream",
       "stream": "stdout",
       "text": [
        " 720-5/16-5 DEF SENTENCED ILLINOIS DOC\n",
        "2005C22048001 720-5/16-5 CREDIT DEFENDANT FOR TIME SERV\n",
        "\n",
        "2005C22048301"
       ]
      },
      {
       "output_type": "stream",
       "stream": "stdout",
       "text": [
        " 625-5/6-303(d) DEF SENTENCED TO COOK CNTY DOC\n",
        "2005C22048301 625-5/6-303(d) CREDIT DEFENDANT FOR TIME SERV\n",
        "2005C22048301 625-5/6-303(d) DEF SENTENCED TO PROBATION\n",
        "\n",
        "2005C22048601"
       ]
      },
      {
       "output_type": "stream",
       "stream": "stdout",
       "text": [
        " 625-5/6-303(a) DEF SENTENCED TO PROBATION\n",
        "2005C22048601 625-5/6-303(a) SENTENCED TO COMMUNITY SERVICE\n",
        "\n",
        "2005C22049201"
       ]
      },
      {
       "output_type": "stream",
       "stream": "stdout",
       "text": [
        " 720-5/16A-3(a) DEF SENTENCED ILLINOIS DOC\n",
        "2005C22049201 720-5/16A-3(a) CREDIT DEFENDANT FOR TIME SERV\n",
        "\n",
        "2005C22049401"
       ]
      },
      {
       "output_type": "stream",
       "stream": "stdout",
       "text": [
        " 720-5/16A-3(a) DEF SENTENCED ILLINOIS DOC\n",
        "2005C22049401 720-5/16A-3(a) CREDIT DEFENDANT FOR TIME SERV\n",
        "\n",
        "2005C22049501"
       ]
      },
      {
       "output_type": "stream",
       "stream": "stdout",
       "text": [
        " 720-570/402(c) DEF SENTENCED ILLINOIS DOC\n",
        "2005C22049501 720-570/402(c) CREDIT DEFENDANT FOR TIME SERV\n",
        "\n",
        "2005C22049801"
       ]
      },
      {
       "output_type": "stream",
       "stream": "stdout",
       "text": [
        " 720-5/12-4(b)(11) DEF SENTENCED TO COOK CNTY DOC\n",
        "2005C22049801 720-5/12-4(b)(11) CREDIT DEFENDANT FOR TIME SERV\n",
        "2005C22049801 720-5/12-4(b)(11) DEF SENTENCED TO PROBATION\n",
        "\n",
        "2005C22050301"
       ]
      },
      {
       "output_type": "stream",
       "stream": "stdout",
       "text": [
        " 720-5/10-3 PROB AND OTHER DISC CONDS\n",
        "2005C22050301 720-5/10-3 SENTENCED TO COMMUNITY SERVICE\n",
        "\n",
        "2005C22050401"
       ]
      },
      {
       "output_type": "stream",
       "stream": "stdout",
       "text": [
        " 625-5/4-103(a)(1) DEF SENTENCED TO COOK CNTY DOC\n",
        "2005C22050401 625-5/4-103(a)(1) CREDIT DEFENDANT FOR TIME SERV\n",
        "\n",
        "2005C22050501"
       ]
      },
      {
       "output_type": "stream",
       "stream": "stdout",
       "text": [
        " 720-5/16A-3(a) DEF SENTENCED ILLINOIS DOC\n",
        "2005C22050501 720-5/16A-3(a) CREDIT DEFENDANT FOR TIME SERV\n",
        "\n",
        "2005C22050601"
       ]
      },
      {
       "output_type": "stream",
       "stream": "stdout",
       "text": [
        " 720-570/402(c) DEF SENTENCED ILLINOIS DOC\n",
        "2005C22050601 720-570/402(c) CREDIT DEFENDANT FOR TIME SERV\n",
        "\n",
        "2005C22051101"
       ]
      },
      {
       "output_type": "stream",
       "stream": "stdout",
       "text": [
        " 720-5/17-3(a)(1) DEF SENTENCED ILLINOIS DOC\n",
        "2005C22051101 720-5/17-3(a)(1) CREDIT DEFENDANT FOR TIME SERV\n",
        "\n",
        "2005C22051401"
       ]
      },
      {
       "output_type": "stream",
       "stream": "stdout",
       "text": [
        " 720-250/8 COND DISCH AND OTHER DISC COND\n",
        "2005C22051401 720-250/8 SENTENCED TO COMMUNITY SERVICE\n",
        "\n",
        "2005C22051701"
       ]
      },
      {
       "output_type": "stream",
       "stream": "stdout",
       "text": [
        " 720-5/16A-3(a) DEF SENTENCED ILLINOIS DOC\n",
        "2005C22051701 720-5/16A-3(a) CREDIT DEFENDANT FOR TIME SERV\n",
        "\n",
        "2005C22051901"
       ]
      },
      {
       "output_type": "stream",
       "stream": "stdout",
       "text": [
        " 625-5/4-103(a)(1) PROB AND OTHER DISC CONDS\n",
        "2005C22051901 625-5/4-103(a)(1) SENTENCED TO COMMUNITY SERVICE\n",
        "2005C22051901 625-5/4-103(a)(1) DEF SENT TO PAY RESTITUTION\n",
        "\n",
        "2005C22052001"
       ]
      },
      {
       "output_type": "stream",
       "stream": "stdout",
       "text": [
        " 720-5/17-3(a)(2) DEF SENTENCED ILLINOIS DOC\n",
        "2005C22052001 720-5/17-3(a)(2) CREDIT DEFENDANT FOR TIME SERV\n",
        "2005C22052001 720-5/17-3(a)(2) DEF SENTENCED ILLINOIS DOC\n",
        "\n",
        "2005C22052101"
       ]
      },
      {
       "output_type": "stream",
       "stream": "stdout",
       "text": [
        " 720-5/19-3(a) DEF SENTENCED ILLINOIS DOC\n",
        "2005C22052101 720-5/19-3(a) CREDIT DEFENDANT FOR TIME SERV\n",
        "\n",
        "2005C22052301"
       ]
      },
      {
       "output_type": "stream",
       "stream": "stdout",
       "text": [
        " 625-5/6-303(d) DEF SENTENCED TO COOK CNTY DOC\n",
        "2005C22052301 625-5/6-303(d) CREDIT DEFENDANT FOR TIME SERV\n",
        "2005C22052301 625-5/6-303(d) DEF SENTENCED TO PROBATION\n",
        "\n",
        "2005C22052402"
       ]
      },
      {
       "output_type": "stream",
       "stream": "stdout",
       "text": [
        " 720-5/16A-3(a) DEF SENT CONDITIONAL DISCHARGE\n",
        "2005C22052402 720-5/16A-3(a) SENTENCED TO COMMUNITY SERVICE\n",
        "\n",
        "2005C22053001"
       ]
      },
      {
       "output_type": "stream",
       "stream": "stdout",
       "text": [
        " 720-5/19-1(a) DEF SENTENCED TO PROBATION\n",
        "2005C22053001 720-5/19-1(a) DEF SENTENCED TO COOK CNTY DOC\n",
        "\n",
        "2005C22053101"
       ]
      },
      {
       "output_type": "stream",
       "stream": "stdout",
       "text": [
        " 720-5/19-1(a) DEF SENTENCED TO PROBATION\n",
        "2005C22053101 720-5/19-1(a) DEF SENT TO PAY RESTITUTION\n",
        "\n",
        "2005C22053201"
       ]
      },
      {
       "output_type": "stream",
       "stream": "stdout",
       "text": [
        " 720-5/16A-3(A) DEF SENTENCED ILLINOIS DOC\n",
        "2005C22053201 720-5/16A-3(A) CREDIT DEFENDANT FOR TIME SERV\n",
        "\n",
        "2005C22053401"
       ]
      },
      {
       "output_type": "stream",
       "stream": "stdout",
       "text": [
        " 720-5/12-4(b)(8) DEF SENTENCED TO COOK CNTY DOC\n",
        "2005C22053401 720-5/12-4(b)(8) CREDIT DEFENDANT FOR TIME SERV\n",
        "2005C22053401 720-5/12-4(b)(8) DEF SENTENCED TO PROBATION\n",
        "\n",
        "2005C22053501"
       ]
      },
      {
       "output_type": "stream",
       "stream": "stdout",
       "text": [
        " 720-5/19-1(a) DEF SENTENCED TO PROBATION\n",
        "2005C22053501 720-5/19-1(a) DEF SENTENCED TO COOK CNTY DOC\n",
        "2005C22053501 720-5/19-1(a) CREDIT DEFENDANT FOR TIME SERV\n",
        "\n",
        "2005C22054201"
       ]
      },
      {
       "output_type": "stream",
       "stream": "stdout",
       "text": [
        " 720-570/402(c) DEF SENTENCED ILLINOIS DOC\n",
        "2005C22054201 720-570/402(c) CREDIT DEFENDANT FOR TIME SERV\n",
        "\n",
        "2005C22054401"
       ]
      },
      {
       "output_type": "stream",
       "stream": "stdout",
       "text": [
        " 720-5/19-1(A) DEF SENTENCED ILLINOIS DOC\n",
        "2005C22054401 720-5/19-1(A) CREDIT DEFENDANT FOR TIME SERV\n",
        "\n",
        "2005C22054501"
       ]
      },
      {
       "output_type": "stream",
       "stream": "stdout",
       "text": [
        " 720-5/31-4(a) DEF SENTENCED ILLINOIS DOC\n",
        "2005C22054501 720-5/31-4(a) CREDIT DEFENDANT FOR TIME SERV\n",
        "\n",
        "2005C22054901"
       ]
      },
      {
       "output_type": "stream",
       "stream": "stdout",
       "text": [
        " 720-5/16A-3(A) DEF SENTENCED ILLINOIS DOC\n",
        "2005C22054901 720-5/16A-3(A) CREDIT DEFENDANT FOR TIME SERV\n",
        "\n",
        "2005C22055201"
       ]
      },
      {
       "output_type": "stream",
       "stream": "stdout",
       "text": [
        " 720-570/402(c) DEF SENTENCED TO PROBATION\n",
        "2005C22055201 720-570/402(c) SENTENCED TO COMMUNITY SERVICE\n",
        "\n",
        "2005C22056701"
       ]
      },
      {
       "output_type": "stream",
       "stream": "stdout",
       "text": [
        " 720-5/21-3(a) DEF SENTENCED TO COOK CNTY DOC\n",
        "2005C22056701 720-5/21-3(a) CREDIT DEFENDANT FOR TIME SERV\n",
        "\n",
        "2005C22056901"
       ]
      },
      {
       "output_type": "stream",
       "stream": "stdout",
       "text": [
        " 625-5/11-401(a) PROB AND OTHER DISC CONDS\n",
        "2005C22056901 625-5/11-401(a) SENTENCED TO COMMUNITY SERVICE\n",
        "\n",
        "2005C22057101"
       ]
      },
      {
       "output_type": "stream",
       "stream": "stdout",
       "text": [
        " 625-5/11-501(c-1)(1) DEF SENTENCED ILLINOIS DOC\n",
        "2005C22057101 625-5/11-501(c-1)(1) CREDIT DEFENDANT FOR TIME SERV\n",
        "\n",
        "2005C22057201"
       ]
      },
      {
       "output_type": "stream",
       "stream": "stdout",
       "text": [
        " 720-5/17-3(A)(1) DEF SENT TO PAY RESTITUTION\n",
        "2005C22057201 720-5/17-3(A)(1) DEF SENTENCED TO COOK CNTY DOC\n",
        "2005C22057201 720-5/17-3(A)(1) CREDIT DEFENDANT FOR TIME SERV\n",
        "2005C22057201 720-5/17-3(A)(1) DEF SENTENCED TO PROBATION\n",
        "\n",
        "2005C22057301"
       ]
      },
      {
       "output_type": "stream",
       "stream": "stdout",
       "text": [
        " 720-5/16-1(a)(1) DEF SENTENCED ILLINOIS DOC\n",
        "2005C22057301 720-5/16-1(a)(1) CREDIT DEFENDANT FOR TIME SERV\n",
        "\n",
        "2005C22057401"
       ]
      },
      {
       "output_type": "stream",
       "stream": "stdout",
       "text": [
        " 625-5/6-301.2(b)(1) DEF SENTENCED TO PROBATION\n",
        "2005C22057401 625-5/6-301.2(b)(1) CREDIT DEFENDANT FOR TIME SERV\n",
        "\n",
        "2005C22057501"
       ]
      },
      {
       "output_type": "stream",
       "stream": "stdout",
       "text": [
        " 625-5/6-303(d) DEF SENTENCED ILLINOIS DOC\n",
        "2005C22057501 625-5/6-303(d) CREDIT DEFENDANT FOR TIME SERV\n",
        "\n",
        "2005C22057701"
       ]
      },
      {
       "output_type": "stream",
       "stream": "stdout",
       "text": [
        " 720-5/16A-3(a) DEF SENTENCED ILLINOIS DOC\n",
        "2005C22057701 720-5/16A-3(a) CREDIT DEFENDANT FOR TIME SERV\n",
        "\n",
        "2005C22058301"
       ]
      },
      {
       "output_type": "stream",
       "stream": "stdout",
       "text": [
        " 720-5/16-1(a)(1) DEF SENTENCED TO PROBATION\n",
        "2005C22058301 720-5/16-1(a)(1) DEF SENT TO PAY RESTITUTION\n",
        "\n",
        "2005C22058401"
       ]
      },
      {
       "output_type": "stream",
       "stream": "stdout",
       "text": [
        " 625-5/11-501(d)(1)(A) PROB AND OTHER DISC CONDS\n",
        "2005C22058401 625-5/11-501(d)(1)(A) SENTENCED TO COMMUNITY SERVICE\n",
        "\n",
        "2005C22058601"
       ]
      },
      {
       "output_type": "stream",
       "stream": "stdout",
       "text": [
        " 720-570/402(c) DEF SENTENCED ILLINOIS DOC\n",
        "2005C22058601 720-570/402(c) CREDIT DEFENDANT FOR TIME SERV\n",
        "\n",
        "2005C22058701"
       ]
      },
      {
       "output_type": "stream",
       "stream": "stdout",
       "text": [
        " 720-570/402(c) DEF SENTENCED ILLINOIS DOC\n",
        "2005C22058701 720-570/402(c) CREDIT DEFENDANT FOR TIME SERV\n",
        "\n",
        "2005C22059102"
       ]
      },
      {
       "output_type": "stream",
       "stream": "stdout",
       "text": [
        " 720-5/18-1(a) DEF SENTENCED TO COOK CNTY DOC\n",
        "2005C22059102 720-5/18-1(a) CREDIT DEFENDANT FOR TIME SERV\n",
        "2005C22059102 720-5/18-1(a) DEF SENTENCED TO PROBATION\n",
        "\n",
        "2005C22059201"
       ]
      },
      {
       "output_type": "stream",
       "stream": "stdout",
       "text": [
        " 720-5/16A-3(a) DEF SENTENCED ILLINOIS DOC\n",
        "2005C22059201 720-5/16A-3(a) CREDIT DEFENDANT FOR TIME SERV\n",
        "\n",
        "2005C22059301"
       ]
      },
      {
       "output_type": "stream",
       "stream": "stdout",
       "text": [
        " 720-5/12-4(b)(8) DEF SENTENCED ILLINOIS DOC\n",
        "2005C22059301 720-5/12-4(b)(8) CREDIT DEFENDANT FOR TIME SERV\n",
        "\n",
        "2005C22059401"
       ]
      },
      {
       "output_type": "stream",
       "stream": "stdout",
       "text": [
        " 720-5/19-1(a) DEF SENTENCED ILLINOIS DOC\n",
        "2005C22059401 720-5/19-1(a) CREDIT DEFENDANT FOR TIME SERV\n",
        "\n",
        "2005C22059601"
       ]
      },
      {
       "output_type": "stream",
       "stream": "stdout",
       "text": [
        " 720-5/19-3(a) DEF SENTENCED ILLINOIS DOC\n",
        "2005C22059601 720-5/19-3(a) CREDIT DEFENDANT FOR TIME SERV\n",
        "\n",
        "2005C22060001"
       ]
      },
      {
       "output_type": "stream",
       "stream": "stdout",
       "text": [
        " 720-550/8(d) DEF SENTENCED ILLINOIS DOC\n",
        "2005C22060001 720-550/8(d) CREDIT DEFENDANT FOR TIME SERV\n",
        "\n",
        "2005C22060101"
       ]
      },
      {
       "output_type": "stream",
       "stream": "stdout",
       "text": [
        " 625-5/11-501(c-1)(1) PROB AND OTHER DISC CONDS\n",
        "2005C22060101 625-5/11-501(c-1)(1) SENTENCED TO COMMUNITY SERVICE\n",
        "\n",
        "2005C22060302"
       ]
      },
      {
       "output_type": "stream",
       "stream": "stdout",
       "text": [
        " 720-5/16A-3(a) DEF SENTENCED ILLINOIS DOC\n",
        "2005C22060302 720-5/16A-3(a) CREDIT DEFENDANT FOR TIME SERV\n",
        "\n"
       ]
      }
     ],
     "prompt_number": 16
    },
    {
     "cell_type": "markdown",
     "metadata": {},
     "source": [
      "## Interesting cases"
     ]
    },
    {
     "cell_type": "code",
     "collapsed": false,
     "input": [
      "from django.db.models import Count\n",
      "\n",
      "# Print the case number with the must records, and the number of records\n",
      "most_records = Disposition.objects.values('case_number').annotate(num_records=Count('case_number')).order_by('-num_records')[0]\n",
      "print(most_records['case_number'])\n",
      "print(most_records['num_records'])\n",
      "\n",
      "# Case with the most records for a possession charge\n",
      "most_records = Disposition.objects.filter(iucr_code=\"2020\").values('case_number').annotate(num_records=Count('case_number')).order_by('-num_records')[0]\n",
      "print(most_records['case_number'])\n",
      "print(most_records['num_records'])\n",
      "\n",
      "\n",
      "dispositions = Disposition.objects.filter(case_number=most_records['case_number'])\n",
      "# In this case, all these records are likely for a single person\n",
      "print(dispositions.values('dob').distinct().count())\n",
      "\n",
      "# I think distinct tuples of case_number, dob, and statute should represent an individual conviction\n",
      "# I'm not quite sure how to take into account \n",
      "print(dispositions.values('case_number', 'dob', 'final_statute').distinct().count())"
     ],
     "language": "python",
     "metadata": {},
     "outputs": [
      {
       "output_type": "stream",
       "stream": "stdout",
       "text": [
        "2002CR3214402\n",
        "36\n",
        "2005CR0590001"
       ]
      },
      {
       "output_type": "stream",
       "stream": "stdout",
       "text": [
        "\n",
        "14\n",
        "1"
       ]
      },
      {
       "output_type": "stream",
       "stream": "stdout",
       "text": [
        "\n",
        "4"
       ]
      },
      {
       "output_type": "stream",
       "stream": "stdout",
       "text": [
        "\n"
       ]
      }
     ],
     "prompt_number": 7
    },
    {
     "cell_type": "markdown",
     "metadata": {},
     "source": [
      "## Number of people\n",
      "\n",
      "The best bet we can get to identify individual people is by the ``fgrprntno`` field."
     ]
    },
    {
     "cell_type": "code",
     "collapsed": false,
     "input": [
      "num_with_fgrprntno = Disposition.objects.exclude(fgrprntno=\"0\").count()\n",
      "print(\"There are {} records with identifiable fgrprntno fields\".format(num_with_fgrprntno))\n",
      "print()\n",
      "num_distinct_fgrprntno = Disposition.objects.exclude(fgrprntno=\"0\").values('fgrprntno').distinct().count()\n",
      "print(\"There are {} distinct fgrprntno values (people?)\".format(num_distinct_fgrprntno))"
     ],
     "language": "python",
     "metadata": {},
     "outputs": [
      {
       "output_type": "stream",
       "stream": "stdout",
       "text": [
        "There are 289475 records with identifiable fgrprntno fields\n",
        "\n",
        "There are 102459 distinct fgrprntno values (people?)"
       ]
      },
      {
       "output_type": "stream",
       "stream": "stdout",
       "text": [
        "\n"
       ]
      }
     ],
     "prompt_number": 8
    },
    {
     "cell_type": "markdown",
     "metadata": {},
     "source": [
      "## Identifying unique people\n",
      "\n",
      "Within a case, it seems like a date of birth (DOB) is a pretty good way to uniquely identify people.  This would break if, for example there are twins involved in the same case.\n",
      "\n",
      "Some DOB values couldn't be parsed into meaningful dates.  These show up as NULL values in the database. I just want to make sure that there aren't any None value DOB fields with different ``fgrprntno`` or ``st_address`` values."
     ]
    },
    {
     "cell_type": "code",
     "collapsed": false,
     "input": [
      "no_dob = Disposition.objects.filter(dob=None)\n",
      "distinct_cases = no_dob.values('case_number').distinct().count()\n",
      "print(\"There are {} records with a null dob field.\".format(no_dob.count()))\n",
      "print(\"These records represent {} distinct cases\".format(distinct_cases))\n",
      "print(\"There should be the same number of case number/fgrprntno pairs and case number/st_address pairs:\")\n",
      "unique_address_case_number = no_dob.values('case_number', 'st_address').distinct().count()\n",
      "unique_fgrprntno_case_number = no_dob.values('case_number', 'fgrprntno').distinct().count()\n",
      "print(\"* case_number/fgrprntno: {}\".format(unique_fgrprntno_case_number))\n",
      "print(\"* case_number/st_address: {}\".format(unique_address_case_number))\n",
      "assert unique_fgrprntno_case_number == distinct_cases and unique_address_case_number == distinct_cases\n",
      "print(\"We're good.  We can use dob to uniquely identify people within a case\")"
     ],
     "language": "python",
     "metadata": {},
     "outputs": [
      {
       "output_type": "stream",
       "stream": "stdout",
       "text": [
        "There are 557 records with a null dob field.\n",
        "These records represent 286 distinct cases\n",
        "There should be the same number of case number/fgrprntno pairs and case number/st_address pairs:\n",
        "* case_number/fgrprntno: 286"
       ]
      },
      {
       "output_type": "stream",
       "stream": "stdout",
       "text": [
        "\n",
        "* case_number/st_address: 286\n",
        "We're good.  We can use dob to uniquely identify people within a case\n"
       ]
      }
     ],
     "prompt_number": 10
    },
    {
     "cell_type": "heading",
     "level": 2,
     "metadata": {},
     "source": [
      "How does pool of those convicted vary by crime type & demographic characteristic?"
     ]
    },
    {
     "cell_type": "markdown",
     "metadata": {},
     "source": [
      "* Age \n",
      "* ~~Race~~\n",
      "* Gender"
     ]
    },
    {
     "cell_type": "heading",
     "level": 3,
     "metadata": {},
     "source": [
      "Age"
     ]
    },
    {
     "cell_type": "code",
     "collapsed": false,
     "input": [
      "import json\n",
      "convictions_by_age = Conviction.objects.counts_by_age_range()\n",
      "print(json.dumps(convictions_by_age))"
     ],
     "language": "python",
     "metadata": {},
     "outputs": [
      {
       "output_type": "stream",
       "stream": "stdout",
       "text": [
        "[{\"drug_convictions\": 17780, \"violent_convictions\": 2157, \"total_convictions\": 43580, \"property_convictions\": 1327, \"homicide_convictions\": 9, \"affecting_women_convictions\": 102, \"age_min\": 18, \"invalid_ages\": false, \"age_max\": 24}, {\"drug_convictions\": 9234, \"violent_convictions\": 439, \"total_convictions\": 23265, \"property_convictions\": 1080, \"homicide_convictions\": 13, \"affecting_women_convictions\": 114, \"age_min\": 25, \"invalid_ages\": false, \"age_max\": 29}, {\"drug_convictions\": 6191, \"violent_convictions\": 341, \"total_convictions\": 16901, \"property_convictions\": 1201, \"homicide_convictions\": 5, \"affecting_women_convictions\": 109, \"age_min\": 30, \"invalid_ages\": false, \"age_max\": 34}, {\"drug_convictions\": 6368, \"violent_convictions\": 400, \"total_convictions\": 16820, \"property_convictions\": 1921, \"homicide_convictions\": 3, \"affecting_women_convictions\": 118, \"age_min\": 35, \"invalid_ages\": false, \"age_max\": 39}, {\"drug_convictions\": 6030, \"violent_convictions\": 369, \"total_convictions\": 15443, \"property_convictions\": 1921, \"homicide_convictions\": 1, \"affecting_women_convictions\": 80, \"age_min\": 40, \"invalid_ages\": false, \"age_max\": 44}, {\"drug_convictions\": 5027, \"violent_convictions\": 185, \"total_convictions\": 12081, \"property_convictions\": 1528, \"homicide_convictions\": 0, \"affecting_women_convictions\": 64, \"age_min\": 45, \"invalid_ages\": false, \"age_max\": 49}, {\"drug_convictions\": 2785, \"violent_convictions\": 90, \"total_convictions\": 6864, \"property_convictions\": 908, \"homicide_convictions\": 1, \"affecting_women_convictions\": 34, \"age_min\": 50, \"invalid_ages\": false, \"age_max\": 54}, {\"drug_convictions\": 1027, \"violent_convictions\": 31, \"total_convictions\": 2732, \"property_convictions\": 366, \"homicide_convictions\": 1, \"affecting_women_convictions\": 12, \"age_min\": 55, \"invalid_ages\": false, \"age_max\": 59}, {\"drug_convictions\": 291, \"violent_convictions\": 11, \"total_convictions\": 953, \"property_convictions\": 89, \"homicide_convictions\": 0, \"affecting_women_convictions\": 7, \"age_min\": 60, \"invalid_ages\": false, \"age_max\": 64}, {\"drug_convictions\": 139, \"violent_convictions\": 4, \"total_convictions\": 589, \"property_convictions\": 44, \"homicide_convictions\": 0, \"affecting_women_convictions\": 4, \"age_min\": 65, \"invalid_ages\": false, \"age_max\": null}, {\"drug_convictions\": 832, \"violent_convictions\": 156, \"total_convictions\": 2233, \"property_convictions\": 92, \"homicide_convictions\": 2, \"affecting_women_convictions\": 8, \"invalid_ages\": true}]\n"
       ]
      }
     ],
     "prompt_number": 1
    },
    {
     "cell_type": "code",
     "collapsed": false,
     "input": [
      "convictions_18_24 = convictions = Conviction.objects.all().with_ages().filter_by_age(start=18, end=24)\n",
      "record = {\n",
      "  'male': len(convictions_18_24.male()),\n",
      "  'female': len(convictions_18_24.female()),\n",
      "  'uknwn_sex': len(convictions_18_24.unkwn_sex()),\n",
      "}\n",
      "print(json.dumps(record))"
     ],
     "language": "python",
     "metadata": {},
     "outputs": [
      {
       "metadata": {},
       "output_type": "pyout",
       "prompt_number": 3,
       "text": [
        "'{\"uknwn_sex\": 2, \"female\": 3809, \"male\": 39769}'"
       ]
      }
     ],
     "prompt_number": 3
    },
    {
     "cell_type": "code",
     "collapsed": false,
     "input": [
      "convictions_18_24 = convictions = Conviction.objects.all().with_ages().filter_by_age(start=18, end=24)\n",
      "\n",
      "convictions_18_24_by_community_area = []\n",
      "for ca in CommunityArea.objects.all():\n",
      "    ca_convictions = len(convictions_18_24.filter(community_area=ca))\n",
      "    record = {\n",
      "        'name': ca.name,\n",
      "        'convictions': ca_convictions,\n",
      "        # TODO: Perhaps do per capita calculation using 18-24 population\n",
      "        'convictions_per_capita': float(ca_convictions) / float(ca.total_population),\n",
      "    }\n",
      "    convictions_18_24_by_community_area.append(record)\n",
      "\n",
      "convictions_18_24_by_community_area = sorted(convictions_18_24_by_community_area,\n",
      "    key=lambda ca: ca['convictions_per_capita'])\n",
      "print(json.dumps(convictions_18_24_by_community_area))"
     ],
     "language": "python",
     "metadata": {},
     "outputs": [
      {
       "output_type": "stream",
       "stream": "stdout",
       "text": [
        "[{\"convictions_per_capita\": 0.0002419081716580386, \"name\": \"OHARE\", \"convictions\": 5}, {\"convictions_per_capita\": 0.0007511060808725177, \"name\": \"LAKE VIEW\", \"convictions\": 73}, {\"convictions_per_capita\": 0.0009156514316753317, \"name\": \"LINCOLN PARK\", \"convictions\": 59}, {\"convictions_per_capita\": 0.0009731307779639941, \"name\": \"MOUNT GREENWOOD\", \"convictions\": 18}, {\"convictions_per_capita\": 0.000988586321560169, \"name\": \"EDISON PARK\", \"convictions\": 11}, {\"convictions_per_capita\": 0.0012145276188251781, \"name\": \"NORWOOD PARK\", \"convictions\": 52}, {\"convictions_per_capita\": 0.0015398502628365103, \"name\": \"FOREST GLEN\", \"convictions\": 29}, {\"convictions_per_capita\": 0.0016470024555309338, \"name\": \"NORTH CENTER\", \"convictions\": 55}, {\"convictions_per_capita\": 0.0021007352573400692, \"name\": \"LOOP\", \"convictions\": 42}, {\"convictions_per_capita\": 0.0021177467174925877, \"name\": \"NORTH PARK\", \"convictions\": 40}, {\"convictions_per_capita\": 0.002206693637366679, \"name\": \"ARMOUR SQUARE\", \"convictions\": 30}, {\"convictions_per_capita\": 0.0030739333981097076, \"name\": \"EDGEWATER\", \"convictions\": 174}, {\"convictions_per_capita\": 0.003142294343870181, \"name\": \"DUNNING\", \"convictions\": 134}, {\"convictions_per_capita\": 0.0032948009158429666, \"name\": \"WEST ELSDON\", \"convictions\": 59}, {\"convictions_per_capita\": 0.00332331065041937, \"name\": \"BRIDGEPORT\", \"convictions\": 105}, {\"convictions_per_capita\": 0.003332085361287907, \"name\": \"JEFFERSON PARK\", \"convictions\": 89}, {\"convictions_per_capita\": 0.003333537219401798, \"name\": \"WEST LAWN\", \"convictions\": 109}, {\"convictions_per_capita\": 0.00404505076142132, \"name\": \"EAST SIDE\", \"convictions\": 102}, {\"convictions_per_capita\": 0.004047180646455071, \"name\": \"IRVING PARK\", \"convictions\": 222}, {\"convictions_per_capita\": 0.004065548293996032, \"name\": \"WEST RIDGE\", \"convictions\": 293}, {\"convictions_per_capita\": 0.0041197076844356395, \"name\": \"NEAR NORTH SIDE\", \"convictions\": 314}, {\"convictions_per_capita\": 0.004131282992885013, \"name\": \"MONTCLARE\", \"convictions\": 54}, {\"convictions_per_capita\": 0.004179498460184778, \"name\": \"PORTAGE PARK\", \"convictions\": 266}, {\"convictions_per_capita\": 0.004199241427355059, \"name\": \"ALBANY PARK\", \"convictions\": 217}, {\"convictions_per_capita\": 0.004363183045917307, \"name\": \"CLEARING\", \"convictions\": 105}, {\"convictions_per_capita\": 0.004555275008459796, \"name\": \"LINCOLN SQUARE\", \"convictions\": 175}, {\"convictions_per_capita\": 0.004799692819659542, \"name\": \"MCKINLEY PARK\", \"convictions\": 75}, {\"convictions_per_capita\": 0.004824642790870292, \"name\": \"BEVERLY\", \"convictions\": 104}, {\"convictions_per_capita\": 0.004826327239990998, \"name\": \"AVONDALE\", \"convictions\": 193}, {\"convictions_per_capita\": 0.004907643558234794, \"name\": \"HYDE PARK\", \"convictions\": 127}, {\"convictions_per_capita\": 0.0050493653032440055, \"name\": \"GARFIELD RIDGE\", \"convictions\": 179}, {\"convictions_per_capita\": 0.005247318465931013, \"name\": \"ARCHER HEIGHTS\", \"convictions\": 68}, {\"convictions_per_capita\": 0.005392339159538862, \"name\": \"HEGEWISCH\", \"convictions\": 58}, {\"convictions_per_capita\": 0.005591054313099041, \"name\": \"UPTOWN\", \"convictions\": 315}, {\"convictions_per_capita\": 0.005826906598114824, \"name\": \"OAKLAND\", \"convictions\": 34}, {\"convictions_per_capita\": 0.00620874818212328, \"name\": \"NEAR SOUTH SIDE\", \"convictions\": 111}, {\"convictions_per_capita\": 0.0062241423497968, \"name\": \"MORGAN PARK\", \"convictions\": 170}, {\"convictions_per_capita\": 0.006252654428766929, \"name\": \"ASHBURN\", \"convictions\": 265}, {\"convictions_per_capita\": 0.006414674229974023, \"name\": \"LOGAN SQUARE\", \"convictions\": 484}, {\"convictions_per_capita\": 0.00653373887574631, \"name\": \"LOWER WEST SIDE\", \"convictions\": 232}, {\"convictions_per_capita\": 0.006634963768115942, \"name\": \"BRIGHTON PARK\", \"convictions\": 293}, {\"convictions_per_capita\": 0.0068725868725868725, \"name\": \"GAGE PARK\", \"convictions\": 267}, {\"convictions_per_capita\": 0.007507780240006781, \"name\": \"WEST TOWN\", \"convictions\": 620}, {\"convictions_per_capita\": 0.00755650662030226, \"name\": \"CALUMET HEIGHTS\", \"convictions\": 113}, {\"convictions_per_capita\": 0.007984031936127744, \"name\": \"KENWOOD\", \"convictions\": 144}, {\"convictions_per_capita\": 0.008066728174949505, \"name\": \"BELMONT CRAGIN\", \"convictions\": 647}, {\"convictions_per_capita\": 0.008297480024585127, \"name\": \"DOUGLAS\", \"convictions\": 162}, {\"convictions_per_capita\": 0.008379774641012082, \"name\": \"HERMOSA\", \"convictions\": 206}, {\"convictions_per_capita\": 0.008871759444424244, \"name\": \"ROGERS PARK\", \"convictions\": 488}, {\"convictions_per_capita\": 0.010850182436695839, \"name\": \"SOUTH LAWNDALE\", \"convictions\": 791}, {\"convictions_per_capita\": 0.011158021712907118, \"name\": \"AVALON PARK\", \"convictions\": 111}, {\"convictions_per_capita\": 0.01183015987788222, \"name\": \"NEAR WEST SIDE\", \"convictions\": 589}, {\"convictions_per_capita\": 0.012480555656043122, \"name\": \"WASHINGTON HEIGHTS\", \"convictions\": 345}, {\"convictions_per_capita\": 0.012689369416030041, \"name\": \"PULLMAN\", \"convictions\": 98}, {\"convictions_per_capita\": 0.01358695652173913, \"name\": \"RIVERDALE\", \"convictions\": 80}, {\"convictions_per_capita\": 0.014047911372526626, \"name\": \"CHATHAM\", \"convictions\": 492}, {\"convictions_per_capita\": 0.01619778346121057, \"name\": \"WEST PULLMAN\", \"convictions\": 589}, {\"convictions_per_capita\": 0.017201559410971307, \"name\": \"CHICAGO LAWN\", \"convictions\": 931}, {\"convictions_per_capita\": 0.017696386730792945, \"name\": \"SOUTH CHICAGO\", \"convictions\": 574}, {\"convictions_per_capita\": 0.017710037601538504, \"name\": \"GREATER GRAND CROSSING\", \"convictions\": 617}, {\"convictions_per_capita\": 0.0178988805511133, \"name\": \"SOUTH DEERING\", \"convictions\": 291}, {\"convictions_per_capita\": 0.0182449387747401, \"name\": \"AUBURN GRESHAM\", \"convictions\": 967}, {\"convictions_per_capita\": 0.018313302098187004, \"name\": \"SOUTH SHORE\", \"convictions\": 899}, {\"convictions_per_capita\": 0.018356643356643356, \"name\": \"BURNSIDE\", \"convictions\": 63}, {\"convictions_per_capita\": 0.01882912115534025, \"name\": \"GRAND BOULEVARD\", \"convictions\": 412}, {\"convictions_per_capita\": 0.018847332409856022, \"name\": \"ROSELAND\", \"convictions\": 898}, {\"convictions_per_capita\": 0.020168877059336423, \"name\": \"NEW CITY\", \"convictions\": 879}, {\"convictions_per_capita\": 0.022222222222222223, \"name\": \"FULLER PARK\", \"convictions\": 68}, {\"convictions_per_capita\": 0.024505023953872895, \"name\": \"WOODLAWN\", \"convictions\": 578}, {\"convictions_per_capita\": 0.03263981675892346, \"name\": \"WASHINGTON PARK\", \"convictions\": 342}, {\"convictions_per_capita\": 0.034227941176470586, \"name\": \"HUMBOLDT PARK\", \"convictions\": 1862}, {\"convictions_per_capita\": 0.03551101961734076, \"name\": \"ENGLEWOOD\", \"convictions\": 1173}, {\"convictions_per_capita\": 0.037434122145292965, \"name\": \"WEST ENGLEWOOD\", \"convictions\": 1449}, {\"convictions_per_capita\": 0.03991524913140401, \"name\": \"AUSTIN\", \"convictions\": 3975}, {\"convictions_per_capita\": 0.04308725596220616, \"name\": \"NORTH LAWNDALE\", \"convictions\": 1514}, {\"convictions_per_capita\": 0.044158326208318666, \"name\": \"EAST GARFIELD PARK\", \"convictions\": 878}, {\"convictions_per_capita\": 0.07182406209573092, \"name\": \"WEST GARFIELD PARK\", \"convictions\": 1388}]\n"
       ]
      }
     ],
     "prompt_number": 15
    },
    {
     "cell_type": "heading",
     "level": 3,
     "metadata": {},
     "source": [
      "Sex"
     ]
    },
    {
     "cell_type": "code",
     "collapsed": false,
     "input": [
      "from django.db.models import Count\n",
      "\n",
      "values_qs = Disposition.objects.values('sex').annotate(num_records=Count('pk')).distinct()\n",
      "for d in values_qs:\n",
      "    print(d)"
     ],
     "language": "python",
     "metadata": {},
     "outputs": [
      {
       "output_type": "stream",
       "stream": "stdout",
       "text": [
        "{'sex': '', 'num_records': 247}\n",
        "{'sex': '720-5/19-1(a)', 'num_records': 3}\n",
        "{'sex': 'female', 'num_records': 39041}\n",
        "{'sex': 'male', 'num_records': 255896}\n"
       ]
      }
     ],
     "prompt_number": 14
    },
    {
     "cell_type": "code",
     "collapsed": false,
     "input": [
      "num_records = Disposition.objects.all().count()\n",
      "valid_sex = Disposition.objects.filter(sex__in=['male', 'female']).count()\n",
      "print(\"We have to exclude {} records because they have an invalid sex value is specified.\".format(num_records - valid_sex))\n",
      "print()\n",
      "\n",
      "dispositions = Disposition.objects.filter(sex__in=['male', 'female']).values('case_number', 'dob', 'statute').distinct()\n",
      "num_dispositions = convictions.count()\n",
      "num_male = dispositions.filter(sex='male').count()\n",
      "num_female = dispositions.filter(sex='female').count()\n",
      "assert num_dispositions == num_male + num_female\n",
      "print(\"Of the records we could consider, there were {} convictions of males and {} convictions of females.\".format(num_male, num_female))\n",
      "times_male = float(num_male / num_female)\n",
      "print(\"That's {} times the number of convictions of males as the number of convictions of females.\".format(times_male))"
     ],
     "language": "python",
     "metadata": {},
     "outputs": [
      {
       "output_type": "stream",
       "stream": "stdout",
       "text": [
        "We have to exclude 301 records because they have an invalid sex value is specified.\n",
        "\n",
        "Of the records we could consider, there were 162244 convictions of males and 23275 convictions of females."
       ]
      },
      {
       "output_type": "stream",
       "stream": "stdout",
       "text": [
        "\n",
        "That's 6.970741138560688 times the number of convictions of males as the number of convictions of females.\n"
       ]
      }
     ],
     "prompt_number": 13
    },
    {
     "cell_type": "code",
     "collapsed": false,
     "input": [
      "print(Conviction.objects.all().male().count())\n",
      "print(Conviction.objects.all().female().count())"
     ],
     "language": "python",
     "metadata": {},
     "outputs": [
      {
       "output_type": "stream",
       "stream": "stdout",
       "text": [
        "122863\n",
        "18485"
       ]
      },
      {
       "output_type": "stream",
       "stream": "stdout",
       "text": [
        "\n"
       ]
      }
     ],
     "prompt_number": 13
    },
    {
     "cell_type": "markdown",
     "metadata": {},
     "source": [
      "## To what degree does the pool of those convicted vary spatially?  \n",
      "\n",
      "* Community Area - City only\n",
      "* Police District - city only\n",
      "* City vs. Suburban?"
     ]
    },
    {
     "cell_type": "code",
     "collapsed": false,
     "input": [
      "from convictions_data.models import CommunityArea\n",
      "\n",
      "chi_dispositions = Disposition.objects.exclude(community_area=None).values('case_number', 'dob', 'statute', 'community_area__name').distinct()\n",
      "chi_dispositions_by_ca = chi_dispositions.values('community_area__name').annotate(count=Count('pk')).order_by('-count')\n",
      "assert len(chi_dispositions_by_ca) == 77\n",
      "\n",
      "# Calculate the convictions for each community area\n",
      "total = 0\n",
      "dispositions_by_ca = []\n",
      "for ca in CommunityArea.objects.all():\n",
      "    num_ca_dispositions = ca.disposition_set.values('case_number', 'dob', 'statute').distinct().count()\n",
      "    dispositions_by_ca.append({\n",
      "      'name': ca.name,\n",
      "      'count': num_ca_dispositions,\n",
      "    })\n",
      "    total += num_ca_dispositions\n",
      "assert total == chi_dispositions.count()\n",
      "dispositions_by_ca = sorted(dispositions_by_ca, key=lambda x: x['count'])\n",
      "\n",
      "for ca in dispositions_by_ca:\n",
      "    print(\"{}: {}\".format(ca['name'], ca['count']))\n"
     ],
     "language": "python",
     "metadata": {},
     "outputs": [
      {
       "output_type": "stream",
       "stream": "stdout",
       "text": [
        "EDISON PARK: 53\n",
        "OHARE: 77\n",
        "FOREST GLEN: 123\n",
        "ARMOUR SQUARE: 125\n",
        "MOUNT GREENWOOD: 143\n",
        "NORTH PARK: 181\n",
        "HEGEWISCH: 211\n",
        "BURNSIDE: 214\n",
        "ARCHER HEIGHTS: 221\n",
        "MONTCLARE: 229\n",
        "OAKLAND: 280\n",
        "WEST ELSDON: 282\n",
        "NORWOOD PARK: 294\n",
        "FULLER PARK: 315\n",
        "CLEARING: 316\n",
        "MCKINLEY PARK: 323\n",
        "RIVERDALE: 329\n",
        "NORTH CENTER: 339\n",
        "JEFFERSON PARK: 381\n",
        "PULLMAN: 403\n",
        "LINCOLN PARK: 404\n",
        "EAST SIDE: 480\n",
        "AVALON PARK: 481\n",
        "BEVERLY: 482\n",
        "BRIDGEPORT: 513\n",
        "WEST LAWN: 545\n",
        "CALUMET HEIGHTS: 566\n",
        "KENWOOD: 575\n",
        "DUNNING: 578\n",
        "NEAR SOUTH SIDE: 612\n",
        "HYDE PARK: 660\n",
        "LAKE VIEW: 716\n",
        "MORGAN PARK: 748\n",
        "LINCOLN SQUARE: 762\n",
        "ALBANY PARK: 807\n",
        "HERMOSA: 867\n",
        "GARFIELD RIDGE: 885\n",
        "AVONDALE: 912\n",
        "LOOP: 933\n",
        "ASHBURN: 940\n",
        "EDGEWATER: 983\n",
        "GAGE PARK: 1052\n",
        "SOUTH DEERING: 1069\n",
        "PORTAGE PARK: 1127\n",
        "BRIGHTON PARK: 1211\n",
        "WEST RIDGE: 1241\n",
        "DOUGLAS: 1252\n",
        "WASHINGTON PARK: 1279\n",
        "IRVING PARK: 1279\n",
        "LOWER WEST SIDE: 1369\n",
        "WASHINGTON HEIGHTS: 1428\n",
        "NEAR NORTH SIDE: 1867\n",
        "GRAND BOULEVARD: 2024\n",
        "UPTOWN: 2096\n",
        "SOUTH CHICAGO: 2165\n",
        "CHATHAM: 2231\n",
        "ROGERS PARK: 2234\n",
        "WEST PULLMAN: 2260\n",
        "WOODLAWN: 2381\n",
        "LOGAN SQUARE: 2458\n",
        "GREATER GRAND CROSSING: 2461\n",
        "WEST TOWN: 2611\n",
        "BELMONT CRAGIN: 2672\n",
        "NEAR WEST SIDE: 3565\n",
        "SOUTH LAWNDALE: 3576\n",
        "SOUTH SHORE: 3690\n",
        "CHICAGO LAWN: 3737\n",
        "NEW CITY: 3817\n",
        "ROSELAND: 3974\n",
        "EAST GARFIELD PARK: 4027\n",
        "AUBURN GRESHAM: 4124\n",
        "ENGLEWOOD: 4645\n",
        "WEST GARFIELD PARK: 5505\n",
        "WEST ENGLEWOOD: 5601\n",
        "NORTH LAWNDALE: 6076\n",
        "HUMBOLDT PARK: 7279\n",
        "AUSTIN: 15383\n"
       ]
      }
     ],
     "prompt_number": 17
    },
    {
     "cell_type": "code",
     "collapsed": false,
     "input": [
      "from convictions_data.models import Conviction\n",
      "\n",
      "convictions = Conviction.objects.filter(community_area__name=\"ROGERS PARK\")\n",
      "print(\"There are {} convictions in Rogers Park\".format(convictions.count()))"
     ],
     "language": "python",
     "metadata": {},
     "outputs": [
      {
       "output_type": "stream",
       "stream": "stdout",
       "text": [
        "There are 1707 convictions in Rogers Park\n"
       ]
      }
     ],
     "prompt_number": 9
    },
    {
     "cell_type": "code",
     "collapsed": false,
     "input": [
      "# Get Homicides\n",
      "homicide_convictions = Conviction.objects.filter(iucr_code=\"0110\")\n",
      "print(\"There are {} homicide convictions\".format(homicide_convictions.count()))"
     ],
     "language": "python",
     "metadata": {},
     "outputs": [
      {
       "output_type": "stream",
       "stream": "stdout",
       "text": [
        "There are 31 homicide convictions\n"
       ]
      }
     ],
     "prompt_number": 7
    },
    {
     "cell_type": "code",
     "collapsed": false,
     "input": [
      "print(\"There are {} convictiosn that we are able to identify\".format(Conviction.objects.all().count()))"
     ],
     "language": "python",
     "metadata": {},
     "outputs": [
      {
       "output_type": "stream",
       "stream": "stdout",
       "text": [
        "There are 141461 convictiosn that we are able to identify\n"
       ]
      }
     ],
     "prompt_number": 8
    },
    {
     "cell_type": "code",
     "collapsed": false,
     "input": [
      "# Get Cannabis Convictions\n",
      "mj_convictions = Conviction.objects.filter(iucr_code__startswith=\"18\")\n",
      "print(\"There are only {} convictions related to the Cannabis Control Act??\".format(mj_convictions.count()))"
     ],
     "language": "python",
     "metadata": {},
     "outputs": [
      {
       "output_type": "stream",
       "stream": "stdout",
       "text": [
        "There are only 38 convictions related to the Cannabis Control Act??\n"
       ]
      }
     ],
     "prompt_number": 22
    },
    {
     "cell_type": "heading",
     "level": 1,
     "metadata": {},
     "source": [
      "Community Areas, Suburbs"
     ]
    },
    {
     "cell_type": "code",
     "collapsed": false,
     "input": [
      "from pprint import pprint\n",
      "import numpy as np\n",
      "import pandas as pd\n",
      "\n",
      "cas = CommunityArea.objects.all()\n",
      "# We can add custom annotations that aggregate conviction counts to community area.\n",
      "cas = cas.with_conviction_annotations()\n",
      "\n",
      "suburbs = CensusPlace.objects.chicago_suburbs().with_conviction_annotations()\n",
      "\n",
      "ca_convictions_per_capita = [ca.convictions_per_capita for ca in cas.order_by('convictions_per_capita')]\n",
      "suburbs_convictions_per_capita = [suburb.convictions_per_capita for suburb in suburbs.order_by('convictions_per_capita')]\n",
      "convictions_per_capita = ca_convictions_per_capita + suburbs_convictions_per_capita\n",
      "\n",
      "num_bins = 5\n",
      "# qcut, doesn't work very well because, making equal sized bins for both the suburbs and chicago, it\n",
      "# it has way more bins for low conviction rates\n",
      "#out, bins = pd.qcut(convictions_per_capita, num_bins, retbins=True)\n",
      "\n",
      "out, bins = pd.cut(convictions_per_capita, num_bins, retbins=True)\n",
      "\n",
      "print(\"These bins kind of suck.  We should use natural breaks\")\n",
      "print(bins)"
     ],
     "language": "python",
     "metadata": {},
     "outputs": [
      {
       "output_type": "stream",
       "stream": "stdout",
       "text": [
        "These bins kind of suck.  We should use natural breaks\n",
        "[-0.00021252  0.04250453  0.08500906  0.12751358  0.17001811  0.21252264]\n"
       ]
      }
     ],
     "prompt_number": 3
    },
    {
     "cell_type": "code",
     "collapsed": false,
     "input": [
      "import math\n",
      "import numpy as np\n",
      "import pandas as pd\n",
      "\n",
      "%matplotlib inline\n",
      "\n",
      "# Let's make a histogram to see if we can manually identify natural breaks\n",
      "\n",
      "# First, let's convert to cleaner numbers and make a frequency map\n",
      "\n",
      "#cpt_map = {}\n",
      "#for cpc in convictions_per_capita:\n",
      "#    convictions_per_thousand = round(cpc * 1000)\n",
      "#    try:convictions\n",
      "#        cpt_map[convictions_per_thousand] += 1\n",
      "#    except KeyError:\n",
      "#        cpt_map[convictions_per_thousand] = 1\n",
      "        \n",
      "#pd.options.display.mpl_style = 'default'\n",
      "#df = pd.DataFrame(cpt_map, index=cpt_map.keys())\n",
      "#df.plot(kind='bar')\n",
      "\n",
      "convictions_per_thousand = [round(cpc * 1000) for cpc in convictions_per_capita]\n",
      "print(max(convictions_per_thousand))\n",
      "s = pd.Series(convictions_per_thousand)\n",
      "\n",
      "s.hist()"
     ],
     "language": "python",
     "metadata": {},
     "outputs": [
      {
       "output_type": "stream",
       "stream": "stdout",
       "text": [
        "213\n"
       ]
      },
      {
       "metadata": {},
       "output_type": "pyout",
       "prompt_number": 20,
       "text": [
        "<matplotlib.axes.AxesSubplot at 0x7f3e33712fd0>"
       ]
      },
      {
       "metadata": {},
       "output_type": "display_data",
       "png": "[encoded data removed]",
       "text": [
        "<matplotlib.figure.Figure at 0x7f3e341d9630>"
       ]
      }
     ],
     "prompt_number": 20
    },
    {
     "cell_type": "code",
     "collapsed": false,
     "input": [
      "import math\n",
      "\n",
      "import numpy as np\n",
      "import pandas as pd\n",
      "\n",
      "%matplotlib inline\n",
      "\n",
      "cas = CommunityArea.objects.all().with_conviction_annotations()\n",
      "suburbs = CensusPlace.objects.chicago_suburbs().with_conviction_annotations()\n",
      "\n",
      "# CAF = crimes affecting women\n",
      "ca_caf_per_capita = [ca.affecting_women_per_capita for ca in cas.order_by('affecting_women_per_capita')]\n",
      "suburbs_caf_per_capita = [suburb.affecting_women_per_capita for suburb in suburbs.order_by('affecting_women_per_capita')]\n",
      "caf_per_capita = ca_caf_per_capita + suburbs_caf_per_capita\n",
      "\n",
      "caf_per_thousand = [round(cpc * 1000) for cpc in caf_per_capita]\n",
      "print(\"Max: {}\".format(max(caf_per_thousand)))\n",
      "print(\"Min: {}\".format(min(caf_per_thousand)))\n",
      "s = pd.Series(caf_per_thousand)\n",
      "\n",
      "s.hist()"
     ],
     "language": "python",
     "metadata": {},
     "outputs": [
      {
       "output_type": "stream",
       "stream": "stdout",
       "text": [
        "Max: 2\n",
        "Min: 0\n"
       ]
      },
      {
       "metadata": {},
       "output_type": "pyout",
       "prompt_number": 3,
       "text": [
        "<matplotlib.axes.AxesSubplot at 0x7f279c71ba58>"
       ]
      },
      {
       "metadata": {},
       "output_type": "display_data",
       "png": "[encoded data removed]",
       "text": [
        "<matplotlib.figure.Figure at 0x7f279c715fd0>"
       ]
      }
     ],
     "prompt_number": 3
    },
    {
     "cell_type": "heading",
     "level": 1,
     "metadata": {},
     "source": [
      "Without IUCR code"
     ]
    },
    {
     "cell_type": "code",
     "collapsed": false,
     "input": [
      "disp_miss = Disposition.objects.in_analysis().filter(iucr_code=\"\").values_list('final_statute').distinct()\n",
      "disp_miss.count()"
     ],
     "language": "python",
     "metadata": {},
     "outputs": [
      {
       "metadata": {},
       "output_type": "pyout",
       "prompt_number": 13,
       "text": [
        "1560"
       ]
      }
     ],
     "prompt_number": 13
    },
    {
     "cell_type": "code",
     "collapsed": false,
     "input": [
      "disp_all = Disposition.objects.in_analysis().values_list('final_statute').distinct()\n",
      "disp_all.count()"
     ],
     "language": "python",
     "metadata": {},
     "outputs": [
      {
       "metadata": {},
       "output_type": "pyout",
       "prompt_number": 16,
       "text": [
        "2339"
       ]
      }
     ],
     "prompt_number": 16
    },
    {
     "cell_type": "code",
     "collapsed": false,
     "input": [
      "# SELECT final_statute, COUNT(*) AS num_dispositions\n",
      "# FROM convictions_data_disposition\n",
      "# WHERE initial_date >= '2005-01-01' AND chrgdispdate >= '2005-01-01'\n",
      "# AND iucr_code = \"\"\n",
      "# GROUP BY final_statute\n",
      "# ORDER BY num_dispositions DESC;\n",
      "wo_iucr = Disposition.objects.in_analysis().filter(iucr_code=\"\").values(\"final_statute\").annotate(num_dispositions=Count('id')).order_by('-num_dispositions')\n",
      "for d in wo_iucr[:10]:\n",
      "    print(d['final_statute'], d['num_dispositions'])"
     ],
     "language": "python",
     "metadata": {},
     "outputs": []
    },
    {
     "cell_type": "markdown",
     "metadata": {},
     "source": [
      "# Drug charges by amount"
     ]
    },
    {
     "cell_type": "code",
     "collapsed": false,
     "input": [
      "d = Conviction.objects.filter(final_statute='720-550/4(a)')\n",
      "print(\"{} convictions for possession of cannabis, less than 2.5 grams\".format(d.count()))\n",
      "\n",
      "d = Conviction.objects.filter(final_statute='720-550/5(a)')\n",
      "print(\"{} convictions for man/del of cannabis, less than 2.5 grams\".format(d.count()))"
     ],
     "language": "python",
     "metadata": {},
     "outputs": [
      {
       "output_type": "stream",
       "stream": "stdout",
       "text": [
        "15 convictions for possession of cannabis, less than 2.5 grams\n",
        "24 convictions for man/del of cannabis, less than 2.5 grams"
       ]
      },
      {
       "output_type": "stream",
       "stream": "stdout",
       "text": [
        "\n"
       ]
      }
     ],
     "prompt_number": 58
    },
    {
     "cell_type": "code",
     "collapsed": false,
     "input": [
      "d = Conviction.objects.filter(final_statute='720-550/4(b)')\n",
      "d.count()\n",
      "print(\"{} convictions for possession of cannabis\".format(d.count()))\n",
      "\n",
      "d = Conviction.objects.filter(final_statute='720-550/5(b)')\n",
      "d.count()\n",
      "print(\"{} convictions for man/del of cannabis\".format(d.count()))"
     ],
     "language": "python",
     "metadata": {},
     "outputs": [
      {
       "output_type": "stream",
       "stream": "stdout",
       "text": [
        "107 convictions for possession of cannabis\n",
        "298 convictions for man/del of cannabis"
       ]
      },
      {
       "output_type": "stream",
       "stream": "stdout",
       "text": [
        "\n"
       ]
      }
     ],
     "prompt_number": 59
    },
    {
     "cell_type": "code",
     "collapsed": false,
     "input": [
      "d = Conviction.objects.filter(final_statute='720-550/4(c)')\n",
      "print(\"{} convictions for poss cannabis\".format(d.count()))\n",
      "\n",
      "d = Conviction.objects.filter(final_statute='720-550/5(c)')\n",
      "print(\"{} convictions for man/del cannabis\".format(d.count()))"
     ],
     "language": "python",
     "metadata": {},
     "outputs": [
      {
       "output_type": "stream",
       "stream": "stdout",
       "text": [
        "479 convictions for poss cannabis\n",
        "716 convictions for man/del cannabis"
       ]
      },
      {
       "output_type": "stream",
       "stream": "stdout",
       "text": [
        "\n"
       ]
      }
     ],
     "prompt_number": 61
    },
    {
     "cell_type": "code",
     "collapsed": false,
     "input": [
      "d = Conviction.objects.filter(final_statute='720-550/4(d)')\n",
      "d.count()\n",
      "\n",
      "print(\"{} convictions for poss cannabis\".format(d.count()))\n",
      "\n",
      "d = Conviction.objects.filter(final_statute='720-550/5(d)')\n",
      "d.count()\n",
      "\n",
      "print(\"{} convictions for man/del cannabis\".format(d.count()))\n"
     ],
     "language": "python",
     "metadata": {},
     "outputs": [
      {
       "output_type": "stream",
       "stream": "stdout",
       "text": [
        "961 convictions for poss cannabis\n",
        "770 convictions for man/del cannabis"
       ]
      },
      {
       "output_type": "stream",
       "stream": "stdout",
       "text": [
        "\n"
       ]
      }
     ],
     "prompt_number": 64
    },
    {
     "cell_type": "code",
     "collapsed": false,
     "input": [
      "# possession of cannabis, 500 - 2000 grams\n",
      "d = Conviction.objects.filter(final_statute='720-550/4(e)')\n",
      "print(d.count())\n",
      "\n",
      "d = Conviction.objects.filter(final_statute='720-550/5(e)')\n",
      "print(d.count()"
     ],
     "language": "python",
     "metadata": {},
     "outputs": [
      {
       "metadata": {},
       "output_type": "pyout",
       "prompt_number": 65,
       "text": [
        "145"
       ]
      }
     ],
     "prompt_number": 65
    },
    {
     "cell_type": "code",
     "collapsed": false,
     "input": [
      "# possession of cannabis, less than 2000 - 5000 grams\n",
      "d = Conviction.objects.filter(final_statute='720-550/4(f)')\n",
      "d.count()"
     ],
     "language": "python",
     "metadata": {},
     "outputs": [
      {
       "metadata": {},
       "output_type": "pyout",
       "prompt_number": 48,
       "text": [
        "17"
       ]
      }
     ],
     "prompt_number": 48
    },
    {
     "cell_type": "code",
     "collapsed": false,
     "input": [
      "# possession of cannabis, 5000+ grams\n",
      "d = Conviction.objects.filter(final_statute='720-550/4(g)')\n",
      "d.count()"
     ],
     "language": "python",
     "metadata": {},
     "outputs": [
      {
       "metadata": {},
       "output_type": "pyout",
       "prompt_number": 49,
       "text": [
        "15"
       ]
      }
     ],
     "prompt_number": 49
    },
    {
     "cell_type": "heading",
     "level": 2,
     "metadata": {},
     "source": [
      "Possession vs. delivery in the Cannabis Control Act"
     ]
    },
    {
     "cell_type": "markdown",
     "metadata": {},
     "source": [
      "Possession vs. delivery in the Cannabis Control Act (e.g. 720-550/4(a-c)\n",
      "vs. 720-550/5(a-c) & 5.2(c-e)), particularly when looking at possession vs \n",
      "delivery of the same amounts of cannabis (under 30 g, or over 30g) "
     ]
    },
    {
     "cell_type": "code",
     "collapsed": false,
     "input": [
      "def statute_range(chapter, act_prefix, section, subsection_start, subsection_end):\n",
      "    \"\"\"Helper function to create a list representing a range of statutes\"\"\"\n",
      "    return [\"{}-{}/{}({})\".format(chapter, act_prefix, section, chr(subsection))\n",
      "            for subsection in range(ord(subsection_start), ord(subsection_end)+1)]\n",
      "\n",
      "possession_statutes = statute_range(720, 550, 4, 'a', 'c')\n",
      "delivery_statutes = statute_range(720, 550, 5, 'a', 'c') + statute_range(720, 550, 5.2, 'c', 'e')\n",
      "all_statutes = possession_statutes + delivery_statutes\n",
      "\n",
      "cca_convictions = Conviction.objects.filter(final_statute__in=all_statutes)\n",
      "annotated = cca_convictions.values('final_statute').annotate(num_convictions=Count('id'))\n",
      "statute2convictions = {c['final_statute']: {'count': c['num_convictions'], 'statute': c['final_statute']} for c in annotated}\n",
      "for m in Conviction.objects.filter(final_statute__in=all_statutes).values('final_statute', 'final_chrgdesc').distinct():\n",
      "    try:\n",
      "        statute2convictions[m['final_statute']]['chrgdesc'].append(m['final_chrgdesc'])\n",
      "    except KeyError:\n",
      "        statute2convictions[m['final_statute']]['chrgdesc'] = [m['final_chrgdesc']]\n",
      "print(statute2convictions)"
     ],
     "language": "python",
     "metadata": {},
     "outputs": []
    },
    {
     "cell_type": "code",
     "collapsed": false,
     "input": [
      "plt.plot([1,2,3,4])"
     ],
     "language": "python",
     "metadata": {},
     "outputs": []
    },
    {
     "cell_type": "heading",
     "level": 2,
     "metadata": {},
     "source": [
      "Controlled Substances Act vs. Cannibis Control Act: Delivery to persons under 18 "
     ]
    },
    {
     "cell_type": "markdown",
     "metadata": {},
     "source": [
      "How does delivery to persons under 18 under the controlled substances act (720-570/407) compared to delivery for a person under 18 of cannabis (720-550/7) ? "
     ]
    },
    {
     "cell_type": "heading",
     "level": 2,
     "metadata": {},
     "source": [
      "Possession of meth vs. possession of a controlled substance"
     ]
    },
    {
     "cell_type": "markdown",
     "metadata": {},
     "source": [
      "Possession of meth (720-646/60) vs. possession of a controlled substance like heroine or cocaine (720-570/402)"
     ]
    },
    {
     "cell_type": "heading",
     "level": 2,
     "metadata": {},
     "source": [
      "Difference between manufacturing and criminal drug conspiracy"
     ]
    },
    {
     "cell_type": "markdown",
     "metadata": {},
     "source": [
      "Difference between manufacturing (720-570/401, 401.1 & 401.5) and criminal drug conspiracy (720-570/405, 405.1 & 405.2)"
     ]
    },
    {
     "cell_type": "heading",
     "level": 1,
     "metadata": {},
     "source": [
      "Overall crime counts"
     ]
    },
    {
     "cell_type": "code",
     "collapsed": false,
     "input": [
      "Conviction.objects.count()"
     ],
     "language": "python",
     "metadata": {},
     "outputs": [
      {
       "metadata": {},
       "output_type": "pyout",
       "prompt_number": 8,
       "text": [
        "141461"
       ]
      }
     ],
     "prompt_number": 8
    },
    {
     "cell_type": "code",
     "collapsed": false,
     "input": [
      "from functools import reduce\n",
      "\n",
      "# There are custom QuerySet and Manager methods for filtering convictions into our main categories\n",
      "# based on crime type.\n",
      "violent_index = Conviction.objects.violent_index_crimes()\n",
      "property_index = Conviction.objects.property_index_crimes()\n",
      "drugs = Conviction.objects.drug_crimes()\n",
      "affecting_women = Conviction.objects.crimes_affecting_women()\n",
      "\n",
      "# Let's output this as JSON\n",
      "series_qss = [violent_index, property_index, drugs]\n",
      "series_labels = [\"Violent Index Crimes\", \"Property Index Crimes\",\"Drug Crimes\"]\n",
      "series = [{'label': series_labels[i], 'value': series_qss[i].count()} for i in range(len(series_qss))]\n",
      "total = reduce(lambda x, y: x + y['value'], series, 0)\n",
      "series.append({\n",
      "  'label': \"Uncategorized\",\n",
      "   'value': Conviction.objects.count() - total,\n",
      "})\n",
      "\n",
      "for item in series:\n",
      "    print(\"{}: {}\".format(item['label'], item['value']))"
     ],
     "language": "python",
     "metadata": {},
     "outputs": [
      {
       "output_type": "stream",
       "stream": "stdout",
       "text": [
        "Violent Index Crimes: 4183\n",
        "Property Index Crimes: 10477\n",
        "Drug Crimes: 48002\n",
        "Uncategorized: 78799\n"
       ]
      }
     ],
     "prompt_number": 1
    },
    {
     "cell_type": "code",
     "collapsed": false,
     "input": [
      "# Confirm that our updated drug queries don't overlap with our other categories\n",
      "violent_index = Conviction.objects.violent_index_crimes()\n",
      "property_index = Conviction.objects.property_index_crimes()\n",
      "assert violent_index.drug_crimes().count() == 0\n",
      "assert property_index.drug_crimes().count() == 0"
     ],
     "language": "python",
     "metadata": {},
     "outputs": [],
     "prompt_number": 13
    },
    {
     "cell_type": "heading",
     "level": 1,
     "metadata": {},
     "source": [
      "Drug crime counts"
     ]
    },
    {
     "cell_type": "markdown",
     "metadata": {},
     "source": [
      "These were our original categories."
     ]
    },
    {
     "cell_type": "code",
     "collapsed": false,
     "input": [
      "mfg_delivery_non_cannibus = Conviction.objects.mfg_delivery_non_cannabis_crimes()\n",
      "dealing_in_school_area = Conviction.objects.dealing_in_school_area_crimes()\n",
      "cannibus = Conviction.objects.cannabis_crimes()\n",
      "possession = Conviction.objects.possession_crimes()\n",
      "\n",
      "series_qss = [mfg_delivery_non_cannibus, dealing_in_school_area, cannibus, possession]\n",
      "series_labels = [\"Manufacture or delivery of non-cannibus drugs\", \"Dealing in a school Area\", \"Cannibus related\", \"Non-cannibus possession\"]\n",
      "series = [{'label': series_labels[i], 'value': series_qss[i].count()} for i in range(len(series_qss))]\n",
      "print(json.dumps(series))"
     ],
     "language": "python",
     "metadata": {},
     "outputs": [
      {
       "output_type": "stream",
       "stream": "stdout",
       "text": [
        "[{\"value\": 3825, \"label\": \"Manufacture or delivery of non-cannibus drugs\"}, {\"value\": 4015, \"label\": \"Dealing in a school Area\"}, {\"value\": 33679, \"label\": \"Cannibus related\"}, {\"value\": 38521, \"label\": \"Non-cannibus possession\"}]\n"
       ]
      }
     ],
     "prompt_number": 3
    },
    {
     "cell_type": "code",
     "collapsed": false,
     "input": [
      "import json\n",
      "from convictions_data.models import Conviction\n",
      "\n",
      "# By class\n",
      "print(json.dumps(Conviction.objects.drug_by_class()))\n",
      "\n",
      "print()\n",
      "\n",
      "# By drug type\n",
      "print(json.dumps(Conviction.objects.drug_by_drug_type()))"
     ],
     "language": "python",
     "metadata": {},
     "outputs": [
      {
       "output_type": "stream",
       "stream": "stdout",
       "text": [
        "[{\"felony_1\": {\"value\": 5744, \"label\": \"Class 1 Felony\"}, \"unkwn_class\": {\"value\": 4530, \"label\": \"Unknown Class\"}, \"felony_2\": {\"value\": 8555, \"label\": \"Class 2 Felony\"}, \"misd_b\": {\"value\": 25, \"label\": \"Class B Misdemeanor\"}, \"misd_a\": {\"value\": 691, \"label\": \"Class A Misdemeanor\"}, \"label\": \"Manufacture or Delivery\", \"felony_x\": {\"value\": 34, \"label\": \"Class X Felony\"}, \"felony_3\": {\"value\": 1223, \"label\": \"Class 3 Felony\"}, \"felony_4\": {\"value\": 1762, \"label\": \"Class 4 Felony\"}}, {\"felony_1\": {\"value\": 554, \"label\": \"Class 1 Felony\"}, \"misd_c\": {\"value\": 32, \"label\": \"Class C Misdemeanor\"}, \"misd_b\": {\"value\": 112, \"label\": \"Class B Misdemeanor\"}, \"felony_4\": {\"value\": 32127, \"label\": \"Class 4 Felony\"}, \"unkwn_class\": {\"value\": 16, \"label\": \"Unknown Class\"}, \"felony_2\": {\"value\": 40, \"label\": \"Class 2 Felony\"}, \"misd_a\": {\"value\": 74, \"label\": \"Class A Misdemeanor\"}, \"label\": \"Possession\", \"felony_x\": {\"value\": 0, \"label\": \"Class X Felony\"}, \"felony_3\": {\"value\": 189, \"label\": \"Class 3 Felony\"}, \"no_class\": {\"value\": 1, \"label\": \"No Class\"}}]\n",
        "\n",
        "[{\"ecstasy\": {\"value\": 20, \"label\": \"Ecstasy\"}, \"lsd\": {\"value\": 2, \"label\": \"LSD\"}, \"heroin\": {\"value\": 2100, \"label\": \"Heroin\"}, \"no_drug\": {\"value\": 4524, \"label\": \"Enhancement\"}, \"amphetamine\": {\"value\": 0, \"label\": \"Amphetamine\"}, \"cocaine\": {\"value\": 3504, \"label\": \"Cocaine\"}, \"pcp\": {\"value\": 8, \"label\": \"PCP\"}, \"cannabis\": {\"value\": 3694, \"label\": \"Cannabis\"}, \"label\": \"Manufacture or Delivery\", \"other_drug\": {\"value\": 8656, \"label\": \"Other or Unspecified Drug\"}, \"meth\": {\"value\": 44, \"label\": \"Methamphetamine\"}, \"sched_1_2\": {\"value\": 16, \"label\": \"Schedule 1 & 2\"}}, {\"steroids\": {\"value\": 8, \"label\": \"Steroids\"}, \"heroin\": {\"value\": 64, \"label\": \"Heroin\"}, \"no_drug\": {\"value\": 1, \"label\": \"Enhancement\"}, \"cocaine\": {\"value\": 415, \"label\": \"Cocaine\"}, \"cannabis\": {\"value\": 1961, \"label\": \"Cannabis\"}, \"barbituric\": {\"value\": 2, \"label\": \"Barbituric Acid\"}, \"label\": \"Possession\", \"other_drug\": {\"value\": 38, \"label\": \"Other or Unspecified Drug\"}, \"meth\": {\"value\": 126, \"label\": \"Methamphetamine\"}, \"unkwn_drug\": {\"value\": 30449, \"label\": \"Unknown Drug\"}, \"ecstasy\": {\"value\": 40, \"label\": \"Ecstasy\"}, \"lsd\": {\"value\": 2, \"label\": \"LSD\"}, \"ketamine\": {\"value\": 0, \"label\": \"Ketamine\"}, \"amphetamine\": {\"value\": 0, \"label\": \"Amphetamine\"}, \"morphine\": {\"value\": 2, \"label\": \"Morphine\"}, \"pcp\": {\"value\": 2, \"label\": \"PCP\"}, \"sched_1_2\": {\"value\": 6, \"label\": \"Schedule 1 & 2\"}}]"
       ]
      },
      {
       "output_type": "stream",
       "stream": "stdout",
       "text": [
        "\n"
       ]
      }
     ],
     "prompt_number": 1
    },
    {
     "cell_type": "code",
     "collapsed": false,
     "input": [
      "mfg_del_other_query_methods = [\n",
      "    \"mfg_del_methaqualone_gt_30_g\",\n",
      "    \"mfg_del_att_sched_iv_class_3\",\n",
      "    \"mfg_del_cntft_sub\",\n",
      "    \"mfg_del_att_cntft_sub\",\n",
      "    \"mfg_del_class_2_other_amt\",\n",
      "    \"mfg_del_att_lookalike\",\n",
      "    \"mfg_del_unauth\",\n",
      "    \"mfg_del_chemical_breakdown\",\n",
      "]\n",
      "\n",
      "for method_name in mfg_del_other_query_methods:\n",
      "    method = getattr(Conviction.objects, method_name)\n",
      "    qs = method()\n",
      "    print(method_name, qs.count())\n",
      "    \n",
      "print(Conviction.objects.mfg_del_class_2_felony().count())"
     ],
     "language": "python",
     "metadata": {},
     "outputs": [
      {
       "output_type": "stream",
       "stream": "stdout",
       "text": [
        "mfg_del_methaqualone_gt_30_g 2\n",
        "mfg_del_att_sched_iv_class_3"
       ]
      },
      {
       "output_type": "stream",
       "stream": "stdout",
       "text": [
        " 1\n",
        "mfg_del_cntft_sub"
       ]
      },
      {
       "output_type": "stream",
       "stream": "stdout",
       "text": [
        " 1\n",
        "mfg_del_att_cntft_sub"
       ]
      },
      {
       "output_type": "stream",
       "stream": "stdout",
       "text": [
        " 1\n",
        "mfg_del_class_2_other_amt"
       ]
      },
      {
       "output_type": "stream",
       "stream": "stdout",
       "text": [
        " 8283\n",
        "mfg_del_att_lookalike"
       ]
      },
      {
       "output_type": "stream",
       "stream": "stdout",
       "text": [
        " 364\n",
        "mfg_del_unauth"
       ]
      },
      {
       "output_type": "stream",
       "stream": "stdout",
       "text": [
        " 3\n",
        "mfg_del_chemical_breakdown"
       ]
      },
      {
       "output_type": "stream",
       "stream": "stdout",
       "text": [
        " 1\n",
        "8555"
       ]
      },
      {
       "output_type": "stream",
       "stream": "stdout",
       "text": [
        "\n"
       ]
      }
     ],
     "prompt_number": 6
    },
    {
     "cell_type": "code",
     "collapsed": false,
     "input": [
      "import csv, sys\n",
      "import io\n",
      "from convictions_data.query.drugs import *\n",
      "from convictions_data.models import Conviction, Disposition\n",
      "\n",
      "def csv_out(disps):\n",
      "    writer = csv.DictWriter(sys.stdout, fieldnames=['final_chrgdesc', 'final_statute'])\n",
      "    writer.writeheader()\n",
      "    for d in disps:\n",
      "        writer.writerow(d)\n",
      "\n",
      "def chrgdesc_statute_pairs(qs, filter_by='final_chrgdesc'):\n",
      "    return sorted(qs.values('final_chrgdesc', 'final_statute').distinct(),\n",
      "        key=lambda d: d['final_chrgdesc'])\n",
      "\n",
      "diffqs = Disposition.objects.filter(possession_chrgdesc_query).exclude(poss_query)\n",
      "pairs = chrgdesc_statute_pairs(diffqs)\n",
      "csv_out(pairs)\n",
      "\n",
      "#dispqs = Disposition.objects.filter(possession_chrgdesc_query)\n",
      "#pairs = chrgdesc_statute_pairs(dispqs, 'final_statute')\n",
      "#csv_out(pairs)\n",
      "\n",
      "# BOOKMARK\n",
      "\n",
      "#q = mfg_del_lsd_class_2_query\n",
      "#disps = chrgdesc_statute_pairs(Disposition.objects.filter(q))\n",
      "#csv_out(disps)"
     ],
     "language": "python",
     "metadata": {},
     "outputs": [
      {
       "output_type": "stream",
       "stream": "stdout",
       "text": [
        "final_chrgdesc,final_statute\r\n",
        "ATTEMPT POSS CONTROL SUBSTANCE,720 5/8-4 570 401(D)\r\n",
        "BRING/POSS/CANNABIS/PENAL INST,720-5/31A-1.1(e)\r\n",
        "BRING/POSS/CON SUB/PENAL INST,720-5/31A-1.1(g)\r\n",
        "POSS ANY SUB WITH INTENT,720-570/401.5(a-5)\r\n",
        "POSS ANY SUB WITH INTENT,720-570/401(C)(2)\r\n",
        "POSS CANN 2000<5000GR W/INTENT,720-550/5(F)\r\n",
        "POSS CANNABIS PENAL INST,720-5/31A-1.1 B I\r\n",
        "POSS CANNABIS W/I DEL,720-550/5.2(D)\r\n",
        "POSS CON SUB W/INTENT TO DELIV,720-570/401(D)\r\n",
        "POSS CONT SUB,56.5-1402-B\r\n",
        "POSS CONT SUB SCH PROP,56.5.1407-B(2)\r\n",
        "POSS CONT SUB W/ INT DELIVER,720-570/401(C)(2)\r\n",
        "POSS CONT SUB W/INT TO DEL,720-570/401(C)(1)\r\n",
        "POSS CONT SUB W/INTENT TO DEL,720-570/401(D)\r\n",
        "POSS CONT SUB/WITH INTENT DEL,720-570/401(C)(1)\r\n",
        "POSS CONT SUBSTANCE W/ INTENT,720-570/401(C)(1)\r\n",
        "POSS CONTR SUB W/INT DELIVER,720-570/401(C)(1)\r\n",
        "POSS CONTROL SUB INTENT DEL,720-570/401(C)(1)\r\n",
        "POSS CONTROLLED SUB PENAL,720-5/31A-1.1(B)\r\n",
        "POSS CONTROLLED SUB PENAL INST,720-5/31A-1.1(B)\r\n",
        "POSS CONTROLLED SUB PENAL INST,720-5/31A-1.1(b)\r\n",
        "POSS CONTROLLED SUB W/INT DEL,720-570/401(D)\r\n",
        "POSS CONTROLLED SUB W/INTENT D,720-570/401(C)(1)\r\n",
        "POSS CTL SUBST W/INT TO DEL,720-570/401 (C)\r\n",
        "POSS CTL SUBST W/INT TO DEL,720-570/401 (C)(2)\r\n",
        "POSS CTL SUBST W/INTENT TO DEL,720-570/401 (C) (2)\r\n",
        "POSS MANU CHEM/<15 GRAMS METH,720-570/401(d-5)\r\n",
        "POSS OF A CON SUB W/INT TO DEL,720-570/401(A)(1)(A)\r\n",
        "POSS OF A CONTROL SUB WITH INT,720-570/401(C)(2)\r\n",
        "POSS OF A CONTROLLED SUB W/INT,720-570/401(C)(1)\r\n",
        "POSS OF CANABIS,720-550/5(C)\r\n",
        "POSS OF CANN 2.5 LESS THAN 10G,720-550/5(B)\r\n",
        "POSS OF CANNABIS,720-550/5(D)\r\n",
        "POSS OF CANNABIS W/INT TO DEL,720-550/5E\r\n",
        "POSS OF CONT SUB W/INT TO DEL,720-570/401(C)(1)\r\n",
        "POSS OF CONT SUBST W/INT DELIV,720-570/401(C)(7.5) (A)\r\n",
        "POSS W/INT TO DEL. 01-14 GR HE,720-570/401(C)(1)\r\n",
        "POSS W/INTENT 1-15 GR HEROIN/A,720-570/401(C)(1)\r\n",
        "POSS W/INTENT TO DELIVER/COCAI,720-570/401(C)(2)\r\n",
        "POSS WITH INTENT TO DELIVER,720-570/401(D)\r\n",
        "POSS.CANN.W/INTENT,720-550/5(C)\r\n",
        "POSS.CANN.W/INTENT,720-550/5-C\r\n",
        "POSS.CANN.W/INTENT TO DELIVER,720-550/5(C)\r\n",
        "POSS.CANNABIS,720-550/5(C)\r\n",
        "POSS.CANNABIS,720-550/5-B\r\n",
        "POSS.CANNABIS,720-550/5-C\r\n",
        "POSS.CANNABIS W/INTENT,720-550/5-C\r\n",
        "POSS.CONT SUB W/INTENT,720-570/401(C)(2)\r\n",
        "POSS.CONT SUB.,720-570/401-D\r\n",
        "POSS.CONT.SUB.W/INTENT,720-550/5(B)\r\n",
        "POSS.CONT.SUB.W/INTENT TO DEL.,720-570/401(C)(2)\r\n",
        "POSS.CONT.SUBS.PENAL INST.,720-5/31A-1.1(A)\r\n",
        "POSS.OF CANNABIS,720-550/5(C)\r\n",
        "POSS.OF CANNABISW/INTENT,720-550/5/(B)\r\n",
        "POSS/INT DEL 1>15 GR COCAINE,720-570/401(C)(2)\r\n",
        "POSSESION WITH INTENT TO DEL,720-570/401(C)(7.5)(I)\r\n",
        "POSSESS CANNABIS W/I DEL,720-550/5(D)\r\n",
        "POSSESS CANNABIS W/INTENTMS,720-550/5(C)\r\n",
        "POSSESS CANNIBIS PENAL IN,720-5/31A-1.1(B)\r\n",
        "POSSESS CANNIBIS PENAL INST,720-5/31A-1.1(B)\r\n",
        "POSSESS CANNIBIS PENAL INST,720-5/31A-1.1(b)\r\n",
        "POSSESS COCAINE W/I DEL,720-570/401(C)(2)\r\n",
        "POSSESS HEROIN W/I DEL,720-570/401(C)(1)\r\n",
        "POSSESSION CANNABIS,720-550/5(B)\r\n",
        "POSSESSION CONT SUB W/ INT,720-570/401(C)\r\n",
        "POSSESSION OF CANNABIS,720-550/5(B)\r\n",
        "POSSESSION OF CANNABIS.,720-550/5(C)\r\n",
        "POSSESSION OF CANNIBIS,720-550/5(C)\r\n",
        "POSSESSION WITH INTENT TO DEL,720-570/401(C)(1)\r\n",
        "POSSESSION WITH INTENT TO DELI,720-570/401(C)(2)\r\n",
        "POSSN W/INT DLV 1 - 14 GR HERO,720 570/401(C)(1)\r\n"
       ]
      }
     ],
     "prompt_number": 1
    },
    {
     "cell_type": "heading",
     "level": 1,
     "metadata": {},
     "source": [
      "Charge description to category mappings"
     ]
    },
    {
     "cell_type": "code",
     "collapsed": false,
     "input": [
      "dispositions = Disposition.objects.filter(final_chrgdesc=\"ATT.FORGERY\")\n",
      "for d in dispositions:\n",
      "    print(d.case_number, d.final_statute)"
     ],
     "language": "python",
     "metadata": {},
     "outputs": [
      {
       "output_type": "stream",
       "stream": "stdout",
       "text": [
        "2007CR1475501 720-5/8-4(720-5/17-3(A)(1)\n",
        "2007CR1475501 720-5/8-4(720-5/17-3(A)(1)\n",
        "2007CR1475501 720-5/8-4(720-5/17-3(A)(1)\n",
        "2008CR0853801 720-5/8-4(720-5/17-3(A)(2)\n",
        "2008CR0853801 720-5/8-4(720-5/17-3(A)(2)\n",
        "2008CR1582701 720-5(8-4)/17-3(A)(2)\n"
       ]
      }
     ],
     "prompt_number": 8
    },
    {
     "cell_type": "code",
     "collapsed": false,
     "input": [
      "l = Conviction.objects.values_list('final_chrgdesc').distinct()\n",
      "print(len(l))"
     ],
     "language": "python",
     "metadata": {},
     "outputs": [
      {
       "output_type": "stream",
       "stream": "stdout",
       "text": [
        "2613\n"
       ]
      }
     ],
     "prompt_number": 11
    },
    {
     "cell_type": "code",
     "collapsed": false,
     "input": [
      "from convictions_data.models import Conviction\n",
      "print(Conviction.objects.crimes_affecting_women().count())\n",
      "print(Conviction.objects.crimes_affecting_women().male().count())\n",
      "print(Conviction.objects.crimes_affecting_women().female().count())\n",
      "print(Conviction.objects.crimes_affecting_women().unkwn_sex().count())"
     ],
     "language": "python",
     "metadata": {},
     "outputs": [
      {
       "output_type": "stream",
       "stream": "stdout",
       "text": [
        "652\n",
        "595"
       ]
      },
      {
       "output_type": "stream",
       "stream": "stdout",
       "text": [
        "\n",
        "54"
       ]
      },
      {
       "output_type": "stream",
       "stream": "stdout",
       "text": [
        "\n",
        "3"
       ]
      },
      {
       "output_type": "stream",
       "stream": "stdout",
       "text": [
        "\n"
       ]
      }
     ],
     "prompt_number": 19
    },
    {
     "cell_type": "code",
     "collapsed": false,
     "input": [
      "print(Conviction.objects.filter(final_statute__icontains=\"8-4\").count())\n",
      "print(Disposition.objects.filter(final_statute__icontains=\"8-4\").count())"
     ],
     "language": "python",
     "metadata": {},
     "outputs": [
      {
       "output_type": "stream",
       "stream": "stdout",
       "text": [
        "2514\n",
        "6363"
       ]
      },
      {
       "output_type": "stream",
       "stream": "stdout",
       "text": [
        "\n"
       ]
      }
     ],
     "prompt_number": 23
    },
    {
     "cell_type": "heading",
     "level": 2,
     "metadata": {},
     "source": [
      "Sexual and Domestic Violence"
     ]
    },
    {
     "cell_type": "code",
     "collapsed": false,
     "input": [
      "# Sexual and Domestic Violence, disparity across community areas\n",
      "from convictions_data.models import CommunityArea, CensusPlace\n",
      "\n",
      "cas = CommunityArea.objects.all().with_conviction_annotations()\n",
      "places = CensusPlace.objects.all().with_conviction_annotations()\n",
      "\n",
      "cas = cas.order_by('num_affecting_women')\n",
      "ca_last = cas.last()\n",
      "print(ca_last.name, ca_last.num_affecting_women, ca_last.affecting_women_per_capita)\n",
      "\n",
      "places = places.order_by('num_affecting_women')\n",
      "place_last = places.last()\n",
      "print(place_last.name, place_last.num_affecting_women, place_last.affecting_women_per_capita)\n",
      "\n",
      "cas = cas.order_by('affecting_women_per_capita')\n",
      "ca_last = cas.last()\n",
      "print(ca_last.name, ca_last.num_affecting_women, ca_last.affecting_women_per_capita)\n",
      "\n",
      "places = places.order_by('affecting_women_per_capita')\n",
      "place_last = places.last()\n",
      "print(place_last.name, place_last.num_affecting_women, place_last.affecting_women_per_capita)"
     ],
     "language": "python",
     "metadata": {},
     "outputs": [
      {
       "output_type": "stream",
       "stream": "stdout",
       "text": [
        "AUSTIN 28 0.00028116401903882074\n",
        "Cicero"
       ]
      },
      {
       "output_type": "stream",
       "stream": "stdout",
       "text": [
        " 21 0.00025200403206451305\n",
        "WASHINGTON PARK"
       ]
      },
      {
       "output_type": "stream",
       "stream": "stdout",
       "text": [
        " 7 0.0006680664248902462\n",
        "Golf"
       ]
      },
      {
       "output_type": "stream",
       "stream": "stdout",
       "text": [
        " 1 0.0016863406408094434\n"
       ]
      }
     ],
     "prompt_number": 3
    },
    {
     "cell_type": "code",
     "collapsed": false,
     "input": [],
     "language": "python",
     "metadata": {},
     "outputs": []
    }
   ],
   "metadata": {}
  }
 ]
}